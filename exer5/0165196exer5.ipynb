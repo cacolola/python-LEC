{
 "cells": [
  {
   "cell_type": "markdown",
   "metadata": {},
   "source": [
    "## 第五次练习"
   ]
  },
  {
   "cell_type": "markdown",
   "metadata": {},
   "source": [
    "+ 请务必交到exer5文件夹下，**谢绝交到master下**\n",
    "+ 请不要改动任何文件，拜托\n",
    "+ 请在11月7日前提交。"
   ]
  },
  {
   "cell_type": "markdown",
   "metadata": {},
   "source": [
    "请写一下姓名和学号：\n",
    "+ 姓名  胡璟玥\n",
    "+ 学号  0165196"
   ]
  },
  {
   "cell_type": "markdown",
   "metadata": {},
   "source": [
    "#### 题目一、贫困户模型\n",
    "+ 创建一个类，包含贫困户的义务教育保障、住房安全、饮水安全、肉蛋奶豆的四个属性\n",
    "+ 包含一个是否贫困的预测，如果四个属性有两个以上没有保障（>2)则输出为贫困户\n",
    "+ 对贫困户，采取相应措施（输入参数）对其进行帮扶，使其脱贫\n",
    "+ 至少生成三个实例\n"
   ]
  },
  {
   "cell_type": "code",
   "execution_count": 10,
   "metadata": {
    "collapsed": false
   },
   "outputs": [
    {
     "name": "stdout",
     "output_type": "stream",
     "text": [
      "不是贫困户\n",
      "\n",
      "\n",
      "不是贫困户\n",
      "\n",
      "\n",
      "贫困户\n",
      "我们应加强其义务教育的保障\n",
      "我们应加强其住房安全\n",
      "我们应加强其饮水安全\n",
      "我们应加强其加肉蛋奶豆的供给\n",
      "\n",
      "\n"
     ]
    }
   ],
   "source": [
    "class poor_condition(object):\n",
    "    def __init__(self,x1,x2,x3,x4): \n",
    "           self.edu = x1\n",
    "           self.house = x2\n",
    "           self.water = x3\n",
    "           self.food = x4\n",
    "    \n",
    "    def poor(self):\n",
    "        count=0\n",
    "        if self.edu == False:\n",
    "            count+=1\n",
    "        if self.house == False:\n",
    "            count+=1\n",
    "        if self.water == False:\n",
    "            count+=1\n",
    "        if self.food == False:\n",
    "            count+=1\n",
    "        if count>2:\n",
    "            print(\"贫困户\")\n",
    "        else :\n",
    "            print(\"不是贫困户\")\n",
    "            \n",
    "    def support(self):\n",
    "        count=0\n",
    "        if self.edu == False : \n",
    "            count+=1\n",
    "        if self.house == False:\n",
    "            count+=1\n",
    "        if self.water == False : \n",
    "            count+=1\n",
    "        if self.food == False:\n",
    "            count+=1\n",
    "        if count>2:\n",
    "            if self.edu == False:\n",
    "                print(\"我们应加强其义务教育的保障\")\n",
    "            if self.house == False:\n",
    "                print(\"我们应加强其住房安全\")\n",
    "            if self.water == False : \n",
    "                print(\"我们应加强其饮水安全\")\n",
    "            if self.food == False:\n",
    "                print(\"我们应加强其加肉蛋奶豆的供给\")\n",
    "        print('\\n')\n",
    "        \n",
    "Student1=poor_condition(True,True,True,False)\n",
    "Student2=poor_condition(False,True,True,False)\n",
    "Student3=poor_condition(False,False,False,False)\n",
    "\n",
    "Student1.poor()\n",
    "Student1.support()\n",
    "\n",
    "Student2.poor()\n",
    "Student2.support()\n",
    "\n",
    "Student3.poor()\n",
    "Student3.support()"
   ]
  },
  {
   "cell_type": "markdown",
   "metadata": {},
   "source": [
    "#### 题目二: 学生信息\n",
    "+ 创建一个类，包含姓名、分数、睡眠时间三个属性\n",
    "+ 包含一个胖瘦的预测，如果分数>90，且睡眠时间少于6小时，输出“BMI可能偏大”，否则输出“体重正常”\n",
    "+ 为使得标准（90分、6小时）可以调整，标准应设为输入的参数\n",
    "+ 至少生成三个实例"
   ]
  },
  {
   "cell_type": "code",
   "execution_count": 14,
   "metadata": {
    "collapsed": false
   },
   "outputs": [
    {
     "name": "stdout",
     "output_type": "stream",
     "text": [
      "蛋蛋BMI可能偏大\n",
      "\n",
      "\n",
      "睡睡体重正常\n",
      "\n",
      "\n",
      "棒棒体重正常\n",
      "\n",
      "\n"
     ]
    }
   ],
   "source": [
    "class student(object):\n",
    "    def __init__(self,x1,x2,x3): \n",
    "           self.name = x = x1\n",
    "           self.grade = x = x2\n",
    "           self.sleep = x = x3\n",
    "    \n",
    "    def predict(self,a1,a2):\n",
    "        if self.grade>a1 and self.sleep<a2: \n",
    "            print(\"%sBMI可能偏大\"%self.name)\n",
    "  \n",
    "        else :\n",
    "            print(\"%s体重正常\"%self.name)\n",
    "  \n",
    "        print(\"\\n\")\n",
    "            \n",
    "            \n",
    "student1=student(\"蛋蛋\",92,5)\n",
    "student1.predict(90,6)\n",
    "\n",
    "student2=student(\"睡睡\",80,7)\n",
    "student2.predict(90,6)\n",
    "\n",
    "student3=student(\"棒棒\",70,4)\n",
    "student3.predict(88,6)"
   ]
  },
  {
   "cell_type": "markdown",
   "metadata": {},
   "source": [
    "#### 题目三：“跑步社”成员类\n",
    "+ 创建一个“跑步社”成员类，以学生信息类为父类\n",
    "+ 添加一个属性为跑步\n",
    "+ 如果跑步时间大于30分钟，如果之前预测为“BMI可能偏大”，则输出为“趋向正常”\n",
    "+ 至少生成三个实例"
   ]
  },
  {
   "cell_type": "code",
   "execution_count": 2,
   "metadata": {
    "collapsed": false
   },
   "outputs": [
    {
     "name": "stdout",
     "output_type": "stream",
     "text": [
      "蛋蛋BMI趋向正常\n",
      "\n",
      "\n",
      "睡睡体重正常\n",
      "\n",
      "\n",
      "棒棒体重正常\n",
      "\n",
      "\n"
     ]
    }
   ],
   "source": [
    "class student(object):\n",
    "    def __init__(self,x1,x2,x3): \n",
    "        self.name = x1\n",
    "        self.grade = x2\n",
    "        self.sleep = x3\n",
    "    \n",
    "    def predict(self,a1,a2):\n",
    "        if self.grade>a1 and self.sleeping_time<a2: \n",
    "            print(\"%sBMI可能偏大\"%self.name)\n",
    "        else :\n",
    "            print(\"%s体重正常\"%self.name)\n",
    "        \n",
    "class running_club(student):        \n",
    "    def __init__(self,x1,x2,x3,x4):\n",
    "        super().__init__(x1,x2,x3)\n",
    "        self.run = x4\n",
    "    \n",
    "    def adjust_standard(self,a1,a2):\n",
    "        if self.grade > a1 and self.sleep<a2:\n",
    "            if self.run > 30:\n",
    "                print(\"%sBMI趋向正常\"%self.name)\n",
    "            else :\n",
    "                print(\"%sBMI可能偏大\"%self.name)\n",
    "        else:\n",
    "            print(\"%s体重正常\"%self.name)\n",
    "        print(\"\\n\")\n",
    "\n",
    "\n",
    "student_1=running_club(\"蛋蛋\",92,5,56)\n",
    "student_1.adjust_standard(90,6)\n",
    "\n",
    "student_2=running_club(\"睡睡\",80,7,16)\n",
    "student_2.adjust_standard(90,6)\n",
    "\n",
    "student_3=running_club(\"棒棒\",70,4,30)\n",
    "student_3.adjust_standard(90,6)"
   ]
  }
 ],
 "metadata": {
  "kernelspec": {
   "display_name": "Python 3",
   "language": "python",
   "name": "python3"
  }
 },
 "nbformat": 4,
 "nbformat_minor": 2
}
