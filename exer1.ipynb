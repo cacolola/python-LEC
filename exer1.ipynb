{
 "cells": [
  {
   "cell_type": "markdown",
   "metadata": {},
   "source": [
    "#### 第一次练习\n",
    "\n",
    "- 把\"Hello World\"保存到一个变量里，并且print出来。\n",
    "- 把一个文本信息保存到一个变量里，print出来，存一个新的文本信息到同一个变量里，print这个新信息。"
   ]
  },
  {
   "cell_type": "code",
   "execution_count": 7,
   "metadata": {
    "collapsed": false
   },
   "outputs": [
    {
     "name": "stdout",
     "output_type": "stream",
     "text": [
      "   Hello World   \n"
     ]
    }
   ],
   "source": [
    "uni_name='   Hello World   '\n",
    "print(uni_name)"
   ]
  },
  {
   "cell_type": "markdown",
   "metadata": {},
   "source": [
    "- 去掉上例中变量uni_name里的前后空格。"
   ]
  },
  {
   "cell_type": "code",
   "execution_count": 8,
   "metadata": {
    "collapsed": true
   },
   "outputs": [],
   "source": [
    "# 其他学院的同学可以将school改为自己学院名称\n",
    "\n",
    "school='统计学院'"
   ]
  },
  {
   "cell_type": "markdown",
   "metadata": {},
   "source": [
    "- 请将uni_name和school合并起来并打印出来。"
   ]
  },
  {
   "cell_type": "markdown",
   "metadata": {},
   "source": [
    "- 请在uni_name和school之间加入一个制表符并打印出来，然后在uni_name和school间换一行再打印出来。"
   ]
  },
  {
   "cell_type": "code",
   "execution_count": 9,
   "metadata": {
    "collapsed": false
   },
   "outputs": [
    {
     "ename": "NameError",
     "evalue": "name '叶莉比姚明低36CM' is not defined",
     "output_type": "error",
     "traceback": [
      "\u001b[0;31m---------------------------------------------------------------------------\u001b[0m",
      "\u001b[0;31mNameError\u001b[0m                                 Traceback (most recent call last)",
      "\u001b[0;32m<ipython-input-9-4a3f42519c3f>\u001b[0m in \u001b[0;36m<module>\u001b[0;34m()\u001b[0m\n\u001b[1;32m      1\u001b[0m \u001b[0mheight_yao\u001b[0m \u001b[1;33m=\u001b[0m \u001b[1;36m226\u001b[0m\u001b[1;33m\u001b[0m\u001b[0m\n\u001b[1;32m      2\u001b[0m \u001b[0mheight_ye\u001b[0m \u001b[1;33m=\u001b[0m \u001b[1;36m190\u001b[0m\u001b[1;33m\u001b[0m\u001b[0m\n\u001b[0;32m----> 3\u001b[0;31m \u001b[0mprint\u001b[0m\u001b[1;33m(\u001b[0m\u001b[0m叶莉比姚明低36CM\u001b[0m\u001b[1;33m)\u001b[0m\u001b[1;33m\u001b[0m\u001b[0m\n\u001b[0m",
      "\u001b[0;31mNameError\u001b[0m: name '叶莉比姚明低36CM' is not defined"
     ]
    }
   ],
   "source": [
    "height_yao = 226\n",
    "height_ye = 190\n",
    "print(叶莉比姚明低36CM)"
   ]
  },
  {
   "cell_type": "markdown",
   "metadata": {},
   "source": [
    "- 姚明的身高是226cm，叶莉的身高是190cm，请以文本和数字混排的形式，打印“叶莉比姚明低XXcm”，XX请在print中计算得到。"
   ]
  }
 ],
 "metadata": {
  "kernelspec": {
   "display_name": "Python 3",
   "language": "python",
   "name": "python3"
  },
  "language_info": {
   "codemirror_mode": {
    "name": "ipython",
    "version": 3
   },
   "file_extension": ".py",
   "mimetype": "text/x-python",
   "name": "python",
   "nbconvert_exporter": "python",
   "pygments_lexer": "ipython3",
   "version": "3.6.0"
  }
 },
 "nbformat": 4,
 "nbformat_minor": 2
}
