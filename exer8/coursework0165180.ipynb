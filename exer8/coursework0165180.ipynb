{
 "cells": [
  {
   "cell_type": "markdown",
   "metadata": {},
   "source": [
    "## 课程论文"
   ]
  },
  {
   "cell_type": "markdown",
   "metadata": {},
   "source": [
    " 请务必交到exer8文件夹下，**谢绝交到master下**\n",
    "+ 请不要改动任何文件，拜托\n",
    "+ 请于12月30日前先在github上提交\n",
    "+ 请在元旦后提交纸质版，将本页面文件先打印为pdf格式，再去打印店付印\n",
    "+ 请将论文模板和本页面文件一起装订，前者放上面，本页面文件放下面\n",
    "+ 纸质版提交时间和地点请留意微信群通知"
   ]
  },
  {
   "cell_type": "markdown",
   "metadata": {},
   "source": [
    "请写一下姓名和学号：\n",
    "+ 姓名  文华虎\n",
    "+ 学号  0165180"
   ]
  },
  {
   "cell_type": "markdown",
   "metadata": {},
   "source": [
    "### 样本均值分布的统计试验"
   ]
  },
  {
   "cell_type": "markdown",
   "metadata": {},
   "source": [
    "+ 请将CEPS.csv数据读入python\n",
    "+ 请从中随机抽取1000个数据\n",
    "+ 请根据问卷从数据中挑选两个连续型变量（likert量表可以近似看作连续变量）\n",
    "+ 计算这两个连续变量的均值\n",
    "+ 重复随机抽取—计算均值这个过程30次，得到两个变量30个样本均值\n",
    "+ 绘制这30个样本均值的直方图\n",
    "+ 计算均值的均值和标准误"
   ]
  },
  {
   "cell_type": "code",
   "execution_count": 1,
   "metadata": {
    "collapsed": true
   },
   "outputs": [],
   "source": [
    "import numpy as np\n",
    "import pandas as pd\n",
    "import csv\n",
    "import matplotlib.pyplot as plt\n",
    "import random"
   ]
  },
  {
   "cell_type": "code",
   "execution_count": 2,
   "metadata": {
    "collapsed": false
   },
   "outputs": [
    {
     "name": "stdout",
     "output_type": "stream",
     "text": [
      "[0.020070788993965874, 0.0073769872906851094, 0.0033909896635449677, 0.00951680239127028, 0.0013541917708934715, 0.005110333924265481, -0.0394145681277732, -0.03207681300246621, 0.0462870393041521, -0.02968188077677036, -0.02722394158353558, 0.012657074154936717, 0.04496711284510104, -0.023844973342551402, -0.02146450897678724, -0.053162651348975416, -0.045421932060387964, 0.05284301531314856, 0.032081993154948606, 0.023106544804235463, -0.046934812490828384, -0.03233855234959624, 0.0004041624737437859, -0.01612678159098137, -0.022072192809893726, 0.0018797493076417328, 0.009934386088163634, 0.03749833425111138, -0.03965715814003488, 0.04333065148210157]\n",
      "[1583.72279404068, 1542.3649393997193, 1664.3040993270874, 1594.848680862427, 1663.0348927459718, 1680.3331264190674, 1599.370739490509, 1642.2030038757325, 1644.6196063423156, 1657.9223609809876, 1564.6322930984497, 1627.7608356933597, 1570.6479411315918, 1681.407027385712, 1671.6852932128907, 1616.614616607666, 1618.8284677009583, 1616.6613152351379, 1567.9555928001405, 1575.264377849579, 1619.1939470443729, 1602.2005707588196, 1579.3030941162112, 1592.428482143402, 1642.1930015449525, 1619.6078880615235, 1613.0665597381594, 1648.958931678772, 1659.4624109573367, 1637.4531210098266]\n"
     ]
    }
   ],
   "source": [
    "#导入数据\n",
    "df = csv.reader(open('CEPS.csv','r'))\n",
    "\n",
    "cog = []\n",
    "sweight = []\n",
    "\n",
    "for line in df:\n",
    "    cog.append(line[10])\n",
    "    sweight.append(line[6])\n",
    "\n",
    "cog.pop(0)\n",
    "sweight.pop(0)\n",
    "\n",
    "var1 = []\n",
    "var2 = []\n",
    "#随机抽取1000个样本并将抽取过程重复30次\n",
    "for i in range(0,30):\n",
    "    cog_1000 = random.sample(cog,1000)\n",
    "    sweight_1000 = random.sample(sweight,1000)\n",
    "\n",
    "    sum_cog = 0.0\n",
    "    sum_sweight = 0.0\n",
    "#将每次抽取均值存入var1和var2中\n",
    "    for str in cog_1000:\n",
    "        num = float(str)\n",
    "        sum_cog += num\n",
    "    cog_mean = sum_cog / 1000\n",
    "    var1.append(cog_mean)\n",
    "    \n",
    "\n",
    "    for str in sweight_1000:\n",
    "        num = float(str)\n",
    "        sum_sweight += num\n",
    "    sweight_mean = sum_sweight / 1000\n",
    "    var2.append(sweight_mean)                                                  \n",
    "\n",
    "print(var1)        \n",
    "print(var2)\n"
   ]
  },
  {
   "cell_type": "code",
   "execution_count": 3,
   "metadata": {
    "collapsed": false
   },
   "outputs": [
    {
     "data": {
      "image/png": "[encoded data removed]",
      "text/plain": [
       "<matplotlib.figure.Figure at 0x18c30514eb8>"
      ]
     },
     "metadata": {},
     "output_type": "display_data"
    },
    {
     "data": {
      "image/png": "[encoded data removed]",
      "text/plain": [
       "<matplotlib.figure.Figure at 0x18c2d557128>"
      ]
     },
     "metadata": {},
     "output_type": "display_data"
    }
   ],
   "source": [
    "#绘制图表\n",
    "fig = plt.figure()\n",
    "ax1 = fig.add_subplot(1,2,1)\n",
    "plt.hist(var1, bins = 30, alpha = 0.3, color = 'g', label = ['var1'])\n",
    "plt.grid(True)\n",
    "plt.xlabel('mean')\n",
    "plt.ylabel('frequency')\n",
    "plt.title('cog3pl')\n",
    "plt.show()\n",
    "\n",
    "fig = plt.figure()\n",
    "ax1 = fig.add_subplot(1,2,1)\n",
    "plt.hist(var2, bins = 30, alpha = 0.3, color = 'r', label = ['var2'])\n",
    "plt.grid(True)\n",
    "plt.xlabel('mean')\n",
    "plt.ylabel('frequency')\n",
    "plt.title('sweight')\n",
    "plt.show()"
   ]
  },
  {
   "cell_type": "code",
   "execution_count": 4,
   "metadata": {
    "collapsed": false
   },
   "outputs": [
    {
     "name": "stdout",
     "output_type": "stream",
     "text": [
      "cog3pl的均值为: -0.002587020312889073\n",
      "cog3pl的标准差为: 0.0306293731581\n",
      "sweight的均值为： 1619.9350003751124\n",
      "sweight的标准差为: 37.0162509343\n"
     ]
    }
   ],
   "source": [
    "#计算均值的均值和标准误\n",
    "sum_var1 = 0\n",
    "for float in var1:\n",
    "    sum_var1 += float\n",
    "mean_var1 = sum_var1/30\n",
    "print('cog3pl的均值为: %s'%mean_var1)\n",
    "std_var1 = np.std(var1)\n",
    "print('cog3pl的标准差为: %s'%std_var1)\n",
    "\n",
    "sum_var2 = 0\n",
    "for float in var2:\n",
    "    sum_var2 += float\n",
    "mean_var2 = sum_var2/30\n",
    "print('sweight的均值为： %s'%mean_var2)\n",
    "std_var2 = np.std(var2)\n",
    "print('sweight的标准差为: %s'%std_var2)"
   ]
  },
  {
   "cell_type": "markdown",
   "metadata": {},
   "source": [
    "### 回归分析"
   ]
  },
  {
   "cell_type": "markdown",
   "metadata": {},
   "source": [
    "+ 请从CEPS.csv数据里挑选若干变量建立回归方程，要求至少三个自变量\n",
    "    + 如，学生的学业成绩受认知水平、家庭收入的影响\n",
    "    + 考虑因变量和自变量间的实质关系，变量间关系应该是有意义\n",
    "    + 选择自变量时，注意变量的类型，如果是分类变量，需要进行编码\n",
    "+ 请报告回归方程的结果，需要包括：\n",
    "    + 模型拟合指标\n",
    "    + 模型的显著性检验结果\n",
    "    + 变量的系数\n",
    "    + 各系数的显著性检验结果\n",
    "    + 对模型结果的解释\n",
    "    "
   ]
  },
  {
   "cell_type": "code",
   "execution_count": 20,
   "metadata": {
    "collapsed": true
   },
   "outputs": [],
   "source": [
    "import numpy as np\n",
    "import pandas as pd\n",
    "import seaborn as sns\n",
    "import matplotlib.pyplot as plt\n",
    "import statsmodels.api as smf\n",
    "import statsmodels.formula as smf\n",
    "from statsmodels.formula.api import ols,glm"
   ]
  },
  {
   "cell_type": "code",
   "execution_count": 87,
   "metadata": {
    "collapsed": false
   },
   "outputs": [
    {
     "name": "stderr",
     "output_type": "stream",
     "text": [
      "D:\\python\\lib\\site-packages\\IPython\\core\\interactiveshell.py:2717: DtypeWarning: Columns (20,22,23,25,28,29,39,49,74,124,125,126,127,128,129,130,131,138,140,141,147,160,161,162,165,170,174,175,177,179,180,181,182,183,184,188,191,195,196,199,221,222,223,224,251,252,254,289,290,294,295,296) have mixed types. Specify dtype option on import or set low_memory=False.\n",
      "  interactivity=interactivity, compiler=compiler, result=result)\n"
     ]
    }
   ],
   "source": [
    "sentinels = {'c12': [' '], 'b30': [' '],'b32':[' '],'b35':[' ']}\n",
    "df = pd.read_csv('CEPS.csv',encoding='gb2312', na_values=sentinels)"
   ]
  },
  {
   "cell_type": "code",
   "execution_count": 88,
   "metadata": {
    "collapsed": false
   },
   "outputs": [],
   "source": [
    "data=pd.DataFrame({'x1':df.b30,\n",
    "                  'x2':df.b32,\n",
    "                  'x3':df.b35,\n",
    "                  'y':df.c12})\n",
    "data=data.dropna(axis=0,how='any')"
   ]
  },
  {
   "cell_type": "code",
   "execution_count": 89,
   "metadata": {
    "collapsed": false
   },
   "outputs": [],
   "source": [
    "#使用最小二乘法进行线性回归\n",
    "my_formula = 'y ~ x1 + x2 + x3'\n",
    "lm = ols(my_formula,data=data).fit()"
   ]
  },
  {
   "cell_type": "code",
   "execution_count": 90,
   "metadata": {
    "collapsed": false
   },
   "outputs": [
    {
     "name": "stdout",
     "output_type": "stream",
     "text": [
      "                            OLS Regression Results                            \n",
      "==============================================================================\n",
      "Dep. Variable:                      y   R-squared:                       0.321\n",
      "Model:                            OLS   Adj. R-squared:                  0.321\n",
      "Method:                 Least Squares   F-statistic:                     3026.\n",
      "Date:                Sat, 29 Dec 2018   Prob (F-statistic):               0.00\n",
      "Time:                        21:37:13   Log-Likelihood:                -25756.\n",
      "No. Observations:               19168   AIC:                         5.152e+04\n",
      "Df Residuals:                   19164   BIC:                         5.155e+04\n",
      "Df Model:                           3                                         \n",
      "Covariance Type:            nonrobust                                         \n",
      "==============================================================================\n",
      "                 coef    std err          t      P>|t|      [95.0% Conf. Int.]\n",
      "------------------------------------------------------------------------------\n",
      "Intercept      3.7555      0.045     83.858      0.000         3.668     3.843\n",
      "x1            -0.5759      0.008    -76.344      0.000        -0.591    -0.561\n",
      "x2            -0.1488      0.006    -24.306      0.000        -0.161    -0.137\n",
      "x3             0.3211      0.010     33.086      0.000         0.302     0.340\n",
      "==============================================================================\n",
      "Omnibus:                       13.542   Durbin-Watson:                   1.815\n",
      "Prob(Omnibus):                  0.001   Jarque-Bera (JB):               14.499\n",
      "Skew:                          -0.034   Prob(JB):                     0.000710\n",
      "Kurtosis:                       3.116   Cond. No.                         34.4\n",
      "==============================================================================\n",
      "\n",
      "Warnings:\n",
      "[1] Standard Errors assume that the covariance matrix of the errors is correctly specified.\n"
     ]
    }
   ],
   "source": [
    "#结果总览\n",
    "print(lm.summary())"
   ]
  },
  {
   "cell_type": "code",
   "execution_count": 91,
   "metadata": {
    "collapsed": false
   },
   "outputs": [
    {
     "name": "stdout",
     "output_type": "stream",
     "text": [
      "\n",
      "F-statistic:3025.9   P-value:0.00\n"
     ]
    }
   ],
   "source": [
    "#输出F统计量和P值\n",
    "print(\"\\nF-statistic:%.1f   P-value:%.2f\"%(lm.fvalue,lm.f_pvalue))"
   ]
  },
  {
   "cell_type": "code",
   "execution_count": 92,
   "metadata": {
    "collapsed": false
   },
   "outputs": [
    {
     "name": "stdout",
     "output_type": "stream",
     "text": [
      "\n",
      "Coefficients:\n",
      "Intercept    3.755470\n",
      "x1          -0.575898\n",
      "x2          -0.148825\n",
      "x3           0.321102\n",
      "dtype: float64\n"
     ]
    }
   ],
   "source": [
    "#输出各自变量的系数\n",
    "print(\"\\nCoefficients:\\n%s\"%lm.params)"
   ]
  },
  {
   "cell_type": "code",
   "execution_count": 19,
   "metadata": {
    "collapsed": false
   },
   "outputs": [],
   "source": [
    "·模型拟合指标：\n",
    "被解释变量：Y→“目前的成绩在班里的水平”\n",
    "因变量：X1→“父母对学业成绩的要求”\n",
    "        X2→“对于父母期望感到的压力程度”\n",
    "        X3→“父母对于自己未来是否有信心”\n",
    "\n",
    "·模型的显著性检验结果：\n",
    "R²=0.321 说明模型拟合结果较差。\n",
    "P值接近于0，说明自变量对被解释变量有显著影响。\n",
    "\n",
    "·变量的系数：\n",
    "X1的系数为-0.5759，X2的系数为-0.1488，与因变量呈负相关。\n",
    "X3的系数为0.3211，与因变量呈正相关。\n",
    "\n",
    "·各系数的显著性检验结果：\n",
    "X1,X2,X3的P值均小于0.05，说明它们的影响都是显著的。\n",
    "\n",
    "·对模型结果的解释：\n",
    "线性回归模型为Y=-0.5759X1-0.1488X2+0.3211X3+3.7555\n",
    "X1每变动一个单位，因变量变动0.5759个单位；X2每变动一个单位，因变量变动0.1488个单位；X3每变动一个单位，因变量变动0.3211个单位。\n",
    "这三个自变量中，家庭经济条件对学生目前的成绩影响最大。"
   ]
  },
  {
   "cell_type": "code",
   "execution_count": null,
   "metadata": {
    "collapsed": true
   },
   "outputs": [],
   "source": []
  }
 ],
 "metadata": {
  "kernelspec": {
   "display_name": "Python 3",
   "language": "python",
   "name": "python3"
  },
  "language_info": {
   "codemirror_mode": {
    "name": "ipython",
    "version": 3
   },
   "file_extension": ".py",
   "mimetype": "text/x-python",
   "name": "python",
   "nbconvert_exporter": "python",
   "pygments_lexer": "ipython3",
   "version": "3.6.0"
  },
  "toc": {
   "base_numbering": 1,
   "nav_menu": {},
   "number_sections": true,
   "sideBar": true,
   "skip_h1_title": false,
   "title_cell": "Table of Contents",
   "title_sidebar": "Contents",
   "toc_cell": false,
   "toc_position": {},
   "toc_section_display": true,
   "toc_window_display": false
  }
 },
 "nbformat": 4,
 "nbformat_minor": 2
}
