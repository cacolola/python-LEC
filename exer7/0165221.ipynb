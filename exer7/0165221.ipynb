{
 "cells": [
  {
   "cell_type": "markdown",
   "metadata": {},
   "source": [
    "## 第七次练习"
   ]
  },
  {
   "cell_type": "markdown",
   "metadata": {},
   "source": [
    "+ 请务必交到exer7文件夹下，**谢绝交到master下**\n",
    "+ 请不要改动任何文件，拜托\n",
    "+ 请在12月20日前提交。"
   ]
  },
  {
   "cell_type": "markdown",
   "metadata": {},
   "source": [
    "请写一下姓名和学号：\n",
    "+ 姓名  刘鑫\n",
    "+ 学号  0165221"
   ]
  },
  {
   "cell_type": "code",
   "execution_count": 3,
   "metadata": {
    "collapsed": true
   },
   "outputs": [],
   "source": [
    "%matplotlib inline"
   ]
  },
  {
   "cell_type": "code",
   "execution_count": 2,
   "metadata": {
    "collapsed": true
   },
   "outputs": [],
   "source": [
    "import numpy as np\n",
    "import pandas as pd\n",
    "import matplotlib.pyplot as plt\n",
    "import matplotlib"
   ]
  },
  {
   "cell_type": "code",
   "execution_count": null,
   "metadata": {
    "collapsed": true
   },
   "outputs": [],
   "source": [
    "请参考下面命令将CEPS.csv数据读入python"
   ]
  },
  {
   "cell_type": "code",
   "execution_count": 32,
   "metadata": {
    "collapsed": true
   },
   "outputs": [],
   "source": [
    "def ZscoreNormalization(x):\n",
    "    \"\"\"Z-score normaliaztion\"\"\"\n",
    "    x = float(x)\n",
    "    x = (x - np.mean(x)) / np.std(x)\n",
    "    return x"
   ]
  },
  {
   "cell_type": "markdown",
   "metadata": {},
   "source": [
    "下面的图都至少需要在图上标注：\n",
    "+ 图标题\n",
    "+ x轴标题\n",
    "+ y轴标题\n",
    "+ 适当修改x轴或者y轴的刻度及标签，使之清晰美观\n",
    "+ 根据需要添加图例"
   ]
  },
  {
   "cell_type": "markdown",
   "metadata": {},
   "source": [
    "### 散点图\n",
    "反映期中考试标准化成绩语文（stdchn）和期中考试标准化成绩数学（stdmat）的相关关系"
   ]
  },
  {
   "cell_type": "code",
   "execution_count": 17,
   "metadata": {
    "collapsed": false
   },
   "outputs": [
    {
     "name": "stderr",
     "output_type": "stream",
     "text": [
      "D:\\ProgramData\\lib\\site-packages\\IPython\\core\\interactiveshell.py:2717: DtypeWarning: Columns (20,22,23,25,28,29,39,49,74,124,125,126,127,128,129,130,131,138,140,141,147,160,161,162,165,170,174,175,176,177,179,180,181,182,183,184,188,191,194,195,196,199,221,222,223,224,251,252,254,289,290,294,295,296) have mixed types. Specify dtype option on import or set low_memory=False.\n",
      "  interactivity=interactivity, compiler=compiler, result=result)\n"
     ]
    },
    {
     "data": {
      "image/png": "[encoded data removed]",
      "text/plain": [
       "<matplotlib.figure.Figure at 0x9b80675fd0>"
      ]
     },
     "metadata": {},
     "output_type": "display_data"
    }
   ],
   "source": [
    "df = pd.read_csv('CEPS.csv',encoding='gb2312')\n",
    "df = pd.DataFrame(df)\n",
    "df=df.head()\n",
    "\n",
    "x1=df['stdchn']\n",
    "x=[]\n",
    "for x2 in x1:\n",
    "    x2=x2.strip()\n",
    "    x.append(float(x2))\n",
    "y=[]\n",
    "y1=df['stdmat']\n",
    "for y2 in y1:\n",
    "    y2=y2.strip()\n",
    "    y.append(float(y2))\n",
    "plt.scatter(x, y)\n",
    " \n",
    "# 设置图表标题并给坐标轴加上标签\n",
    "plt.title('Relationship between stdchn and stdmat', fontsize=24)\n",
    "plt.xlabel('stdchn', fontsize=14)\n",
    "plt.ylabel('stdmat', fontsize=14)\n",
    " \n",
    "# 设置刻度标记的大小\n",
    "\n",
    "plt.show()"
   ]
  },
  {
   "cell_type": "markdown",
   "metadata": {},
   "source": [
    "### 饼图\n",
    "对问题“你是独生子女吗”(b01)的回答有“是”和“否”两种回答，相应的数字分别是1和2。请画一个饼图反映二者的比例。"
   ]
  },
  {
   "cell_type": "code",
   "execution_count": 8,
   "metadata": {
    "collapsed": false
   },
   "outputs": [
    {
     "name": "stderr",
     "output_type": "stream",
     "text": [
      "D:\\ProgramData\\lib\\site-packages\\IPython\\core\\interactiveshell.py:2717: DtypeWarning: Columns (20,22,23,25,28,29,39,49,74,124,125,126,127,128,129,130,131,138,140,141,147,160,161,162,165,170,174,175,176,177,179,180,181,182,183,184,188,191,194,195,196,199,221,222,223,224,251,252,254,289,290,294,295,296) have mixed types. Specify dtype option on import or set low_memory=False.\n",
      "  interactivity=interactivity, compiler=compiler, result=result)\n"
     ]
    },
    {
     "data": {
      "image/png": "[encoded data removed]",
      "text/plain": [
       "<matplotlib.figure.Figure at 0x6f6b9970b8>"
      ]
     },
     "metadata": {},
     "output_type": "display_data"
    }
   ],
   "source": [
    "df = pd.read_csv('CEPS.csv',encoding='gb2312')\n",
    "df = pd.DataFrame(df)\n",
    "x1=df.b01[:101]\n",
    "x=[]\n",
    "for x2 in x1:\n",
    "    x2=float(x2)\n",
    "    x.append(x2)\n",
    "x1=x.count(1)\n",
    "x2=x.count(2)\n",
    "labels=['yes','no']\n",
    "X=[x1,x2]  \n",
    "fig = plt.figure()\n",
    "plt.pie(X,labels=labels,autopct='%1.2f%%') #画饼图（数据，数据对应的标签，百分数保留两位小数点）\n",
    "plt.title(\"Pie chart\")\n",
    "plt.show()"
   ]
  },
  {
   "cell_type": "markdown",
   "metadata": {},
   "source": [
    "### 直方图\n",
    "反映变量“每天晚上睡多长时间-小时”(b18a)的分布情况。"
   ]
  },
  {
   "cell_type": "code",
   "execution_count": 6,
   "metadata": {
    "collapsed": false
   },
   "outputs": [
    {
     "name": "stderr",
     "output_type": "stream",
     "text": [
      "D:\\ProgramData\\lib\\site-packages\\IPython\\core\\interactiveshell.py:2717: DtypeWarning: Columns (20,22,23,25,28,29,39,49,74,124,125,126,127,128,129,130,131,138,140,141,147,160,161,162,165,170,174,175,176,177,179,180,181,182,183,184,188,191,194,195,196,199,221,222,223,224,251,252,254,289,290,294,295,296) have mixed types. Specify dtype option on import or set low_memory=False.\n",
      "  interactivity=interactivity, compiler=compiler, result=result)\n"
     ]
    },
    {
     "data": {
      "image/png": "[encoded data removed]",
      "text/plain": [
       "<matplotlib.figure.Figure at 0xd3eb2e4128>"
      ]
     },
     "metadata": {},
     "output_type": "display_data"
    }
   ],
   "source": [
    "df = pd.read_csv('CEPS.csv',encoding='gb2312')\n",
    "df = pd.DataFrame(df)\n",
    "x1=df['b18a']\n",
    "x1=x1[0:101]\n",
    "name_list = ['NA', '4', '5', '6',\"7\",'8','9','10']\n",
    "num_list = [1,1,6,24,33,2,7,1]\n",
    "rects=plt.bar(range(len(num_list)), num_list, color='rgby')\n",
    "# X轴标题\n",
    "index=[0,1,2,3,4,5,6,7,8,9]\n",
    "index=[float(c)+0.4 for c in index]\n",
    "plt.ylim(ymax=80, ymin=0)\n",
    "plt.xticks(index, name_list)\n",
    "plt.ylabel(\"arrucay(%)\") \n",
    "plt.xlabel(\"sleeping\")\n",
    "for rect in rects:\n",
    "    height = rect.get_height()\n",
    "    plt.text(rect.get_x() + rect.get_width() / 2, height, str(height)+'%', ha='center', va='bottom')\n",
    "plt.show()"
   ]
  },
  {
   "cell_type": "markdown",
   "metadata": {},
   "source": [
    "### 柱图\n",
    "反映变量\"你妈妈是做什么工作的\"(b08a)的职业分布情况，数字和编码关系如下：\n",
    "\n",
    "+ 1\t国家机关事业单位领导与工作人员\n",
    "+ 2\t企业/公司中高级管理人员\n",
    "+ 3\t教师、工程师、医生、律师\n",
    "+ 4\t技术工人（包括司机）\n",
    "+ 5\t生产与制造业一般职工\n",
    "+ 6\t商业与服务业一般职工\n",
    "+ 7\t个体户\n",
    "+ 8\t农民\n",
    "+ 9 无业、失业、下岗\n"
   ]
  },
  {
   "cell_type": "code",
   "execution_count": 5,
   "metadata": {
    "collapsed": false
   },
   "outputs": [
    {
     "name": "stderr",
     "output_type": "stream",
     "text": [
      "D:\\ProgramData\\lib\\site-packages\\IPython\\core\\interactiveshell.py:2717: DtypeWarning: Columns (20,22,23,25,28,29,39,49,74,124,125,126,127,128,129,130,131,138,140,141,147,160,161,162,165,170,174,175,176,177,179,180,181,182,183,184,188,191,194,195,196,199,221,222,223,224,251,252,254,289,290,294,295,296) have mixed types. Specify dtype option on import or set low_memory=False.\n",
      "  interactivity=interactivity, compiler=compiler, result=result)\n"
     ]
    },
    {
     "data": {
      "image/png": "[encoded data removed]",
      "text/plain": [
       "<matplotlib.figure.Figure at 0x6f67a85e80>"
      ]
     },
     "metadata": {},
     "output_type": "display_data"
    }
   ],
   "source": [
    "df = pd.read_csv('CEPS.csv',encoding='gb2312')\n",
    "df = pd.DataFrame(df)\n",
    "x1=df.b08a[:101]\n",
    "x=[]\n",
    "for x2 in x1:\n",
    "    x2=float(x2)\n",
    "    x.append(x2)\n",
    "x1=x.count(1)\n",
    "x2=x.count(2)\n",
    "x3=x.count(3)\n",
    "x4=x.count(4)\n",
    "x5=x.count(5)\n",
    "x6=x.count(6)\n",
    "x7=x.count(7)\n",
    "x8=x.count(8)\n",
    "x9=x.count(9)\n",
    "name_list = ['1','2','3','4','5','6','7','8','9']  \n",
    "num_list = [x1,x2,x3,x4,x5,x6,x7,x8,x9]\n",
    "plt.ylabel(\"frequency\") \n",
    "plt.xlabel(\"professional\") \n",
    "plt.barh(range(len(num_list)), num_list,tick_label = name_list)  \n",
    "plt.show()"
   ]
  },
  {
   "cell_type": "code",
   "execution_count": null,
   "metadata": {
    "collapsed": true
   },
   "outputs": [],
   "source": []
  },
  {
   "cell_type": "code",
   "execution_count": null,
   "metadata": {
    "collapsed": true
   },
   "outputs": [],
   "source": []
  },
  {
   "cell_type": "code",
   "execution_count": null,
   "metadata": {
    "collapsed": true
   },
   "outputs": [],
   "source": []
  }
 ],
 "metadata": {
  "kernelspec": {
   "display_name": "Python 3",
   "language": "python",
   "name": "python3"
  },
  "language_info": {
   "codemirror_mode": {
    "name": "ipython",
    "version": 3
   },
   "file_extension": ".py",
   "mimetype": "text/x-python",
   "name": "python",
   "nbconvert_exporter": "python",
   "pygments_lexer": "ipython3",
   "version": "3.6.0"
  },
  "toc": {
   "base_numbering": 1,
   "nav_menu": {},
   "number_sections": true,
   "sideBar": true,
   "skip_h1_title": false,
   "title_cell": "Table of Contents",
   "title_sidebar": "Contents",
   "toc_cell": false,
   "toc_position": {},
   "toc_section_display": true,
   "toc_window_display": false
  }
 },
 "nbformat": 4,
 "nbformat_minor": 2
}
