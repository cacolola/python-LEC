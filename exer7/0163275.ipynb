{
 "cells": [
  {
   "cell_type": "markdown",
   "metadata": {},
   "source": [
    "## 第七次练习"
   ]
  },
  {
   "cell_type": "markdown",
   "metadata": {},
   "source": [
    "+ 请务必交到exer7文件夹下，**谢绝交到master下**\n",
    "+ 请不要改动任何文件，拜托\n",
    "+ 请在12月20日前提交。"
   ]
  },
  {
   "cell_type": "markdown",
   "metadata": {},
   "source": [
    "请写一下姓名和学号：\n",
    "+ 姓名  龚剑\n",
    "+ 学号  0163275"
   ]
  },
  {
   "cell_type": "code",
   "execution_count": 2,
   "metadata": {},
   "outputs": [],
   "source": [
    "import numpy as np\n",
    "import pandas as pd\n",
    "import matplotlib.pyplot as plt\n",
    "import matplotlib\n",
    "plt.rcParams['font.sans-serif']=['SimHei'] #用来正常显示中文标签\n",
    "plt.rcParams['axes.unicode_minus']=False #用来正常显示负号\n",
    "from matplotlib.ticker import MultipleLocator, FormatStrFormatter"
   ]
  },
  {
   "cell_type": "code",
   "execution_count": 3,
   "metadata": {},
   "outputs": [],
   "source": [
    "#请参考下面命令将CEPS.csv数据读入python"
   ]
  },
  {
   "cell_type": "code",
   "execution_count": 4,
   "metadata": {},
   "outputs": [
    {
     "name": "stderr",
     "output_type": "stream",
     "text": [
      "E:\\anaconda\\lib\\site-packages\\IPython\\core\\interactiveshell.py:2785: DtypeWarning: Columns (20,22,23,25,28,29,39,49,74,124,125,126,127,128,129,130,131,138,140,141,147,160,161,162,165,170,174,175,176,177,179,180,181,182,183,184,188,191,194,195,196,199,221,222,223,224,251,252,254,289,290,294,295,296) have mixed types. Specify dtype option on import or set low_memory=False.\n",
      "  interactivity=interactivity, compiler=compiler, result=result)\n"
     ]
    },
    {
     "data": {
      "text/html": [
       "<div>\n",
       "<style scoped>\n",
       "    .dataframe tbody tr th:only-of-type {\n",
       "        vertical-align: middle;\n",
       "    }\n",
       "\n",
       "    .dataframe tbody tr th {\n",
       "        vertical-align: top;\n",
       "    }\n",
       "\n",
       "    .dataframe thead th {\n",
       "        text-align: right;\n",
       "    }\n",
       "</style>\n",
       "<table border=\"1\" class=\"dataframe\">\n",
       "  <thead>\n",
       "    <tr style=\"text-align: right;\">\n",
       "      <th></th>\n",
       "      <th>ids</th>\n",
       "      <th>clsids</th>\n",
       "      <th>schids</th>\n",
       "      <th>ctyids</th>\n",
       "      <th>frame</th>\n",
       "      <th>subsample</th>\n",
       "      <th>sweight</th>\n",
       "      <th>fall</th>\n",
       "      <th>grade9</th>\n",
       "      <th>stcog</th>\n",
       "      <th>...</th>\n",
       "      <th>steco_3c</th>\n",
       "      <th>stonly</th>\n",
       "      <th>stsib</th>\n",
       "      <th>stsibrank</th>\n",
       "      <th>stmedu</th>\n",
       "      <th>stfedu</th>\n",
       "      <th>stprhedu</th>\n",
       "      <th>stfdrunk</th>\n",
       "      <th>stprfight</th>\n",
       "      <th>stprrel</th>\n",
       "    </tr>\n",
       "  </thead>\n",
       "  <tbody>\n",
       "    <tr>\n",
       "      <th>0</th>\n",
       "      <td>1</td>\n",
       "      <td>1</td>\n",
       "      <td>1</td>\n",
       "      <td>1</td>\n",
       "      <td>3</td>\n",
       "      <td>3</td>\n",
       "      <td>218.738892</td>\n",
       "      <td>0</td>\n",
       "      <td>0</td>\n",
       "      <td>11</td>\n",
       "      <td>...</td>\n",
       "      <td>3</td>\n",
       "      <td>1</td>\n",
       "      <td></td>\n",
       "      <td></td>\n",
       "      <td>3</td>\n",
       "      <td>3</td>\n",
       "      <td>3</td>\n",
       "      <td>1</td>\n",
       "      <td>1</td>\n",
       "      <td>2</td>\n",
       "    </tr>\n",
       "    <tr>\n",
       "      <th>1</th>\n",
       "      <td>2</td>\n",
       "      <td>1</td>\n",
       "      <td>1</td>\n",
       "      <td>1</td>\n",
       "      <td>3</td>\n",
       "      <td>3</td>\n",
       "      <td>216.518234</td>\n",
       "      <td>0</td>\n",
       "      <td>0</td>\n",
       "      <td>17</td>\n",
       "      <td>...</td>\n",
       "      <td>2</td>\n",
       "      <td>1</td>\n",
       "      <td></td>\n",
       "      <td></td>\n",
       "      <td>8</td>\n",
       "      <td>5</td>\n",
       "      <td>8</td>\n",
       "      <td>1</td>\n",
       "      <td>1</td>\n",
       "      <td>2</td>\n",
       "    </tr>\n",
       "    <tr>\n",
       "      <th>2</th>\n",
       "      <td>3</td>\n",
       "      <td>1</td>\n",
       "      <td>1</td>\n",
       "      <td>1</td>\n",
       "      <td>3</td>\n",
       "      <td>3</td>\n",
       "      <td>216.518234</td>\n",
       "      <td>0</td>\n",
       "      <td>0</td>\n",
       "      <td>12</td>\n",
       "      <td>...</td>\n",
       "      <td>2</td>\n",
       "      <td>2</td>\n",
       "      <td>1</td>\n",
       "      <td>3</td>\n",
       "      <td>3</td>\n",
       "      <td>3</td>\n",
       "      <td>3</td>\n",
       "      <td>1</td>\n",
       "      <td>1</td>\n",
       "      <td>1</td>\n",
       "    </tr>\n",
       "    <tr>\n",
       "      <th>3</th>\n",
       "      <td>4</td>\n",
       "      <td>1</td>\n",
       "      <td>1</td>\n",
       "      <td>1</td>\n",
       "      <td>3</td>\n",
       "      <td>3</td>\n",
       "      <td>218.738892</td>\n",
       "      <td>0</td>\n",
       "      <td>0</td>\n",
       "      <td>10</td>\n",
       "      <td>...</td>\n",
       "      <td>2</td>\n",
       "      <td>1</td>\n",
       "      <td></td>\n",
       "      <td></td>\n",
       "      <td>6</td>\n",
       "      <td>7</td>\n",
       "      <td>7</td>\n",
       "      <td>1</td>\n",
       "      <td>1</td>\n",
       "      <td>2</td>\n",
       "    </tr>\n",
       "    <tr>\n",
       "      <th>4</th>\n",
       "      <td>5</td>\n",
       "      <td>1</td>\n",
       "      <td>1</td>\n",
       "      <td>1</td>\n",
       "      <td>3</td>\n",
       "      <td>3</td>\n",
       "      <td>217.553040</td>\n",
       "      <td>0</td>\n",
       "      <td>0</td>\n",
       "      <td>10</td>\n",
       "      <td>...</td>\n",
       "      <td>3</td>\n",
       "      <td>1</td>\n",
       "      <td></td>\n",
       "      <td></td>\n",
       "      <td>7</td>\n",
       "      <td>8</td>\n",
       "      <td>8</td>\n",
       "      <td>1</td>\n",
       "      <td>1</td>\n",
       "      <td>2</td>\n",
       "    </tr>\n",
       "  </tbody>\n",
       "</table>\n",
       "<p>5 rows × 300 columns</p>\n",
       "</div>"
      ],
      "text/plain": [
       "   ids  clsids  schids  ctyids  frame  subsample     sweight  fall  grade9  \\\n",
       "0    1       1       1       1      3          3  218.738892     0       0   \n",
       "1    2       1       1       1      3          3  216.518234     0       0   \n",
       "2    3       1       1       1      3          3  216.518234     0       0   \n",
       "3    4       1       1       1      3          3  218.738892     0       0   \n",
       "4    5       1       1       1      3          3  217.553040     0       0   \n",
       "\n",
       "   stcog   ...    steco_3c stonly stsib stsibrank stmedu stfedu stprhedu  \\\n",
       "0     11   ...           3      1                      3      3        3   \n",
       "1     17   ...           2      1                      8      5        8   \n",
       "2     12   ...           2      2     1         3      3      3        3   \n",
       "3     10   ...           2      1                      6      7        7   \n",
       "4     10   ...           3      1                      7      8        8   \n",
       "\n",
       "  stfdrunk stprfight stprrel  \n",
       "0        1         1       2  \n",
       "1        1         1       2  \n",
       "2        1         1       1  \n",
       "3        1         1       2  \n",
       "4        1         1       2  \n",
       "\n",
       "[5 rows x 300 columns]"
      ]
     },
     "execution_count": 4,
     "metadata": {},
     "output_type": "execute_result"
    }
   ],
   "source": [
    "df = pd.read_csv('CEPS.csv',encoding='gb2312')\n",
    "df.head()\n"
   ]
  },
  {
   "cell_type": "markdown",
   "metadata": {},
   "source": [
    "下面的图都至少需要在图上标注：\n",
    "+ 图标题\n",
    "+ x轴标题\n",
    "+ y轴标题\n",
    "+ 适当修改x轴或者y轴的刻度及标签，使之清晰美观\n",
    "+ 根据需要添加图例"
   ]
  },
  {
   "cell_type": "markdown",
   "metadata": {},
   "source": [
    "### 散点图\n",
    "反映期中考试标准化成绩语文（stdchn）和期中考试标准化成绩数学（stdmat）的相关关系"
   ]
  },
  {
   "cell_type": "code",
   "execution_count": 5,
   "metadata": {},
   "outputs": [
    {
     "data": {
      "image/png": "[encoded data removed]",
      "text/plain": [
       "<Figure size 432x288 with 1 Axes>"
      ]
     },
     "metadata": {
      "needs_background": "light"
     },
     "output_type": "display_data"
    }
   ],
   "source": [
    "xminorLocator   = MultipleLocator(5) #将x主刻度标签设置为5的倍数\n",
    "xminorFormatter = FormatStrFormatter('%1.1f') #设置x轴标签文本的格式\n",
    "\n",
    "ymajorLocator   = MultipleLocator(5) #将y轴主刻度标签设置为5的倍数\n",
    "ymajorFormatter = FormatStrFormatter('%1.1f') #设置y轴标签文本的格式\n",
    "\n",
    "fig=plt.figure()\n",
    "ax1=fig.add_subplot(111)\n",
    "ax1.set_title(\"语文与数学散点图\", fontdict=None, loc='center')\n",
    "x=df.stdchn[:100]\n",
    "y=df.stdmat[:100]\n",
    "ax1.set_xlabel('语文成绩')\n",
    "ax1.set_ylabel('数学成绩')\n",
    "ax1.xaxis.set_major_locator(xminorLocator )\n",
    "ax1.xaxis.set_major_formatter(xminorFormatter)\n",
    "\n",
    "ax1.yaxis.set_major_locator(ymajorLocator)\n",
    "ax1.yaxis.set_major_formatter(ymajorFormatter)\n",
    "ax1.set_xlim(0,50)\n",
    "ax1.set_ylim(0,50)\n",
    "\n",
    "plt.scatter(x,y)\n",
    "plt.show()\n"
   ]
  },
  {
   "cell_type": "markdown",
   "metadata": {},
   "source": [
    "### 饼图\n",
    "对问题“你是独生子女吗”(b01)的回答有“是”和“否”两种回答，相应的数字分别是1和2。请画一个饼图反映二者的比例。"
   ]
  },
  {
   "cell_type": "code",
   "execution_count": 6,
   "metadata": {},
   "outputs": [
    {
     "data": {
      "text/plain": [
       "11295"
      ]
     },
     "execution_count": 6,
     "metadata": {},
     "output_type": "execute_result"
    }
   ],
   "source": [
    "sum(df.b01==1)+sum(df.b01==2)"
   ]
  },
  {
   "cell_type": "code",
   "execution_count": 7,
   "metadata": {},
   "outputs": [
    {
     "data": {
      "image/png": "[encoded data removed]",
      "text/plain": [
       "<Figure size 432x288 with 1 Axes>"
      ]
     },
     "metadata": {},
     "output_type": "display_data"
    }
   ],
   "source": [
    "labels = '是', '否'\n",
    "x=sum(df.b01==1)/(sum(df.b01==1)+sum(df.b01==2))\n",
    "y=sum(df.b01==2)/(sum(df.b01==1)+sum(df.b01==2))\n",
    "sizes = [x,y]\n",
    "\n",
    "fig2, ax2 = plt.subplots()\n",
    "ax2.set_title(\"是否是独生子女饼图\", fontdict=None, loc='center')\n",
    "ax2.pie(sizes, labels=labels, autopct='%1.1f%%',\n",
    "        shadow=True, startangle=90)\n",
    "ax2.axis('equal')  # Equal aspect ratio ensures that pie is drawn as a circle.\n",
    "\n",
    "plt.show()"
   ]
  },
  {
   "cell_type": "markdown",
   "metadata": {},
   "source": [
    "### 直方图\n",
    "反映变量“每天晚上睡多长时间-小时”(b18a)的分布情况。"
   ]
  },
  {
   "cell_type": "code",
   "execution_count": 8,
   "metadata": {
    "scrolled": true
   },
   "outputs": [
    {
     "data": {
      "image/png": "[encoded data removed]",
      "text/plain": [
       "<Figure size 432x288 with 1 Axes>"
      ]
     },
     "metadata": {
      "needs_background": "light"
     },
     "output_type": "display_data"
    }
   ],
   "source": [
    "sleep=df.b18a[:50]\n",
    "\n",
    "fig3, ax3 = plt.subplots()\n",
    "ax3.set_title(\"每天睡眠时间直方图\", fontdict=None, loc='center')\n",
    "ax3.hist(sleep,7,histtype='stepfilled')\n",
    "ax3.set_xlabel('睡眠时间')\n",
    "ax3.set_ylabel('频率')\n",
    "plt.show()"
   ]
  },
  {
   "cell_type": "markdown",
   "metadata": {},
   "source": [
    "### 柱图\n",
    "反映变量\"你妈妈是做什么工作的\"(b08a)的职业分布情况，数字和编码关系如下：\n",
    "\n",
    "+ 1\t国家机关事业单位领导与工作人员\n",
    "+ 2\t企业/公司中高级管理人员\n",
    "+ 3\t教师、工程师、医生、律师\n",
    "+ 4\t技术工人（包括司机）\n",
    "+ 5\t生产与制造业一般职工\n",
    "+ 6\t商业与服务业一般职工\n",
    "+ 7\t个体户\n",
    "+ 8\t农民\n",
    "+ 9 无业、失业、下岗\n"
   ]
  },
  {
   "cell_type": "code",
   "execution_count": 12,
   "metadata": {},
   "outputs": [
    {
     "data": {
      "image/png": "[encoded data removed]",
      "text/plain": [
       "<Figure size 432x288 with 1 Axes>"
      ]
     },
     "metadata": {
      "needs_background": "light"
     },
     "output_type": "display_data"
    }
   ],
   "source": [
    "x1=sum(df.b08a=='1')\n",
    "x2=sum(df.b08a=='2')\n",
    "x3=sum(df.b08a=='3')\n",
    "x4=sum(df.b08a=='4')\n",
    "x5=sum(df.b08a=='5')\n",
    "x6=sum(df.b08a=='6')\n",
    "x7=sum(df.b08a=='7')\n",
    "x8=sum(df.b08a=='8')\n",
    "x9=sum(df.b08a=='9')\n",
    "name_list=['国家机关事业单位领导与工作人员','企业/公司中高级管理人员',\n",
    "'教师、工程师、医生、律师','技术工人（包括司机）','生产与制造业一般职工',\n",
    "'商业与服务业一般职工','个体户','农民','无业、失业、下岗']\n",
    "num_list=[x1,x2,x3,x4,x5,x6,x7,x8,x9]\n",
    "plt.barh(range(len(num_list)),num_list,tick_label=name_list)\n",
    "\n",
    "plt.xlabel('频数')\n",
    "plt.title(\"妈妈的职业 柱图\")\n",
    "plt.show()"
   ]
  },
  {
   "cell_type": "code",
   "execution_count": null,
   "metadata": {
    "collapsed": true
   },
   "outputs": [],
   "source": []
  },
  {
   "cell_type": "code",
   "execution_count": null,
   "metadata": {
    "collapsed": true
   },
   "outputs": [],
   "source": []
  },
  {
   "cell_type": "code",
   "execution_count": null,
   "metadata": {
    "collapsed": true
   },
   "outputs": [],
   "source": []
  },
  {
   "cell_type": "code",
   "execution_count": null,
   "metadata": {
    "collapsed": true
   },
   "outputs": [],
   "source": []
  },
  {
   "cell_type": "code",
   "execution_count": null,
   "metadata": {
    "collapsed": true
   },
   "outputs": [],
   "source": []
  }
 ],
 "metadata": {
  "kernelspec": {
   "display_name": "Python 3",
   "language": "python",
   "name": "python3"
  },
  "language_info": {
   "codemirror_mode": {
    "name": "ipython",
    "version": 3
   },
   "file_extension": ".py",
   "mimetype": "text/x-python",
   "name": "python",
   "nbconvert_exporter": "python",
   "pygments_lexer": "ipython3",
   "version": "3.7.0"
  },
  "toc": {
   "base_numbering": 1,
   "nav_menu": {},
   "number_sections": true,
   "sideBar": true,
   "skip_h1_title": false,
   "title_cell": "Table of Contents",
   "title_sidebar": "Contents",
   "toc_cell": false,
   "toc_position": {},
   "toc_section_display": true,
   "toc_window_display": false
  }
 },
 "nbformat": 4,
 "nbformat_minor": 2
}
