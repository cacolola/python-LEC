{
 "cells": [
  {
   "cell_type": "markdown",
   "metadata": {},
   "source": [
    "## 第四次练习"
   ]
  },
  {
   "cell_type": "markdown",
   "metadata": {},
   "source": [
    "+ 请务必交到exer4文件夹下，谢绝交到master下\n",
    "+ 请不要改动任何文件，拜托\n",
    "+ 请在10月30日前提交。"
   ]
  },
  {
   "cell_type": "markdown",
   "metadata": {},
   "source": [
    "请写一下姓名和学号：\n",
    "+ 姓名  胡璟玥\n",
    "+ 学号  0165196"
   ]
  },
  {
   "cell_type": "markdown",
   "metadata": {},
   "source": [
    "#### 题目一\n",
    "一般的歌，分为主歌和副歌部分。副歌有重复，对比两大功能。这就是A－B的基本曲式形式结构。  \n",
    "请找一首你的主打歌，把歌词打印出来，重复的副歌部分，请写一个函数，调用函数打印出来。"
   ]
  },
  {
   "cell_type": "code",
   "execution_count": 1,
   "metadata": {
    "collapsed": false
   },
   "outputs": [
    {
     "name": "stdout",
     "output_type": "stream",
     "text": [
      "劳斯和莱斯 都是花样男子\n",
      "劳斯原是个校队的优秀种子\n",
      "莱斯只喜爱读书 偏偏他俩\n",
      "早见晚见 每日著住同样纯白衬衣\n",
      "罗曼史开场于 相邻的桌椅\n",
      "不过二人 不敢放肆\n",
      "\n",
      "能成为密友大概总带著爱\n",
      "但做对好兄弟又如此相爱 旁人会说不该\n",
      "忘形时搭膊自有一面退开\n",
      "暗里很享受 却怕讲出来\n",
      "两眼即使移开转开\n",
      "心里面也知这是爱\n",
      "\n",
      "能成为密友大概总带著爱\n",
      "但做对好兄弟又如此相爱 旁人会说不该\n",
      "忘形时搭膊自有一面退开\n",
      "暗里很享受 却怕讲出来\n",
      "两眼即使移开转开\n",
      "心里面也知这是爱\n",
      "\n"
     ]
    }
   ],
   "source": [
    "def re():\n",
    "    print(\"能成为密友大概总带著爱\\n但做对好兄弟又如此相爱 旁人会说不该\\n忘形时搭膊自有一面退开\\n暗里很享受 却怕讲出来\\n两眼即使移开转开\\n心里面也知这是爱\\n\")\n",
    "print(\"劳斯和莱斯 都是花样男子\\n劳斯原是个校队的优秀种子\\n莱斯只喜爱读书 偏偏他俩\\n早见晚见 每日著住同样纯白衬衣\\n罗曼史开场于 相邻的桌椅\\n不过二人 不敢放肆\\n\")\n",
    "re()\n",
    "re()"
   ]
  },
  {
   "cell_type": "markdown",
   "metadata": {},
   "source": [
    "#### 题目二\n",
    "请写一个函数，能够计算均值、样本方差和n(自己写公式哦)。\n",
    "每次输入十个以上的数字，能够输出上述三个统计量。\n",
    "至少调用两次。"
   ]
  },
  {
   "cell_type": "code",
   "execution_count": 2,
   "metadata": {
    "collapsed": false
   },
   "outputs": [
    {
     "name": "stdout",
     "output_type": "stream",
     "text": [
      "这组数的均值为6.272727 \n",
      "方差为32.418182 \n",
      "n=11\n",
      "\n",
      "这组数的均值为6.461538 \n",
      "方差为10.935897 \n",
      "n=13\n",
      "\n"
     ]
    }
   ],
   "source": [
    "def statistics(*arg):\n",
    "        sum=0\n",
    "        n=len(arg)\n",
    "        for i in arg:\n",
    "            sum+= float(i)\n",
    "        mean=sum/n\n",
    "        sumsquare=0\n",
    "        for i in arg:\n",
    "            sumsquare=sumsquare+(i-mean)**2\n",
    "        variance=sumsquare/(n-1)\n",
    "        print('这组数的均值为%f' % mean,\n",
    "               '\\n方差为%f'  % variance,\n",
    "                '\\nn=%d\\n' %n)\n",
    "statistics(3,6,4,7,9,5,22,1,2,4,6)\n",
    "statistics(8,6,4,3,9,2,1,8,9,7,5,10,12) "
   ]
  },
  {
   "cell_type": "markdown",
   "metadata": {},
   "source": [
    "#### 题目三\n",
    "刚才那个函数，默认的是输出均值、样本方差和n，请在后面添加一个关键词参数，让这个函数可以选择输出样本标准差或方差。"
   ]
  },
  {
   "cell_type": "code",
   "execution_count": 3,
   "metadata": {
    "collapsed": false
   },
   "outputs": [
    {
     "name": "stdout",
     "output_type": "stream",
     "text": [
      "若想输出标准差按1，想输出方差按其他数字\n",
      "1\n",
      "\n",
      "这组数的均值为6.272727 n=11\n",
      "标准差=32.418182\n",
      "\n",
      "若想输出标准差按1，想输出方差按其他数字\n",
      "2\n",
      "\n",
      "这组数的均值为6.461538 n=13\n",
      "方差=3.306947\n",
      "\n"
     ]
    }
   ],
   "source": [
    "def statistics(*arg):\n",
    "        sum=0\n",
    "        n=len(arg)\n",
    "        for i in arg:\n",
    "            sum+= float(i)\n",
    "        mean=sum/n\n",
    "        sumsquare=0\n",
    "        for i in arg:\n",
    "            sumsquare=sumsquare+(i-mean)**2\n",
    "            variance=sumsquare/(n-1)\n",
    "        print('若想输出标准差按1，想输出方差按其他数字')\n",
    "        choice=int(input())\n",
    "        print('\\n这组数的均值为%f' % mean,\n",
    "               'n=%d' %n,)\n",
    "        if choice==1:\n",
    "                print('标准差=%f\\n'  % variance)\n",
    "        else:\n",
    "             print('方差=%f\\n'  % variance**0.5)\n",
    "statistics(3,6,4,7,9,5,22,1,2,4,6)\n",
    "statistics(8,6,4,3,9,2,1,8,9,7,5,10,12) "
   ]
  },
  {
   "cell_type": "markdown",
   "metadata": {},
   "source": [
    "#### 题目四\n",
    "刚才那个函数，请再增加三个关键词参数，让这个参数可以选择输出均值的标准误、最大值、最小值或不输出这三个统计量。"
   ]
  },
  {
   "cell_type": "code",
   "execution_count": null,
   "metadata": {
    "collapsed": true
   },
   "outputs": [],
   "source": []
  }
 ],
 "metadata": {
  "kernelspec": {
   "display_name": "Python 3",
   "language": "python",
   "name": "python3"
  },
  "language_info": {
   "codemirror_mode": {
    "name": "ipython",
    "version": 3
   },
   "file_extension": ".py",
   "mimetype": "text/x-python",
   "name": "python",
   "nbconvert_exporter": "python",
   "pygments_lexer": "ipython3",
   "version": "3.6.0"
  }
 },
 "nbformat": 4,
 "nbformat_minor": 2
}
