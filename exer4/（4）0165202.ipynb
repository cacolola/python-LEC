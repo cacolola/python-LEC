{
 "cells": [
  {
   "cell_type": "markdown",
   "metadata": {},
   "source": [
    "## 第四次练习"
   ]
  },
  {
   "cell_type": "markdown",
   "metadata": {},
   "source": [
    "+ 请务必交到exer4文件夹下，谢绝交到master下\n",
    "+ 请不要改动任何文件，拜托\n",
    "+ 请在10月30日前提交。"
   ]
  },
  {
   "cell_type": "markdown",
   "metadata": {},
   "source": [
    "请写一下姓名和学号：\n",
    "+ 姓名  温高枫\n",
    "+ 学号  0165202"
   ]
  },
  {
   "cell_type": "markdown",
   "metadata": {},
   "source": [
    "#### 题目一\n",
    "一般的歌，分为主歌和副歌部分。副歌有重复，对比两大功能。这就是A－B的基本曲式形式结构。  \n",
    "请找一首你的主打歌，把歌词打印出来，重复的副歌部分，请写一个函数，调用函数打印出来。"
   ]
  },
  {
   "cell_type": "code",
   "execution_count": 4,
   "metadata": {
    "collapsed": false
   },
   "outputs": [
    {
     "name": "stdout",
     "output_type": "stream",
     "text": [
      "你把我，放在掌心，我把你，捧在手心，两个人互相慰依，自然得很美丽，然而\n",
      "谁说爱像风景，美不美丽都随心，我不相信，直到那天遇到你，那风景，让我情不自禁，身不由己，真的很美丽\n",
      "给你的，不一定是你所需，却一定，会是我的所有，全世界的风景都在我眼里，却不如你你\n",
      "谁说爱像风景，美不美丽都随心，我不相信，直到那天遇到你，那风景，让我情不自禁，身不由己，真的很美丽\n"
     ]
    }
   ],
   "source": [
    "def song(refrain):\n",
    "    print(\"%s\\n谁说爱像风景，美不美丽都随心，我不相信，直到那天遇到你，那风景，让我情不自禁，身不由己，真的很美丽\"%refrain)\n",
    "song('你把我，放在掌心，我把你，捧在手心，两个人互相慰依，自然得很美丽，然而')\n",
    "song('给你的，不一定是你所需，却一定，会是我的所有，全世界的风景都在我眼里，却不如你你')"
   ]
  },
  {
   "cell_type": "markdown",
   "metadata": {},
   "source": [
    "#### 题目二\n",
    "请写一个函数，能够计算均值、样本方差和n(自己写公式哦)。\n",
    "每次输入十个以上的数字，能够输出上述三个统计量。\n",
    "至少调用两次。"
   ]
  },
  {
   "cell_type": "code",
   "execution_count": 32,
   "metadata": {
    "collapsed": false
   },
   "outputs": [
    {
     "name": "stdout",
     "output_type": "stream",
     "text": [
      "5.5 8.25 10\n",
      "6.5 8.25 10\n"
     ]
    }
   ],
   "source": [
    "def caculate(*arg1):\n",
    "    n=0\n",
    "    sum=0\n",
    "    s=0\n",
    "    for value in arg1:\n",
    "        n=1+n\n",
    "        sum=value+sum\n",
    "    mean=sum/n\n",
    "    for value in arg1:\n",
    "        s=(value-mean)*(value-mean)+s\n",
    "    s=s/n\n",
    "    print(mean,s,n)\n",
    " \n",
    "caculate(1,2,3,4,5,6,7,8,9,10)\n",
    "caculate(2,3,4,5,6,7,8,9,10,11)"
   ]
  },
  {
   "cell_type": "markdown",
   "metadata": {},
   "source": [
    "#### 题目三\n",
    "刚才那个函数，默认的是输出均值、样本方差和n，请在后面添加一个关键词参数，让这个函数可以选择输出样本标准差或方差。"
   ]
  },
  {
   "cell_type": "code",
   "execution_count": 33,
   "metadata": {
    "collapsed": false
   },
   "outputs": [
    {
     "name": "stdout",
     "output_type": "stream",
     "text": [
      "5.5 2.8722813232690143 10\n",
      "6.5 8.25 10\n"
     ]
    }
   ],
   "source": [
    "def caculate(arg_1,*arg_2):\n",
    "    n=0\n",
    "    sum=0\n",
    "    s=0\n",
    "    for value in arg_2:\n",
    "        n=1+n\n",
    "        sum=value+sum\n",
    "    mean=sum/n\n",
    "    for value in arg_2:\n",
    "        s=(value-mean)*(value-mean)+s\n",
    "    if arg_1==1:\n",
    "        s=s/n\n",
    "    else:\n",
    "        s=(s/n)**(1/2)\n",
    "    print(mean,s,n)\n",
    " \n",
    "caculate(0,1,2,3,4,5,6,7,8,9,10)\n",
    "caculate(1,2,3,4,5,6,7,8,9,10,11)"
   ]
  },
  {
   "cell_type": "markdown",
   "metadata": {},
   "source": [
    "#### 题目四\n",
    "刚才那个函数，请再增加三个关键词参数，让这个参数可以选择输出均值的标准误、最大值、最小值或不输出这三个统计量。"
   ]
  },
  {
   "cell_type": "code",
   "execution_count": 10,
   "metadata": {
    "collapsed": false
   },
   "outputs": [
    {
     "name": "stdout",
     "output_type": "stream",
     "text": [
      "2.29128784747792\n",
      "7.5 5.25 8\n",
      "\n",
      "6.25 7.4375 8\n",
      "\n",
      "6.25 7.4375 8\n",
      "\n"
     ]
    }
   ],
   "source": [
    "def caculate(arg_1,arg_3,arg_4,*arg_2):\n",
    "    n=0\n",
    "    sum=0\n",
    "    s=0\n",
    "    for value in arg_2:\n",
    "        n=1+n\n",
    "        sum=value+sum\n",
    "    mean=sum/n\n",
    "    for value in arg_2:\n",
    "        s=(value-mean)*(value-mean)+s\n",
    "    s=s/n\n",
    "    if arg_1==1:\n",
    "        print(s**(1/2))\n",
    "    if arg_3==1:\n",
    "        print(max(arg_2))\n",
    "    if arg_4==1:\n",
    "        print(min(arg_2))\n",
    "    print(mean,s,n)\n",
    "    print()\n",
    " \n",
    "caculate(1,2,3,4,5,6,7,8,9,10,11)\n",
    "caculate(0,2,3,4,5,6,7,8,9,10,1)"
   ]
  },
  {
   "cell_type": "code",
   "execution_count": null,
   "metadata": {
    "collapsed": true
   },
   "outputs": [],
   "source": []
  }
 ],
 "metadata": {
  "kernelspec": {
   "display_name": "Python 3",
   "language": "python",
   "name": "python3"
  },
  "language_info": {
   "codemirror_mode": {
    "name": "ipython",
    "version": 3
   },
   "file_extension": ".py",
   "mimetype": "text/x-python",
   "name": "python",
   "nbconvert_exporter": "python",
   "pygments_lexer": "ipython3",
   "version": "3.6.0"
  }
 },
 "nbformat": 4,
 "nbformat_minor": 2
}
