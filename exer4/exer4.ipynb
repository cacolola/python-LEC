{
 "cells": [
  {
   "cell_type": "markdown",
   "metadata": {},
   "source": [
    "## 第四次练习"
   ]
  },
  {
   "cell_type": "markdown",
   "metadata": {},
   "source": [
    "+ 请务必交到exer4文件夹下，谢绝交到master下\n",
    "+ 请不要改动任何文件，拜托\n",
    "+ 请在10月30日前提交。"
   ]
  },
  {
   "cell_type": "markdown",
   "metadata": {},
   "source": [
    "请写一下姓名和学号：\n",
    "+ 姓名  龙怡敏\n",
    "+ 学号  0163091"
   ]
  },
  {
   "cell_type": "markdown",
   "metadata": {},
   "source": [
    "#### 题目一\n",
    "一般的歌，分为主歌和副歌部分。副歌有重复，对比两大功能。这就是A－B的基本曲式形式结构。  \n",
    "请找一首你的主打歌，把歌词打印出来，重复的副歌部分，请写一个函数，调用函数打印出来。"
   ]
  },
  {
   "cell_type": "code",
   "execution_count": 31,
   "metadata": {},
   "outputs": [
    {
     "name": "stdout",
     "output_type": "stream",
     "text": [
      "But I can't complain,\n",
      "\n",
      "I can't complain\n",
      "\n",
      "Every day's too short to let it go to waste.\n",
      "\n",
      "And I can't complain,\n",
      "\n",
      "I can't complain.\n",
      "\n",
      "but i can't complain!\n"
     ]
    }
   ],
   "source": [
    "f = open(\"can't complain.txt\",\"r\")\n",
    "for f.readline in f:\n",
    "    print(f.readline)\n",
    "def favourite_song(lyrics):\n",
    "    print(\"%s\" % lyrics)\n",
    "favourite_song(\"but i can't complain!\")"
   ]
  },
  {
   "cell_type": "markdown",
   "metadata": {},
   "source": [
    "#### 题目二\n",
    "请写一个函数，能够计算均值、样本方差和n(自己写公式哦)。\n",
    "每次输入十个以上的数字，能够输出上述三个统计量。\n",
    "至少调用两次。"
   ]
  },
  {
   "cell_type": "code",
   "execution_count": 5,
   "metadata": {
    "scrolled": true
   },
   "outputs": [
    {
     "name": "stdout",
     "output_type": "stream",
     "text": [
      "输入你想计算的数字，以空格键隔开：1 2 3 4\n",
      "样本均值是:2.5\n",
      "样本方差是:1.5\n"
     ]
    }
   ],
   "source": [
    "li_1 = []\n",
    "number_in = input(\"输入你想计算的数字，以空格键隔开：\")\n",
    "li_1.append(number_in)\n",
    "list_0 = number_in.split(\" \")\n",
    "\n",
    "def sum1(list_0):\n",
    "    s = 0\n",
    "    for a in list_0:\n",
    "        s = s + int(a)\n",
    "    return s\n",
    "\n",
    "\n",
    "def average(list_0):\n",
    "    average1 = sum1(list_0)/len(list_0)\n",
    "    return average1\n",
    "print(\"样本均值是:%s\"%average(list_0))\n",
    "\n",
    "\n",
    "def variance(list_0):\n",
    "    v_1 = 0\n",
    "    for a in list_0:\n",
    "        a = int(a)\n",
    "        b = int(average(list_0))\n",
    "        v_1 += (a - b)**2 / len(list_0)\n",
    "    return v_1\n",
    "print(\"样本方差是:%s\"%variance(list_0))"
   ]
  },
  {
   "cell_type": "markdown",
   "metadata": {},
   "source": [
    "#### 题目三\n",
    "刚才那个函数，默认的是输出均值、样本方差和n，请在后面添加一个关键词参数，让这个函数可以选择输出样本标准差或方差。"
   ]
  },
  {
   "cell_type": "code",
   "execution_count": 7,
   "metadata": {},
   "outputs": [
    {
     "name": "stdout",
     "output_type": "stream",
     "text": [
      "想输入样本标准差请输入1，想输入方差请输入21\n",
      "样本标准差是：1.224744871391589\n"
     ]
    }
   ],
   "source": [
    "def standard_derivation(lsit_0):\n",
    "    std = (variance(list_0))**(1/2)\n",
    "    return std\n",
    "a = int(input(\"想输入样本标准差请输入1，想输入方差请输入2\"))\n",
    "if a == 1:\n",
    "    print(\"样本标准差是：%s\"%standard_derivation(list_0))\n",
    "else:\n",
    "    print(\"样本方差是：%s\"%variance(lsit_0))\n"
   ]
  },
  {
   "cell_type": "markdown",
   "metadata": {},
   "source": [
    "#### 题目四\n",
    "刚才那个函数，请再增加三个关键词参数，让这个参数可以选择输出均值的标准误、最大值、最小值或不输出这三个统计量。"
   ]
  },
  {
   "cell_type": "code",
   "execution_count": 18,
   "metadata": {},
   "outputs": [
    {
     "name": "stdout",
     "output_type": "stream",
     "text": [
      "想输入最大值得请输入3，想输入最小值的请输入4，想输入均值的标准误请输入6，不输出的的请输入73\n",
      "最大值是：4\n"
     ]
    }
   ],
   "source": [
    "def sem(list_0):\n",
    "    sm = standard_derivation(list_0)/(len(list_0)**(1/2))\n",
    "    return sm\n",
    "b = int(input(\"想输入最大值得请输入3，想输入最小值的请输入4，想输入均值的标准误请输入6，不输出的的请输入7\"))\n",
    "if b == 3:\n",
    "    print(\"最大值是：%s\"%max(list_0))\n",
    "if b == 4:\n",
    "    print(\"最大值是：%s\"%min(list_0))\n",
    "if b == 6:\n",
    "    print(\"均值的标准误是：%s\"%sem(list_0))\n",
    "    \n",
    " "
   ]
  },
  {
   "cell_type": "code",
   "execution_count": null,
   "metadata": {},
   "outputs": [],
   "source": []
  }
 ],
 "metadata": {
  "kernelspec": {
   "display_name": "Python 3",
   "language": "python",
   "name": "python3"
  },
  "language_info": {
   "codemirror_mode": {
    "name": "ipython",
    "version": 3
   },
   "file_extension": ".py",
   "mimetype": "text/x-python",
   "name": "python",
   "nbconvert_exporter": "python",
   "pygments_lexer": "ipython3",
   "version": "3.6.5"
  }
 },
 "nbformat": 4,
 "nbformat_minor": 2
}
