{
 "cells": [
  {
   "cell_type": "markdown",
   "metadata": {},
   "source": [
    "## 第二次练习\n",
    "\n",
    "+ 请**务必**交到**exer2**文件夹下，谢绝交到master下\n",
    "+ 请**不要改动**任何文件，拜托\n",
    "+ 请在10月16日前提交。"
   ]
  },
  {
   "cell_type": "markdown",
   "metadata": {},
   "source": [
    "### 食物和热量\n",
    "\n",
    "已知，以下食物每100g的千卡路里如下：\n",
    "\n",
    "小米粥 45  \n",
    "粗粮馒头 223  \n",
    "全麦面包 235  \n",
    "瘦猪肉 143  \n",
    "鸡翅 194  \n",
    "培根 181  \n",
    "火腿肠 212 \n",
    "\n",
    "建立一个空的字典，把上述键值对依此添加进去。 \n",
    "通过循环形式，显示，如“我吃了二两”+“小米粥”，“增加了”+“45”千卡路里。"
   ]
  },
  {
   "cell_type": "code",
   "execution_count": 17,
   "metadata": {
    "collapsed": false
   },
   "outputs": [
    {
     "name": "stdout",
     "output_type": "stream",
     "text": [
      "\n",
      "我吃了二两小米粥增加了45千卡路里\n",
      "\n",
      "我吃了二两粗粮馒头增加了223千卡路里\n",
      "\n",
      "我吃了二两全麦面包增加了235千卡路里\n",
      "\n",
      "我吃了二两瘦猪肉增加了143千卡路里\n",
      "\n",
      "我吃了二两鸡翅增加了194千卡路里\n",
      "\n",
      "我吃了二两培根增加了181千卡路里\n",
      "\n",
      "我吃了二两火腿肠增加了212千卡路里\n"
     ]
    }
   ],
   "source": [
    "food_calorie={\n",
    "    '小米粥':'45',\n",
    "    '粗粮馒头':'223',\n",
    "    '全麦面包':'235',\n",
    "    '瘦猪肉':'143',\n",
    "    '鸡翅':'194',\n",
    "    '培根':'181',\n",
    "    '火腿肠':'212',\n",
    "}\n",
    "for a,b in food_calorie.items():\n",
    "    print (\"\\n我吃了二两%s\" %a+\"增加了%s千卡路里\"%b)"
   ]
  },
  {
   "cell_type": "markdown",
   "metadata": {},
   "source": [
    "### 运动和消耗\n",
    "常见三种运动的消耗热量表：  \n",
    "慢走 (一小时4公里) 255 卡  \n",
    "慢跑 (一小时9公里) 655 卡  \n",
    "羽毛球（一小时） 440 卡  \n",
    "\n",
    "模仿课件3-dict_set中的cell[9]做个刷题，直到答对而且答完为止。"
   ]
  },
  {
   "cell_type": "code",
   "execution_count": null,
   "metadata": {
    "collapsed": false
   },
   "outputs": [
    {
     "name": "stdout",
     "output_type": "stream",
     "text": [
      "\n",
      "慢走 (一小时4公里) \n",
      "\n",
      "你觉得这种运动能消耗多少卡路里？\n",
      "255卡  655 卡  440 卡   \n",
      "- 255卡\n",
      "猜对啦！！\n",
      "\n",
      "慢跑 (一小时9公里)\n",
      "\n",
      "你觉得这种运动能消耗多少卡路里？\n",
      "255卡  655 卡  440 卡   \n",
      "- 255卡\n",
      "猜错了QAQ 再接再厉哦！\n",
      "\n",
      "你觉得这种运动能消耗多少卡路里？\n",
      "255卡  655 卡  440 卡   \n"
     ]
    }
   ],
   "source": [
    "python_words = {'255卡':'慢走 (一小时4公里) ',\n",
    "                '655 卡': '慢跑 (一小时9公里)',\n",
    "                '440 卡 ': '羽毛球（一小时）',\n",
    "                }\n",
    "\n",
    "def show_words(python_words):\n",
    "    display_message = \"\"\n",
    "    for word in python_words.keys():\n",
    "        display_message += word + '  '\n",
    "    print(display_message)\n",
    "\n",
    "for meaning in python_words.values():\n",
    "    print(\"\\n%s\" % meaning)\n",
    "    correct = False\n",
    "    while not correct:\n",
    "        \n",
    "        print(\"\\n你觉得这种运动能消耗多少卡路里？\")\n",
    "        show_words(python_words)\n",
    "        guessed_word = input(\"- \")    \n",
    "        if python_words[guessed_word] == meaning:\n",
    "            print(\"猜对啦！！\")\n",
    "            correct = True\n",
    "        else:\n",
    "            print(\"猜错了QAQ 再接再厉哦！\")"
   ]
  },
  {
   "cell_type": "code",
   "execution_count": 10,
   "metadata": {
    "collapsed": false
   },
   "outputs": [
    {
     "name": "stdout",
     "output_type": "stream",
     "text": [
      "Dictionary: A collection of key-value pairs.\n",
      "Function: A named set of instructions that defines a set of actions in Python.\n",
      "List: A collection of values that are not connected, but have an order.\n"
     ]
    }
   ],
   "source": [
    "# 对dict来说，输出时不按任何顺序\n",
    "# 可以通过sorted()函数使结果有序输出\n",
    "python_words = {'list': 'A collection of values that are not connected, but have an order.',\n",
    "                'dictionary': 'A collection of key-value pairs.',\n",
    "                'function': 'A named set of instructions that defines a set of actions in Python.',\n",
    "                }\n",
    "\n",
    "for word in sorted(python_words.keys()):\n",
    "    print(\"%s: %s\" % (word.title(), python_words[word]))"
   ]
  },
  {
   "cell_type": "markdown",
   "metadata": {},
   "source": [
    "### 江西最高山\n",
    "\n",
    "[江西最高的十座山]{http://jx.ifeng.com/a/20160628/4693979_0.shtml}\n",
    "\n",
    "请模仿上例，创建包含山名和海拔的dict，并按如下形式循环输出：  \n",
    "“黄岗山海拔2157.8米”"
   ]
  },
  {
   "cell_type": "code",
   "execution_count": 2,
   "metadata": {
    "collapsed": false
   },
   "outputs": [
    {
     "name": "stdout",
     "output_type": "stream",
     "text": [
      "九岭头海拔 1794米\n",
      "五虎岗海拔 1891米\n",
      "军峰山海拔 1760.9米\n",
      "南风面海拔 2120.4米\n",
      "武功山金顶（白鹤峰）海拔 1918.3米\n",
      "独竖尖海拔 2128米\n",
      "玉京峰海拔 1819.9米\n",
      "过风坳海拔 1887米\n",
      "黄岗山海拔 2157.8米\n",
      "齐云山海拔 2061.3米\n"
     ]
    }
   ],
   "source": [
    "mountain_hight={\n",
    "    '军峰山':'1760.9',\n",
    "    '九岭头':'1794',\n",
    "    '玉京峰':'1819.9',\n",
    "    '过风坳':'1887',\n",
    "    '五虎岗':'1891',\n",
    "    '武功山金顶（白鹤峰）':'1918.3',\n",
    "    '齐云山':'2061.3',\n",
    "    '南风面':'2120.4',\n",
    "    '独竖尖':'2128',\n",
    "    '黄岗山':'2157.8',\n",
    "}\n",
    "for a in sorted(mountain_hight.keys()):\n",
    "    print(\"%s海拔 %s米\" % (a.title(),mountain_hight[a]))"
   ]
  },
  {
   "cell_type": "markdown",
   "metadata": {},
   "source": [
    "### 为室友打一波广告\n",
    "请参照课件3-dict_set中的cell[15]“卖室友”吧。  \n",
    "第一层dict的key可自选，如身高、爱好、技能等等。\n",
    "并以以下形式循环输出：  \n",
    "我知道的XXX，TA:  \n",
    "身高：160  \n",
    "爱好：吸猫  \n",
    "技能：python  \n",
    "\n",
    "\n",
    "\n"
   ]
  },
  {
   "cell_type": "code",
   "execution_count": 6,
   "metadata": {
    "collapsed": false
   },
   "outputs": [
    {
     "name": "stdout",
     "output_type": "stream",
     "text": [
      "\n",
      "我知道的璇儿, TA:\n",
      "性别: 女\n",
      "爱好: 看帅哥！\n",
      "技能: 跳舞\n",
      "\n",
      "我知道的岚妹, TA:\n",
      "性别: 女\n",
      "爱好: 看恐怖片！\n",
      "技能: 计算机\n",
      "\n",
      "我知道的66, TA:\n",
      "性别: 女\n",
      "爱好: 吃喝玩乐！\n",
      "技能: R语言\n"
     ]
    }
   ],
   "source": [
    "a={'璇儿': {'性别': '女', '爱好': '看帅哥！', '技能':'跳舞'},\n",
    "        '岚妹': {'性别': '女', '爱好': '看恐怖片！', '技能':'计算机'},\n",
    "        '66': {'性别': '女', '爱好': '吃喝玩乐！', '技能':'R语言'},\n",
    "         }\n",
    "for b, c in a.items():\n",
    "    print(\"\\n我知道的%s, TA:\" % b.title())\n",
    "    print(\"性别: \" + c['性别'])\n",
    "    print(\"爱好: \" + c['爱好'])\n",
    "    print(\"技能: \" + c['技能'])"
   ]
  }
 ],
 "metadata": {
  "kernelspec": {
   "display_name": "Python 3",
   "language": "python",
   "name": "python3"
  },
  "language_info": {
   "codemirror_mode": {
    "name": "ipython",
    "version": 3
   },
   "file_extension": ".py",
   "mimetype": "text/x-python",
   "name": "python",
   "nbconvert_exporter": "python",
   "pygments_lexer": "ipython3",
   "version": "3.6.0"
  },
  "toc": {
   "base_numbering": 1,
   "nav_menu": {},
   "number_sections": true,
   "sideBar": true,
   "skip_h1_title": false,
   "title_cell": "Table of Contents",
   "title_sidebar": "Contents",
   "toc_cell": false,
   "toc_position": {},
   "toc_section_display": true,
   "toc_window_display": false
  }
 },
 "nbformat": 4,
 "nbformat_minor": 2
}
