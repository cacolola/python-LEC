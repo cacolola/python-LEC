{
 "cells": [
  {
   "cell_type": "markdown",
   "metadata": {},
   "source": [
    "## 第二次练习\n",
    "\n",
    "+ 请**务必**交到**exer2**文件夹下，谢绝交到master下\n",
    "+ 请**不要改动**任何文件，拜托\n",
    "+ 请在10月16日前提交。"
   ]
  },
  {
   "cell_type": "markdown",
   "metadata": {},
   "source": [
    "### 食物和热量\n",
    "\n",
    "已知，以下食物每100g的千卡路里如下：\n",
    "\n",
    "小米粥 45  \n",
    "粗粮馒头 223  \n",
    "全麦面包 235  \n",
    "瘦猪肉 143  \n",
    "鸡翅 194  \n",
    "培根 181  \n",
    "火腿肠 212 \n",
    "\n",
    "建立一个空的字典，把上述键值对依此添加进去。 \n",
    "通过循环形式，显示，如“我吃了二两”+“小米粥”，“增加了”+“45”千卡路里。"
   ]
  },
  {
   "cell_type": "code",
   "execution_count": 1,
   "metadata": {
    "collapsed": false
   },
   "outputs": [
    {
     "name": "stdout",
     "output_type": "stream",
     "text": [
      "\n",
      "我吃了二两小米粥，增加了45千卡路里。\n",
      "\n",
      "我吃了二两粗粮馒头，增加了223千卡路里。\n",
      "\n",
      "我吃了二两全麦面包，增加了235千卡路里。\n",
      "\n",
      "我吃了二两瘦猪肉，增加了143千卡路里。\n",
      "\n",
      "我吃了二两鸡翅，增加了194千卡路里。\n",
      "\n",
      "我吃了二两培根，增加了181千卡路里。\n",
      "\n",
      "我吃了二两火腿肠，增加了212千卡路里。\n"
     ]
    }
   ],
   "source": [
    "food_calorie = {}\n",
    "food_calorie['小米粥'] = 45\n",
    "food_calorie['粗粮馒头'] = 223\n",
    "food_calorie['全麦面包'] = 235\n",
    "food_calorie['瘦猪肉'] = 143\n",
    "food_calorie['鸡翅'] = 194\n",
    "food_calorie['培根'] = 181\n",
    "food_calorie['火腿肠'] = 212\n",
    "for food,calorie in food_calorie.items():\n",
    "    print('\\n我吃了二两%s，增加了%s千卡路里。' % (food,calorie))"
   ]
  },
  {
   "cell_type": "markdown",
   "metadata": {},
   "source": [
    "### 运动和消耗\n",
    "常见三种运动的消耗热量表：  \n",
    "慢走 (一小时4公里) 255 卡  \n",
    "慢跑 (一小时9公里) 655 卡  \n",
    "羽毛球（一小时） 440 卡  \n",
    "\n",
    "模仿课件3-dict_set中的cell[9]做个刷题，直到答对而且答完为止。"
   ]
  },
  {
   "cell_type": "code",
   "execution_count": 2,
   "metadata": {
    "collapsed": false
   },
   "outputs": [
    {
     "name": "stdout",
     "output_type": "stream",
     "text": [
      "\n",
      "慢走\n",
      "这项运动一小时消耗的卡路里是多少？\n",
      "- 255\n",
      "答对啦！\n",
      "\n",
      "\n",
      "慢跑\n",
      "这项运动一小时消耗的卡路里是多少？\n",
      "- 655\n",
      "答对啦！\n",
      "\n",
      "\n",
      "羽毛球\n",
      "这项运动一小时消耗的卡路里是多少？\n",
      "- 400\n",
      "答对啦！\n",
      "\n"
     ]
    }
   ],
   "source": [
    "sport_calorie = {'慢走': '255',\n",
    "                '慢跑': '655',\n",
    "                '羽毛球': '400',\n",
    "                }\n",
    "\n",
    "for sport in sport_calorie.keys():\n",
    "    print(\"\\n%s\" % sport)\n",
    "\n",
    "    correct = False\n",
    "    while not correct:\n",
    "        \n",
    "        print(\"这项运动一小时消耗的卡路里是多少？\")     \n",
    "        guessed_word = input(\"- \")    \n",
    "        \n",
    "        if sport_calorie[sport] == guessed_word:\n",
    "            print(\"答对啦！\\n\")\n",
    "            correct = True\n",
    "        else:\n",
    "            print(\"答错了，再想想吧！\")"
   ]
  },
  {
   "cell_type": "code",
   "execution_count": 1,
   "metadata": {
    "collapsed": false
   },
   "outputs": [
    {
     "name": "stdout",
     "output_type": "stream",
     "text": [
      "Dictionary: A collection of key-value pairs.\n",
      "Function: A named set of instructions that defines a set of actions in Python.\n",
      "List: A collection of values that are not connected, but have an order.\n"
     ]
    }
   ],
   "source": [
    "# 对dict来说，输出时不按任何顺序\n",
    "# 可以通过sorted()函数使结果有序输出\n",
    "python_words = {'list': 'A collection of values that are not connected, but have an order.',\n",
    "                'dictionary': 'A collection of key-value pairs.',\n",
    "                'function': 'A named set of instructions that defines a set of actions in Python.',\n",
    "                }\n",
    "\n",
    "for word in sorted(python_words.keys()):\n",
    "    print(\"%s: %s\" % (word.title(), python_words[word]))"
   ]
  },
  {
   "cell_type": "markdown",
   "metadata": {},
   "source": [
    "### 江西最高山\n",
    "\n",
    "[江西最高的十座山]{http://jx.ifeng.com/a/20160628/4693979_0.shtml}\n",
    "\n",
    "请模仿上例，创建包含山名和海拔的dict，并按如下形式循环输出：  \n",
    "“黄岗山海拔2157.8米”"
   ]
  },
  {
   "cell_type": "code",
   "execution_count": 30,
   "metadata": {
    "collapsed": false
   },
   "outputs": [
    {
     "name": "stdout",
     "output_type": "stream",
     "text": [
      "黄岗山海拔2157.8米\n",
      "独竖尖海拔2128.0米\n",
      "南风面海拔2120.4米\n",
      "齐云山海拔2061.3米\n",
      "武功山金顶海拔1918.3米\n",
      "五虎岗海拔1891.0米\n",
      "过风坳海拔1887.0米\n",
      "玉京峰海拔1819.9米\n",
      "九岭头海拔1794.0米\n",
      "军峰山海拔1760.9米\n"
     ]
    }
   ],
   "source": [
    "mountain_altitude = {'军峰山': 1760.9,\n",
    "                     '过风坳': 1887.0,\n",
    "                     '黄岗山': 2157.8,\n",
    "                     '五虎岗': 1891.0,\n",
    "                     '独竖尖': 2128.0,\n",
    "                     '武功山金顶': 1918.3,\n",
    "                     '齐云山': 2061.3,\n",
    "                     '九岭头': 1794.0,\n",
    "                     '玉京峰': 1819.9,\n",
    "                     '南风面': 2120.4,\n",
    "                     }\n",
    "\n",
    "for mountain in sorted(mountain_altitude.values(),reverse=True):\n",
    "    print(\"%s海拔%s米\" % (list (mountain_altitude.keys()) [list (mountain_altitude.values()).index(mountain)],mountain))"
   ]
  },
  {
   "cell_type": "markdown",
   "metadata": {},
   "source": [
    "### 为室友打一波广告\n",
    "请参照课件3-dict_set中的cell[15]“卖室友”吧。  \n",
    "第一层dict的key可自选，如身高、爱好、技能等等。\n",
    "并以以下形式循环输出：  \n",
    "我知道的XXX，TA:  \n",
    "身高：160  \n",
    "爱好：吸猫  \n",
    "技能：python  \n",
    "\n",
    "\n",
    "\n"
   ]
  },
  {
   "cell_type": "code",
   "execution_count": 32,
   "metadata": {
    "collapsed": false
   },
   "outputs": [
    {
     "name": "stdout",
     "output_type": "stream",
     "text": [
      "\n",
      "我知道每的张三，他:\n",
      "身高: 175cm\n",
      "爱好: 旅游\n",
      "体重: 135kg\n",
      "\n",
      "我知道每的李四，他:\n",
      "身高: 168cm\n",
      "爱好: 宅\n",
      "体重: 130kg\n",
      "\n",
      "我知道每的王五，他:\n",
      "身高: 182cm\n",
      "爱好: 玩游戏\n",
      "体重: 145kg\n"
     ]
    }
   ],
   "source": [
    "roommates = {'张三': {'身高': '175cm', '爱好': '旅游', '体重':'135kg'},\n",
    "             '李四': {'身高': '168cm', '爱好': '宅', '体重':'130kg'},\n",
    "             '王五': {'身高': '182cm', '爱好': '玩游戏', '体重':'145kg'},\n",
    "             }\n",
    "\n",
    "\n",
    "for roommate_name, roommate_information in roommates.items():\n",
    "    print(\"\\n我知道每的%s，他:\" % roommate_name.title())\n",
    "    print(\"身高: \" + roommate_information['身高'])\n",
    "    print(\"爱好: \" + roommate_information['爱好'])\n",
    "    print(\"体重: \" + roommate_information['体重'])"
   ]
  }
 ],
 "metadata": {
  "kernelspec": {
   "display_name": "Python 3",
   "language": "python",
   "name": "python3"
  },
  "language_info": {
   "codemirror_mode": {
    "name": "ipython",
    "version": 3
   },
   "file_extension": ".py",
   "mimetype": "text/x-python",
   "name": "python",
   "nbconvert_exporter": "python",
   "pygments_lexer": "ipython3",
   "version": "3.6.0"
  },
  "toc": {
   "base_numbering": 1,
   "nav_menu": {},
   "number_sections": true,
   "sideBar": true,
   "skip_h1_title": false,
   "title_cell": "Table of Contents",
   "title_sidebar": "Contents",
   "toc_cell": false,
   "toc_position": {},
   "toc_section_display": true,
   "toc_window_display": false
  }
 },
 "nbformat": 4,
 "nbformat_minor": 2
}
