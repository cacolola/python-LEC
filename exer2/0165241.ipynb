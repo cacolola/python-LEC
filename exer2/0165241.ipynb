{
 "cells": [
  {
   "cell_type": "markdown",
   "metadata": {},
   "source": [
    "## 第二次练习\n",
    "\n",
    "+ 请**务必**交到**exer2**文件夹下，谢绝交到master下\n",
    "+ 请**不要改动**任何文件，拜托\n",
    "+ 请在10月16日前提交。"
   ]
  },
  {
   "cell_type": "markdown",
   "metadata": {},
   "source": [
    "### 食物和热量\n",
    "\n",
    "已知，以下食物每100g的千卡路里如下：\n",
    "\n",
    "小米粥 45  \n",
    "粗粮馒头 223  \n",
    "全麦面包 235  \n",
    "瘦猪肉 143  \n",
    "鸡翅 194  \n",
    "培根 181  \n",
    "火腿肠 212 \n",
    "\n",
    "建立一个空的字典，把上述键值对依此添加进去。 \n",
    "通过循环形式，显示，如“我吃了二两”+“小米粥”，“增加了”+“45”千卡路里。"
   ]
  },
  {
   "cell_type": "code",
   "execution_count": 1,
   "metadata": {},
   "outputs": [
    {
     "name": "stdout",
     "output_type": "stream",
     "text": [
      "我吃了二两小米粥增加了45千卡路里。\n",
      "我吃了二两粗粮馒头增加了223千卡路里。\n",
      "我吃了二两全麦面包增加了235千卡路里。\n",
      "我吃了二两瘦猪肉增加了143千卡路里。\n",
      "我吃了二两鸡翅增加了194千卡路里。\n",
      "我吃了二两培根增加了181千卡路里。\n",
      "我吃了二两火腿肠增加了212千卡路里。\n"
     ]
    }
   ],
   "source": [
    "dict = {}\n",
    "dict['小米粥'] = 45\n",
    "dict['粗粮馒头'] = 223\n",
    "dict['全麦面包'] = 235\n",
    "dict['瘦猪肉'] = 143\n",
    "dict['鸡翅'] = 194\n",
    "dict['培根'] = 181\n",
    "dict['火腿肠'] = 212\n",
    "for key, value in dict.items():\n",
    "    print(\"我吃了二两\" + \"%s\" % key + \"增加了%d千卡路里。\" % value)"
   ]
  },
  {
   "cell_type": "markdown",
   "metadata": {},
   "source": [
    "### 运动和消耗\n",
    "常见三种运动的消耗热量表：  \n",
    "慢走 (一小时4公里) 255 卡  \n",
    "慢跑 (一小时9公里) 655 卡  \n",
    "羽毛球（一小时） 440 卡  \n",
    "\n",
    "模仿课件3-dict_set中的cell[9]做个刷题，直到答对而且答完为止。"
   ]
  },
  {
   "cell_type": "code",
   "execution_count": 2,
   "metadata": {},
   "outputs": [
    {
     "name": "stdout",
     "output_type": "stream",
     "text": [
      "\n",
      "慢走 (一小时4公里)\n",
      "\n",
      "这个运动耗多少卡？\n",
      "255卡  655卡  440卡  \n",
      "- 255卡\n",
      "你真NiuPi！\n",
      "\n",
      "慢跑 (一小时9公里)\n",
      "\n",
      "这个运动耗多少卡？\n",
      "255卡  655卡  440卡  \n",
      "- 655卡\n",
      "你真NiuPi！\n",
      "\n",
      "羽毛球（一小时）\n",
      "\n",
      "这个运动耗多少卡？\n",
      "255卡  655卡  440卡  \n",
      "- 440卡\n",
      "你真NiuPi！\n"
     ]
    }
   ],
   "source": [
    "fat = { '255卡': '慢走 (一小时4公里)',\n",
    "        '655卡': '慢跑 (一小时9公里)',\n",
    "        '440卡': '羽毛球（一小时）',\n",
    "       }\n",
    "def show(fat):\n",
    "    display = \"\"\n",
    "    for word in fat.keys():\n",
    "        display += word + '  '\n",
    "    print(display)\n",
    "    \n",
    "for sport in fat.values():\n",
    "    \n",
    "    print(\"\\n%s\" % sport)\n",
    "    correct = False\n",
    "    while not correct:\n",
    "        print(\"\\n这个运动耗多少卡？\")\n",
    "        show(fat)\n",
    "        cal = input(\"- \")\n",
    "        \n",
    "        if fat[cal] == sport:\n",
    "            print(\"你真NiuPi！\")\n",
    "            correct = True\n",
    "        else:\n",
    "            print(\"真不是你傻，是问题太变态！\")"
   ]
  },
  {
   "cell_type": "code",
   "execution_count": 3,
   "metadata": {},
   "outputs": [
    {
     "name": "stdout",
     "output_type": "stream",
     "text": [
      "Dictionary: A collection of key-value pairs.\n",
      "Function: A named set of instructions that defines a set of actions in Python.\n",
      "List: A collection of values that are not connected, but have an order.\n"
     ]
    }
   ],
   "source": [
    "# 对dict来说，输出时不按任何顺序\n",
    "# 可以通过sorted()函数使结果有序输出\n",
    "python_words = {'list': 'A collection of values that are not connected, but have an order.',\n",
    "                'dictionary': 'A collection of key-value pairs.',\n",
    "                'function': 'A named set of instructions that defines a set of actions in Python.',\n",
    "                }\n",
    "\n",
    "for word in sorted(python_words.keys()):\n",
    "    print(\"%s: %s\" % (word.title(), python_words[word]))"
   ]
  },
  {
   "cell_type": "markdown",
   "metadata": {},
   "source": [
    "### 江西最高山\n",
    "\n",
    "[江西最高的十座山]{http://jx.ifeng.com/a/20160628/4693979_0.shtml}\n",
    "\n",
    "请模仿上例，创建包含山名和海拔的dict，并按如下形式循环输出：  \n",
    "“黄岗山海拔2157.8米”"
   ]
  },
  {
   "cell_type": "code",
   "execution_count": 4,
   "metadata": {},
   "outputs": [
    {
     "name": "stdout",
     "output_type": "stream",
     "text": [
      "九岭头海拔1794米。\n",
      "五虎岗海拔1891米。\n",
      "军峰山海拔1760米。\n",
      "南风面海拔2120米。\n",
      "武功山金顶(白鹤峰)海拔1918米。\n",
      "独竖尖海拔2128米。\n",
      "玉京峰海拔1819米。\n",
      "过风坳海拔1887米。\n",
      "黄岗山海拔2157米。\n",
      "齐云山海拔2061米。\n"
     ]
    }
   ],
   "source": [
    "m = {'军峰山': 1760.9,\n",
    "     '九岭头': 1794,\n",
    "     '玉京峰': 1819.9,\n",
    "     '过风坳': 1887,\n",
    "     '五虎岗': 1891,\n",
    "     '武功山金顶(白鹤峰)': 1918.3,\n",
    "     '齐云山': 2061.3,\n",
    "     '南风面': 2120.4,\n",
    "     '独竖尖': 2128,\n",
    "     '黄岗山': 2157.8,\n",
    "     }\n",
    "for word in sorted(m.keys()):\n",
    "    print(\"%s海拔%d米。\" % (word.title(), m[word]))"
   ]
  },
  {
   "cell_type": "markdown",
   "metadata": {},
   "source": [
    "### 为室友打一波广告\n",
    "请参照课件3-dict_set中的cell[15]“卖室友”吧。  \n",
    "第一层dict的key可自选，如身高、爱好、技能等等。\n",
    "并以以下形式循环输出：  \n",
    "我知道的XXX，TA:  \n",
    "身高：160  \n",
    "爱好：吸猫  \n",
    "技能：python  \n",
    "\n",
    "\n",
    "\n"
   ]
  },
  {
   "cell_type": "code",
   "execution_count": 6,
   "metadata": {},
   "outputs": [
    {
     "name": "stdout",
     "output_type": "stream",
     "text": [
      "低价出售室友，买一送二！\n",
      "\n",
      "我知道的大佬:\n",
      "身高：173\n",
      "爱好：霓虹のアニメ & 吃鸡\n",
      "技能：撸一晚上不吃鸡\n",
      "\n",
      "我知道的俊宝:\n",
      "身高：175\n",
      "爱好：大晚上去踢球\n",
      "技能：瞎jiba秀\n",
      "\n",
      "我知道的猛哥:\n",
      "身高：188\n",
      "爱好：新闻联播\n",
      "技能：边看新闻联播边撸王者\n"
     ]
    }
   ],
   "source": [
    "dict = {\n",
    "    '大佬': {'身高': '173', '爱好': '霓虹のアニメ & 吃鸡', '技能': '撸一晚上不吃鸡'},\n",
    "    '俊宝': {'身高': '175', '爱好': '大晚上去踢球', '技能': '瞎jiba秀'},\n",
    "    '猛哥': {'身高': '188', '爱好': '新闻联播', '技能': '边看新闻联播边撸王者'},\n",
    "}\n",
    "print('低价出售室友，买一送二！')\n",
    "for p, i in dict.items():\n",
    "    print(\"\\n我知道的%s:\" % p)\n",
    "    print(\"身高：%s\" % i['身高'])\n",
    "    print(\"爱好：%s\" % i['爱好'])\n",
    "    print(\"技能：%s\" % i['技能'])"
   ]
  }
 ],
 "metadata": {
  "kernelspec": {
   "display_name": "Python 3",
   "language": "python",
   "name": "python3"
  },
  "language_info": {
   "codemirror_mode": {
    "name": "ipython",
    "version": 3
   },
   "file_extension": ".py",
   "mimetype": "text/x-python",
   "name": "python",
   "nbconvert_exporter": "python",
   "pygments_lexer": "ipython3",
   "version": "3.6.5"
  },
  "toc": {
   "base_numbering": 1,
   "nav_menu": {},
   "number_sections": true,
   "sideBar": true,
   "skip_h1_title": false,
   "title_cell": "Table of Contents",
   "title_sidebar": "Contents",
   "toc_cell": false,
   "toc_position": {},
   "toc_section_display": true,
   "toc_window_display": false
  }
 },
 "nbformat": 4,
 "nbformat_minor": 2
}
