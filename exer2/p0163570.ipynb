{
 "cells": [
  {
   "cell_type": "markdown",
   "metadata": {},
   "source": [
    "## 第二次练习(0163570章建强)\n",
    "\n",
    "+ 请**务必**交到**exer2**文件夹下，谢绝交到master下\n",
    "+ 请**不要改动**任何文件，拜托\n",
    "+ 请在10月16日前提交。"
   ]
  },
  {
   "cell_type": "code",
   "execution_count": null,
   "metadata": {},
   "outputs": [],
   "source": [
    "### 食物和热量\n",
    "\n",
    "已知，以下食物每100g的千卡路里如下：\n",
    "\n",
    "小米粥 45  \n",
    "粗粮馒头 223  \n",
    "全麦面包 235  \n",
    "瘦猪肉 143  \n",
    "鸡翅 194  \n",
    "培根 181  \n",
    "火腿肠 212 \n",
    "\n",
    "建立一个空的字典，把上述键值对依此添加进去。 \n",
    "通过循环形式，显示，如“我吃了二两”+“小米粥”，“增加了”+“45”千卡路里。"
   ]
  },
  {
   "cell_type": "code",
   "execution_count": 5,
   "metadata": {},
   "outputs": [
    {
     "name": "stdout",
     "output_type": "stream",
     "text": [
      "\n",
      "我吃了二两小米粥,增加了45千卡路里\n",
      "\n",
      "我吃了二两粗粮馒头,增加了223千卡路里\n",
      "\n",
      "我吃了二两全麦面包,增加了235千卡路里\n",
      "\n",
      "我吃了二两瘦猪肉,增加了143千卡路里\n",
      "\n",
      "我吃了二两鸡翅,增加了194千卡路里\n",
      "\n",
      "我吃了二两培根,增加了181千卡路里\n",
      "\n",
      "我吃了二两火腿肠,增加了212千卡路里\n"
     ]
    }
   ],
   "source": [
    "foods = {'小米粥':'45千卡',\n",
    "               '粗粮馒头':'223千卡',\n",
    "               '全麦面包':'235千卡',\n",
    "               '瘦猪肉':'143千卡',\n",
    "               '鸡翅':'194千卡',\n",
    "               '培根':'181千卡',\n",
    "               '火腿肠':'212千卡',\n",
    "               }\n",
    "for food, clr in foods.items ():\n",
    "     print(\"\\n我吃了二两%s,增加了%s路里\"%(food,clr))"
   ]
  },
  {
   "cell_type": "markdown",
   "metadata": {},
   "source": [
    "### 运动和消耗\n",
    "常见三种运动的消耗热量表：  \n",
    "慢走 (一小时4公里) 255 卡  \n",
    "慢跑 (一小时9公里) 655 卡  \n",
    "羽毛球（一小时） 440 卡  \n",
    "\n",
    "模仿课件3-dict_set中的cell[9]做个刷题，直到答对而且答完为止。"
   ]
  },
  {
   "cell_type": "code",
   "execution_count": 6,
   "metadata": {},
   "outputs": [
    {
     "ename": "NameError",
     "evalue": "name 'python_words' is not defined",
     "output_type": "error",
     "traceback": [
      "\u001b[1;31m---------------------------------------------------------------------------\u001b[0m",
      "\u001b[1;31mNameError\u001b[0m                                 Traceback (most recent call last)",
      "\u001b[1;32m<ipython-input-6-1084180ea0a1>\u001b[0m in \u001b[0;36m<module>\u001b[1;34m()\u001b[0m\n\u001b[0;32m     14\u001b[0m \u001b[1;31m# Print each meaning, one at a time, and ask the user\u001b[0m\u001b[1;33m\u001b[0m\u001b[1;33m\u001b[0m\u001b[0m\n\u001b[0;32m     15\u001b[0m \u001b[1;31m#  what sport they think it is.\u001b[0m\u001b[1;33m\u001b[0m\u001b[1;33m\u001b[0m\u001b[0m\n\u001b[1;32m---> 16\u001b[1;33m \u001b[1;32mfor\u001b[0m \u001b[0mmeaning\u001b[0m \u001b[1;32min\u001b[0m \u001b[0mpython_words\u001b[0m\u001b[1;33m.\u001b[0m\u001b[0mvalues\u001b[0m\u001b[1;33m(\u001b[0m\u001b[1;33m)\u001b[0m\u001b[1;33m:\u001b[0m\u001b[1;33m\u001b[0m\u001b[0m\n\u001b[0m\u001b[0;32m     17\u001b[0m     \u001b[0mprint\u001b[0m\u001b[1;33m(\u001b[0m\u001b[1;34m\"\\n%s\"\u001b[0m \u001b[1;33m%\u001b[0m \u001b[0mmeaning\u001b[0m\u001b[1;33m)\u001b[0m\u001b[1;33m\u001b[0m\u001b[0m\n\u001b[0;32m     18\u001b[0m \u001b[1;33m\u001b[0m\u001b[0m\n",
      "\u001b[1;31mNameError\u001b[0m: name 'python_words' is not defined"
     ]
    }
   ],
   "source": [
    "sports = {'慢走': '一小时4公里消耗 255 卡',\n",
    "               '慢跑': '一小时9公里消耗655卡',\n",
    "               '羽毛球':'一小时消耗 440 卡',}\n",
    "\n",
    "\n",
    "\n",
    "\n"
   ]
  },
  {
   "cell_type": "markdown",
   "metadata": {},
   "source": [
    "### 江西最高山\n",
    "\n",
    "[江西最高的十座山]{http://jx.ifeng.com/a/20160628/4693979_0.shtml}\n",
    "\n",
    "请模仿上例，创建包含山名和海拔的dict，并按如下形式循环输出：  \n",
    "“黄岗山海拔2157.8米”"
   ]
  },
  {
   "cell_type": "code",
   "execution_count": 9,
   "metadata": {},
   "outputs": [
    {
     "name": "stdout",
     "output_type": "stream",
     "text": [
      "\n",
      "黄冈山海拔2157米\n",
      "\n",
      "独竖尖海拔2128米\n",
      "\n",
      "南风面海拔2120米\n",
      "\n",
      "齐云山海拔2061米\n",
      "\n",
      "白鹤峰海拔1918米\n",
      "\n",
      "五虎岗海拔1891米\n",
      "\n",
      "过风坳海拔1887米\n",
      "\n",
      "玉京峰海拔1819米\n",
      "\n",
      "九岭头海拔1794米\n",
      "\n",
      "军峰山海拔1760米\n"
     ]
    }
   ],
   "source": [
    "mountains = {'黄冈山':'2157米',\n",
    "                     '独竖尖':'2128米',\n",
    "                     '南风面':'2120米',\n",
    "                     '齐云山':'2061米',\n",
    "                     '白鹤峰':'1918米',\n",
    "                     '五虎岗':'1891米',\n",
    "                     '过风坳':'1887米',\n",
    "                     '玉京峰':'1819米',\n",
    "                     '九岭头':'1794米',\n",
    "                     '军峰山':'1760米',\n",
    "}\n",
    "for mountain in mountains.keys():\n",
    "    print(\"\\n%s海拔%s\"%(mountain ,mountains[mountain]))"
   ]
  },
  {
   "cell_type": "markdown",
   "metadata": {},
   "source": [
    "### 为室友打一波广告\n",
    "请参照课件3-dict_set中的cell[15]“卖室友”吧。  \n",
    "第一层dict的key可自选，如身高、爱好、技能等等。\n",
    "并以以下形式循环输出：  \n",
    "我知道的XXX，TA:  \n",
    "身高：160  \n",
    "爱好：吸猫  \n",
    "技能：python  \n",
    "\n",
    "\n",
    "\n"
   ]
  },
  {
   "cell_type": "code",
   "execution_count": 14,
   "metadata": {},
   "outputs": [
    {
     "name": "stdout",
     "output_type": "stream",
     "text": [
      "\n",
      "我知道的,白扬\n",
      "身高:176\n",
      "爱好: 王者农药\n",
      "技能: 峡谷王者，实力坑人\n",
      "\n",
      "我知道的,余天鹏\n",
      "身高:175\n",
      "爱好: 篮球\n",
      "技能: 三分射手\n",
      "\n",
      "我知道的,姚昊\n",
      "身高:170\n",
      "爱好: 撩妹\n",
      "技能: 巧舌如簧\n"
     ]
    }
   ],
   "source": [
    "roommates = {'白扬':{'身高': '176', '爱好': '王者农药', '技能':'峡谷王者，实力坑人'},\n",
    "        '余天鹏':{'身高': '175', '爱好': '篮球', '技能':'三分射手'},\n",
    "        '姚昊':{'身高': '170', '爱好': '撩妹', '技能':'巧舌如簧'},\n",
    "        }\n",
    "for name, hobby in roommates.items():\n",
    "    print(\"\\n我知道的,\" +name)\n",
    "    print(\"身高:\" + hobby['身高'])\n",
    "    print(\"爱好: \" + hobby['爱好'])\n",
    "    print(\"技能: \" + hobby['技能'])"
   ]
  },
  {
   "cell_type": "code",
   "execution_count": null,
   "metadata": {},
   "outputs": [],
   "source": []
  }
 ],
 "metadata": {
  "kernelspec": {
   "display_name": "Python 3",
   "language": "python",
   "name": "python3"
  },
  "language_info": {
   "codemirror_mode": {
    "name": "ipython",
    "version": 3
   },
   "file_extension": ".py",
   "mimetype": "text/x-python",
   "name": "python",
   "nbconvert_exporter": "python",
   "pygments_lexer": "ipython3",
   "version": "3.6.5"
  },
  "toc": {
   "base_numbering": 1,
   "nav_menu": {},
   "number_sections": true,
   "sideBar": true,
   "skip_h1_title": false,
   "title_cell": "Table of Contents",
   "title_sidebar": "Contents",
   "toc_cell": false,
   "toc_position": {},
   "toc_section_display": true,
   "toc_window_display": false
  }
 },
 "nbformat": 4,
 "nbformat_minor": 2
}
