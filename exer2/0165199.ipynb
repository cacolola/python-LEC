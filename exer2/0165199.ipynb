{
 "cells": [
  {
   "cell_type": "markdown",
   "metadata": {},
   "source": [
    "## 第二次练习\n",
    "\n",
    "+ 请**务必**交到**exer2**文件夹下，谢绝交到master下\n",
    "+ 请**不要改动**任何文件，拜托\n",
    "+ 请在10月16日前提交。"
   ]
  },
  {
   "cell_type": "markdown",
   "metadata": {},
   "source": [
    "### 食物和热量\n",
    "\n",
    "已知，以下食物每100g的千卡路里如下：\n",
    "\n",
    "小米粥 45  \n",
    "粗粮馒头 223  \n",
    "全麦面包 235  \n",
    "瘦猪肉 143  \n",
    "鸡翅 194  \n",
    "培根 181  \n",
    "火腿肠 212 \n",
    "\n",
    "建立一个空的字典，把上述键值对依此添加进去。 \n",
    "通过循环形式，显示，如“我吃了二两”+“小米粥”，“增加了”+“45”千卡路里。"
   ]
  },
  {
   "cell_type": "code",
   "execution_count": 1,
   "metadata": {
    "collapsed": false
   },
   "outputs": [
    {
     "name": "stdout",
     "output_type": "stream",
     "text": [
      "\n",
      "我吃了二两小米粥,增加了45千卡路里\n",
      "\n",
      "我吃了二两粗粮馒头,增加了223千卡路里\n",
      "\n",
      "我吃了二两全麦面包,增加了235千卡路里\n",
      "\n",
      "我吃了二两瘦猪肉,增加了143千卡路里\n",
      "\n",
      "我吃了二两鸡翅,增加了194千卡路里\n",
      "\n",
      "我吃了二两培根,增加了181千卡路里\n",
      "\n",
      "我吃了二两火腿肠,增加了212千卡路里\n"
     ]
    }
   ],
   "source": [
    "foods_calories= { }\n",
    "foods_calories['小米粥']='45'\n",
    "foods_calories['粗粮馒头']='223'\n",
    "foods_calories['全麦面包']='235'\n",
    "foods_calories['瘦猪肉']='143'\n",
    "foods_calories['鸡翅']='194'\n",
    "foods_calories['培根']='181'\n",
    "foods_calories['火腿肠']='212'\n",
    "for food,calrolie in foods_calories.items():\n",
    "    print(\"\\n我吃了二两%s,\"% food +\"增加了%s千卡路里\"% calrolie)"
   ]
  },
  {
   "cell_type": "markdown",
   "metadata": {},
   "source": [
    "### 运动和消耗\n",
    "常见三种运动的消耗热量表：  \n",
    "慢走 (一小时4公里) 255 卡  \n",
    "慢跑 (一小时9公里) 655 卡  \n",
    "羽毛球（一小时） 440 卡  \n",
    "\n",
    "模仿课件3-dict_set中的cell[9]做个刷题，直到答对而且答完为止。"
   ]
  },
  {
   "cell_type": "code",
   "execution_count": 1,
   "metadata": {
    "collapsed": false
   },
   "outputs": [
    {
     "name": "stdout",
     "output_type": "stream",
     "text": [
      "\n",
      "255卡\n",
      "\n",
      "你认为哪种运动会消耗这么多卡路里?\n",
      "慢走 (一小时4公里)  慢跑 (一小时9公里)  羽毛球（一小时）  \n",
      "- 慢走 (一小时4公里)\n",
      "对啦!\n",
      "\n",
      "655卡\n",
      "\n",
      "你认为哪种运动会消耗这么多卡路里?\n",
      "慢走 (一小时4公里)  慢跑 (一小时9公里)  羽毛球（一小时）  \n",
      "- 慢走 (一小时4公里)\n",
      "\n",
      "答案不是这个哦，你再想想看吧。\n",
      "\n",
      "你认为哪种运动会消耗这么多卡路里?\n",
      "慢走 (一小时4公里)  慢跑 (一小时9公里)  羽毛球（一小时）  \n",
      "- 慢跑 (一小时9公里)\n",
      "对啦!\n",
      "\n",
      "440卡\n",
      "\n",
      "你认为哪种运动会消耗这么多卡路里?\n",
      "慢走 (一小时4公里)  慢跑 (一小时9公里)  羽毛球（一小时）  \n",
      "- 羽毛球（一小时）\n",
      "对啦!\n"
     ]
    }
   ],
   "source": [
    "python_words = {'慢走 (一小时4公里)': '255卡',\n",
    "                '慢跑 (一小时9公里)': '655卡',\n",
    "                '羽毛球（一小时）': '440卡',\n",
    "                }\n",
    "def show_words(python_words):\n",
    "    display_message = \"\"\n",
    "    for word in python_words.keys():\n",
    "        display_message += word + '  '\n",
    "    print(display_message)\n",
    "for meaning in python_words.values():\n",
    "    print(\"\\n%s\" % meaning)\n",
    "    correct = False\n",
    "    while not correct:\n",
    "        \n",
    "        print(\"\\n你认为哪种运动会消耗这么多卡路里?\")\n",
    "        show_words(python_words)\n",
    "        guessed_word = input(\"- \")  \n",
    "        \n",
    "        if python_words[guessed_word] == meaning:\n",
    "            print(\"对啦!\")\n",
    "            correct = True\n",
    "        else:\n",
    "            print(\"\\n答案不是这个哦，你再想想看吧。\")"
   ]
  },
  {
   "cell_type": "markdown",
   "metadata": {},
   "source": [
    "### 江西最高山\n",
    "\n",
    "[江西最高的十座山]{http://jx.ifeng.com/a/20160628/4693979_0.shtml}\n",
    "\n",
    "请模仿上例，创建包含山名和海拔的dict，并按如下形式循环输出：  \n",
    "“黄岗山海拔2157.8米”"
   ]
  },
  {
   "cell_type": "code",
   "execution_count": 3,
   "metadata": {
    "collapsed": false
   },
   "outputs": [
    {
     "name": "stdout",
     "output_type": "stream",
     "text": [
      "九岭头海拔1794米\n",
      "五虎岗海拔1891米\n",
      "军峰山海拔1760.9米\n",
      "南风面海拔2120.4米\n",
      "武功山金顶（白鹤峰）海拔1918.3米\n",
      "独竖尖海拔2128米\n",
      "玉京峰海拔1819.9米\n",
      "过风坳海拔1887米\n",
      "黄岗山海拔2157.8米\n"
     ]
    }
   ],
   "source": [
    "# 对dict来说，输出时不按任何顺序\n",
    "# 可以通过sorted()函数使结果有序输出\n",
    "python_words = {'军峰山': '1760.9',\n",
    "                '九岭头': '1794',\n",
    "                '玉京峰': '1819.9',\n",
    "                '过风坳': '1887',\n",
    "                '五虎岗': '1891',\n",
    "                '武功山金顶（白鹤峰）': '1918.3',\n",
    "                '南风面': '2120.4',\n",
    "                '独竖尖': '2128',\n",
    "                '黄岗山': '2157.8',\n",
    "                }\n",
    "\n",
    "for word in sorted(python_words.keys()):\n",
    "    print(\"%s海拔%s米\" % (word.title(), python_words[word]))\n"
   ]
  },
  {
   "cell_type": "markdown",
   "metadata": {},
   "source": [
    "### 为室友打一波广告\n",
    "请参照课件3-dict_set中的cell[15]“卖室友”吧。  \n",
    "第一层dict的key可自选，如身高、爱好、技能等等。\n",
    "并以以下形式循环输出：  \n",
    "我知道的XXX，TA:  \n",
    "身高：160  \n",
    "爱好：吸猫  \n",
    "技能：python  \n",
    "\n",
    "\n",
    "\n"
   ]
  },
  {
   "cell_type": "code",
   "execution_count": 7,
   "metadata": {
    "collapsed": false
   },
   "outputs": [
    {
     "name": "stdout",
     "output_type": "stream",
     "text": [
      "\n",
      "我知道的邓明慧，TA:\n",
      "身高: 155cm\n",
      "爱吃的食物: 大蒜、韭菜\n",
      "技能: 数据分析\n",
      "\n",
      "我知道的廖明可，TA:\n",
      "身高: 165cm\n",
      "爱吃的食物: 妈妈做的菜\n",
      "技能: 写论文\n",
      "\n",
      "我知道的岑雪莹，TA:\n",
      "身高: 168cm\n",
      "爱吃的食物: 土豆、辣条、千层饼\n",
      "技能: 做ppt\n"
     ]
    }
   ],
   "source": [
    "roomates = {'邓明慧': {'身高': '155cm', '爱吃的食物': '大蒜、韭菜', '技能':'数据分析'},\n",
    "            '廖明可': {'身高': '165cm', '爱吃的食物': '妈妈做的菜', '技能':'写论文'},\n",
    "            '岑雪莹': {'身高': '168cm', '爱吃的食物': '土豆、辣条、千层饼', '技能':'做ppt'},\n",
    "            }\n",
    "\n",
    "\n",
    "for roomates_name, roomates_information in roomates.items():\n",
    "    print(\"\\n我知道的%s，TA:\" % roomates_name.title())\n",
    "    print(\"身高: \" + roomates_information['身高'])\n",
    "    print(\"爱吃的食物: \" + roomates_information['爱吃的食物'])\n",
    "    print(\"技能: \" + roomates_information['技能'])"
   ]
  }
 ],
 "metadata": {
  "kernelspec": {
   "display_name": "Python 3",
   "language": "python",
   "name": "python3"
  },
  "language_info": {
   "codemirror_mode": {
    "name": "ipython",
    "version": 3
   },
   "file_extension": ".py",
   "mimetype": "text/x-python",
   "name": "python",
   "nbconvert_exporter": "python",
   "pygments_lexer": "ipython3",
   "version": "3.6.0"
  },
  "toc": {
   "base_numbering": 1,
   "nav_menu": {},
   "number_sections": true,
   "sideBar": true,
   "skip_h1_title": false,
   "title_cell": "Table of Contents",
   "title_sidebar": "Contents",
   "toc_cell": false,
   "toc_position": {},
   "toc_section_display": true,
   "toc_window_display": false
  }
 },
 "nbformat": 4,
 "nbformat_minor": 2
}
