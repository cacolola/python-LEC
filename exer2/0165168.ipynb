{
 "cells": [
  {
   "cell_type": "markdown",
   "metadata": {},
   "source": [
    "## 第二次练习\n",
    "\n",
    "+ 请**务必**交到**exer2**文件夹下，谢绝交到master下\n",
    "+ 请**不要改动**任何文件，拜托\n",
    "+ 请在10月16日前提交。"
   ]
  },
  {
   "cell_type": "markdown",
   "metadata": {},
   "source": [
    "### 食物和热量\n",
    "\n",
    "已知，以下食物每100g的千卡路里如下：\n",
    "\n",
    "小米粥 45  \n",
    "粗粮馒头 223  \n",
    "全麦面包 235  \n",
    "瘦猪肉 143  \n",
    "鸡翅 194  \n",
    "培根 181  \n",
    "火腿肠 212 \n",
    "\n",
    "建立一个空的字典，把上述键值对依此添加进去。 \n",
    "通过循环形式，显示，如“我吃了二两”+“小米粥”，“增加了”+“45”千卡路里。"
   ]
  },
  {
   "cell_type": "code",
   "execution_count": 11,
   "metadata": {
    "collapsed": false
   },
   "outputs": [
    {
     "name": "stdout",
     "output_type": "stream",
     "text": [
      "\n",
      "我吃了二两小米粥，增加了45千卡路里\n",
      "\n",
      "我吃了二两粗粮馒头，增加了223千卡路里\n",
      "\n",
      "我吃了二两全麦面包，增加了235千卡路里\n",
      "\n",
      "我吃了二两瘦猪肉，增加了143千卡路里\n",
      "\n",
      "我吃了二两鸡翅，增加了194千卡路里\n",
      "\n",
      "我吃了二两培根，增加了181千卡路里\n",
      "\n",
      "我吃了二两火腿肠，增加了212千卡路里\n"
     ]
    }
   ],
   "source": [
    "python_words={}\n",
    "python_words[\"小米粥\"]=\"45\"\n",
    "python_words[\"粗粮馒头\"]=\"223\"\n",
    "python_words[\"全麦面包\"]=\"235\"\n",
    "python_words[\"瘦猪肉\"]=\"143\"\n",
    "python_words[\"鸡翅\"]=\"194\"\n",
    "python_words[\"培根\"]=\"181\"\n",
    "python_words[\"火腿肠\"]=\"212\"\n",
    "for word, meaning in python_words.items():\n",
    "    print(\"\\n我吃了二两%s，增加了%s千卡路里\" % (word, meaning))"
   ]
  },
  {
   "cell_type": "markdown",
   "metadata": {},
   "source": [
    "### 运动和消耗\n",
    "常见三种运动的消耗热量表：  \n",
    "慢走 (一小时4公里) 255 卡  \n",
    "慢跑 (一小时9公里) 655 卡  \n",
    "羽毛球（一小时） 440 卡  \n",
    "\n",
    "模仿课件3-dict_set中的cell[9]做个刷题，直到答对而且答完为止。"
   ]
  },
  {
   "cell_type": "code",
   "execution_count": 1,
   "metadata": {
    "collapsed": false
   },
   "outputs": [
    {
     "name": "stdout",
     "output_type": "stream",
     "text": [
      "\n",
      "255 卡\n",
      "\n",
      "上述给的是哪一种运动的卡路里呢？\n",
      "慢走  慢跑  羽毛球  \n",
      "- 慢走\n",
      "You got it!\n",
      "\n",
      "655 卡\n",
      "\n",
      "上述给的是哪一种运动的卡路里呢？\n",
      "慢走  慢跑  羽毛球  \n",
      "- 慢走\n",
      "Sorry, that's just not the right word.\n",
      "\n",
      "上述给的是哪一种运动的卡路里呢？\n",
      "慢走  慢跑  羽毛球  \n",
      "- 慢跑\n",
      "You got it!\n",
      "\n",
      "440 卡\n",
      "\n",
      "上述给的是哪一种运动的卡路里呢？\n",
      "慢走  慢跑  羽毛球  \n",
      "- 羽毛球\n",
      "You got it!\n"
     ]
    }
   ],
   "source": [
    "python_words = {'慢走': '255 卡',\n",
    "                '慢跑': '655 卡',\n",
    "                '羽毛球': '440 卡',\n",
    "                }\n",
    "\n",
    "def show_words(python_words):\n",
    "    display_message = \"\"\n",
    "    for word in python_words.keys():\n",
    "        display_message += word + '  '\n",
    "    print(display_message)\n",
    "\n",
    "for meaning in python_words.values():\n",
    "    print(\"\\n%s\" % meaning)\n",
    "    correct = False\n",
    "    while not correct:\n",
    "        \n",
    "        print(\"\\n上述给的是哪一种运动的卡路里呢？\")\n",
    "        show_words(python_words)\n",
    "        guessed_word = input(\"- \")    \n",
    "        \n",
    "        \n",
    "        if python_words[guessed_word] == meaning:\n",
    "            print(\"You got it!\")\n",
    "            correct = True\n",
    "        else:\n",
    "            print(\"Sorry, that's just not the right word.\")"
   ]
  },
  {
   "cell_type": "code",
   "execution_count": 1,
   "metadata": {
    "collapsed": false
   },
   "outputs": [
    {
     "name": "stdout",
     "output_type": "stream",
     "text": [
      "Dictionary: A collection of key-value pairs.\n",
      "Function: A named set of instructions that defines a set of actions in Python.\n",
      "List: A collection of values that are not connected, but have an order.\n"
     ]
    }
   ],
   "source": [
    "# 对dict来说，输出时不按任何顺序\n",
    "# 可以通过sorted()函数使结果有序输出\n",
    "python_words = {'list': 'A collection of values that are not connected, but have an order.',\n",
    "                'dictionary': 'A collection of key-value pairs.',\n",
    "                'function': 'A named set of instructions that defines a set of actions in Python.',\n",
    "                }\n",
    "\n",
    "for word in sorted(python_words.keys()):\n",
    "    print(\"%s: %s\" % (word.title(), python_words[word]))"
   ]
  },
  {
   "cell_type": "markdown",
   "metadata": {},
   "source": [
    "### 江西最高山\n",
    "\n",
    "[江西最高的十座山]{http://jx.ifeng.com/a/20160628/4693979_0.shtml}\n",
    "\n",
    "请模仿上例，创建包含山名和海拔的dict，并按如下形式循环输出：  \n",
    "“黄岗山海拔2157.8米”"
   ]
  },
  {
   "cell_type": "code",
   "execution_count": 7,
   "metadata": {
    "collapsed": false
   },
   "outputs": [
    {
     "name": "stdout",
     "output_type": "stream",
     "text": [
      "军峰山：赣东之脊海拔1760.9米\n",
      "九岭头：归乡屋脊海拔1794米\n",
      "玉京峰：蓬莱仙境海拔1819.9米\n",
      "过风坳:万仞绝壁海拔1887米\n",
      "五虎岗:高山深谷海拔1891米\n",
      "武功山金顶(白鹤峰):华夏一绝海拔1918.3米\n",
      "齐云山:赣南第一高峰海拔2061.3米\n",
      "南风面:神秘无人区海拔2120.4米\n",
      "独竖尖:人迹罕至海拔2128米\n",
      "黄岗山:江西第一蜂海拔2157.8米\n"
     ]
    }
   ],
   "source": [
    "python_words = {'2157.8':'黄岗山:江西第一蜂',\n",
    "                '2128':'独竖尖:人迹罕至',\n",
    "                '2120.4':'南风面:神秘无人区',\n",
    "                '2061.3':'齐云山:赣南第一高峰',\n",
    "                '1918.3':'武功山金顶(白鹤峰):华夏一绝',\n",
    "                '1891':'五虎岗:高山深谷',\n",
    "                '1887':'过风坳:万仞绝壁',\n",
    "                '1819.9':'玉京峰：蓬莱仙境',\n",
    "                '1794':'九岭头：归乡屋脊',\n",
    "                '1760.9':'军峰山：赣东之脊',\n",
    "\n",
    "                }\n",
    "\n",
    "for word in sorted(python_words.keys()):\n",
    "    print(\"%s海拔%s米\" % (python_words[word], word.title()))"
   ]
  },
  {
   "cell_type": "markdown",
   "metadata": {},
   "source": [
    "### 为室友打一波广告\n",
    "请参照课件3-dict_set中的cell[15]“卖室友”吧。  \n",
    "第一层dict的key可自选，如身高、爱好、技能等等。\n",
    "并以以下形式循环输出：  \n",
    "我知道的XXX，TA:  \n",
    "身高：160  \n",
    "爱好：吸猫  \n",
    "技能：python  \n",
    "\n",
    "\n",
    "\n"
   ]
  },
  {
   "cell_type": "code",
   "execution_count": 16,
   "metadata": {
    "collapsed": false
   },
   "outputs": [
    {
     "name": "stdout",
     "output_type": "stream",
     "text": [
      "\n",
      "我知道的Syq:\n",
      "身高: 168\n",
      "爱好: 看小说\n",
      "技能: 鬼畜\n",
      "\n",
      "我知道的Zcc:\n",
      "身高: 167.5\n",
      "爱好: 吃吃吃\n",
      "技能: 胃是无底洞\n",
      "\n",
      "我知道的Ws:\n",
      "身高: 162\n",
      "爱好: 摄影\n",
      "技能: 换装小公主\n"
     ]
    }
   ],
   "source": [
    "roomates = {'syq': {'身高': '168', '爱好': '看小说', '技能':'鬼畜'},\n",
    "        'zcc': {'身高': '167.5', '爱好': '吃吃吃', '技能':'胃是无底洞'},\n",
    "        'ws': {'身高': '162', '爱好': '摄影', '技能':'换装小公主'},\n",
    "        }\n",
    "\n",
    "\n",
    "for roomates_name, roomates_information in roomates.items():\n",
    "    print(\"\\n我知道的%s:\" % roomates_name.title())\n",
    "    print(\"身高: \" + roomates_information['身高'])\n",
    "    print(\"爱好: \" + roomates_information['爱好'])\n",
    "    print(\"技能: \" + roomates_information['技能'])\n",
    "   "
   ]
  }
 ],
 "metadata": {
  "kernelspec": {
   "display_name": "Python 3",
   "language": "python",
   "name": "python3"
  },
  "language_info": {
   "codemirror_mode": {
    "name": "ipython",
    "version": 3
   },
   "file_extension": ".py",
   "mimetype": "text/x-python",
   "name": "python",
   "nbconvert_exporter": "python",
   "pygments_lexer": "ipython3",
   "version": "3.6.0"
  },
  "toc": {
   "base_numbering": 1,
   "nav_menu": {},
   "number_sections": true,
   "sideBar": true,
   "skip_h1_title": false,
   "title_cell": "Table of Contents",
   "title_sidebar": "Contents",
   "toc_cell": false,
   "toc_position": {},
   "toc_section_display": true,
   "toc_window_display": false
  }
 },
 "nbformat": 4,
 "nbformat_minor": 2
}
