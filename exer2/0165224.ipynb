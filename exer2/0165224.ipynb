{
 "cells": [
  {
   "cell_type": "markdown",
   "metadata": {},
   "source": [
    "## 第二次练习\n",
    "\n",
    "+ 请**务必**交到**exer2**文件夹下，谢绝交到master下\n",
    "+ 请**不要改动**任何文件，拜托\n",
    "+ 请在10月16日前提交。"
   ]
  },
  {
   "cell_type": "markdown",
   "metadata": {},
   "source": [
    "### 食物和热量\n",
    "\n",
    "已知，以下食物每100g的千卡路里如下：\n",
    "\n",
    "小米粥 45  \n",
    "粗粮馒头 223  \n",
    "全麦面包 235  \n",
    "瘦猪肉 143  \n",
    "鸡翅 194  \n",
    "培根 181  \n",
    "火腿肠 212 \n",
    "\n",
    "建立一个空的字典，把上述键值对依此添加进去。 \n",
    "通过循环形式，显示，如“我吃了二两”+“小米粥”，“增加了”+“45”千卡路里。"
   ]
  },
  {
   "cell_type": "code",
   "execution_count": 1,
   "metadata": {
    "collapsed": false
   },
   "outputs": [
    {
     "name": "stdout",
     "output_type": "stream",
     "text": [
      "我吃了二两小米粥,增加了45千卡路里。\n",
      "我吃了二两粗粮馒头,增加了223千卡路里。\n",
      "我吃了二两全麦面包,增加了235千卡路里。\n",
      "我吃了二两瘦猪肉,增加了143千卡路里。\n",
      "我吃了二两鸡翅,增加了194千卡路里。\n",
      "我吃了二两培根,增加了181千卡路里。\n",
      "我吃了二两火腿肠,增加了212千卡路里。\n"
     ]
    }
   ],
   "source": [
    "foods={}\n",
    "food energy['小米粥'] ='45'\n",
    "food energy['粗粮馒头'] = '223'\n",
    "food energy ['全麦面包'] = '235'\n",
    "food energy['瘦猪肉'] = '143'\n",
    "food energy['鸡翅'] = '194'\n",
    "food energy ['培根'] = '181'\n",
    "food energy['火腿肠'] = '212'\n",
    "for key,value in foods.items():\n",
    "    print(\"我吃了二两\"+key+\",增加了\"+value+\"千卡路里。\")"
   ]
  },
  {
   "cell_type": "markdown",
   "metadata": {},
   "source": [
    "### 运动和消耗\n",
    "常见三种运动的消耗热量表：  \n",
    "慢走 (一小时4公里) 255 卡  \n",
    "慢跑 (一小时9公里) 655 卡  \n",
    "羽毛球（一小时） 440 卡  \n",
    "\n",
    "模仿课件3-dict_set中的cell[9]做个刷题，直到答对而且答完为止。"
   ]
  },
  {
   "cell_type": "code",
   "execution_count": null,
   "metadata": {
    "collapsed": false
   },
   "outputs": [
    {
     "name": "stdout",
     "output_type": "stream",
     "text": [
      "\n",
      "一小时四公里225卡\n",
      "\n",
      "What word do you think this is?\n",
      "慢走  慢跑  羽毛球  \n",
      "- 羽毛球\n",
      "Sorry, that's just not the right word.\n",
      "\n",
      "What word do you think this is?\n",
      "慢走  慢跑  羽毛球  \n"
     ]
    }
   ],
   "source": [
    " sports_words= {'慢走': '一小时四公里225卡',\n",
    "                '慢跑': '一小时9公里655卡',\n",
    "                '羽毛球': '一小时440卡',\n",
    "                }\n",
    "\n",
    "def show_words(sports_words):\n",
    "    display_message = \"\"\n",
    "    for word in sports_words.keys():\n",
    "        display_message += word + '  '\n",
    "    print(display_message)\n",
    "\n",
    "for meaning in sports_words.values():\n",
    "    print(\"\\n%s\" % meaning)\n",
    "\n",
    "    correct = False\n",
    "    while not correct:\n",
    "        \n",
    "        print(\"\\nWhat word do you think this is?\")\n",
    "        show_words(sports_words)\n",
    "        guessed_word = input(\"- \")    \n",
    "        \n",
    "        if sports_words[guessed_word] == meaning:\n",
    "            print(\"You got it!\")\n",
    "            correct = True\n",
    "        else:\n",
    "            print(\"Sorry, that's just not the right word.\")"
   ]
  },
  {
   "cell_type": "markdown",
   "metadata": {},
   "source": [
    "### 江西最高山\n",
    "\n",
    "[江西最高的十座山]{http://jx.ifeng.com/a/20160628/4693979_0.shtml}\n",
    "\n",
    "请模仿上例，创建包含山名和海拔的dict，并按如下形式循环输出：  \n",
    "“黄岗山海拔2157.8米”"
   ]
  },
  {
   "cell_type": "code",
   "execution_count": null,
   "metadata": {
    "collapsed": false
   },
   "outputs": [],
   "source": [
    "mountains={'黄岗山':'2157.8米',\n",
    "           '独竖尖':'2128米',\n",
    "           '南风面':'2120.4米',\n",
    "           '齐云山':'2160.3米',\n",
    "           '白鹤峰':'1918.3米',\n",
    "            '五虎岗':'1891米',\n",
    "            '过风坳':'1887米',\n",
    "            '玉京峰':'1819.9米',\n",
    "            '九岭头':'1797米',\n",
    "            '军峰山':'1760.9米',\n",
    "}\n",
    "for key,value in mountains.items():\n",
    "    print(key+\"海拔\"+value)"
   ]
  },
  {
   "cell_type": "markdown",
   "metadata": {},
   "source": [
    "### 为室友打一波广告\n",
    "请参照课件3-dict_set中的cell[15]“卖室友”吧。  \n",
    "第一层dict的key可自选，如身高、爱好、技能等等。\n",
    "并以以下形式循环输出：  \n",
    "我知道的XXX，TA:  \n",
    "身高：160  \n",
    "爱好：吸猫  \n",
    "技能：python  \n",
    "\n",
    "\n",
    "\n"
   ]
  },
  {
   "cell_type": "code",
   "execution_count": 1,
   "metadata": {
    "collapsed": false
   },
   "outputs": [
    {
     "name": "stdout",
     "output_type": "stream",
     "text": [
      "\n",
      "我知道的Wwt:\n",
      "身高: 168\n",
      "爱好: 射箭\n",
      "\n",
      "我知道的Zxy:\n",
      "身高: 181\n",
      "爱好: LOL\n",
      "\n",
      "我知道的Zjy:\n",
      "身高: 170\n",
      "爱好: 旅游\n"
     ]
    }
   ],
   "source": [
    "roommates = {'wwt': {'身高': '168', '爱好': '射箭',},\n",
    "        'zxy': {'身高': '181', '爱好': 'LOL'},\n",
    "        'ZJY': {'身高': '170', '爱好': '旅游'},\n",
    "        }\n",
    "\n",
    "\n",
    "for roommates_name, roommates_information in roommates.items():\n",
    "    print(\"\\n我知道的%s:\" % roommates_name.title())\n",
    "    print(\"身高: \" + roommates_information['身高'])\n",
    "    print(\"爱好: \" + roommates_information['爱好'])"
   ]
  },
  {
   "cell_type": "code",
   "execution_count": null,
   "metadata": {
    "collapsed": true
   },
   "outputs": [],
   "source": []
  }
 ],
 "metadata": {
  "kernelspec": {
   "display_name": "Python 3",
   "language": "python",
   "name": "python3"
  },
  "language_info": {
   "codemirror_mode": {
    "name": "ipython",
    "version": 3
   },
   "file_extension": ".py",
   "mimetype": "text/x-python",
   "name": "python",
   "nbconvert_exporter": "python",
   "pygments_lexer": "ipython3",
   "version": "3.6.0"
  },
  "toc": {
   "base_numbering": 1,
   "nav_menu": {},
   "number_sections": true,
   "sideBar": true,
   "skip_h1_title": false,
   "title_cell": "Table of Contents",
   "title_sidebar": "Contents",
   "toc_cell": false,
   "toc_position": {},
   "toc_section_display": true,
   "toc_window_display": false
  }
 },
 "nbformat": 4,
 "nbformat_minor": 2
}
