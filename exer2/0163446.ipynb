{
 "cells": [
  {
   "cell_type": "markdown",
   "metadata": {},
   "source": [
    "## 第二次练习\n",
    "\n",
    "+ 请**务必**交到**exer2**文件夹下，谢绝交到master下\n",
    "+ 请**不要改动**任何文件，拜托\n",
    "+ 请在10月16日前提交。"
   ]
  },
  {
   "cell_type": "markdown",
   "metadata": {},
   "source": [
    "### 食物和热量\n",
    "\n",
    "已知，以下食物每100g的千卡路里如下：\n",
    "\n",
    "小米粥 45  \n",
    "粗粮馒头 223  \n",
    "全麦面包 235  \n",
    "瘦猪肉 143  \n",
    "鸡翅 194  \n",
    "培根 181  \n",
    "火腿肠 212 \n",
    "\n",
    "建立一个空的字典，把上述键值对依此添加进去。 \n",
    "通过循环形式，显示，如“我吃了二两”+“小米粥”，“增加了”+“45”千卡路里。"
   ]
  },
  {
   "cell_type": "code",
   "execution_count": 1,
   "metadata": {
    "collapsed": false
   },
   "outputs": [
    {
     "name": "stdout",
     "output_type": "stream",
     "text": [
      "我吃了二两小米粥,增加了45千卡路里.\n",
      "我吃了二两粗粮馒头,增加了223千卡路里.\n",
      "我吃了二两全麦面包,增加了235千卡路里.\n",
      "我吃了二两瘦猪肉,增加了143千卡路里.\n",
      "我吃了二两鸡翅,增加了194千卡路里.\n",
      "我吃了二两培根,增加了181千卡路里.\n",
      "我吃了二两火腿肠,增加了212千卡路里.\n"
     ]
    }
   ],
   "source": [
    "calorie = {}\n",
    "calorie['小米粥'] = '45'\n",
    "calorie['粗粮馒头'] = '223'\n",
    "calorie['全麦面包'] = '235'\n",
    "calorie['瘦猪肉'] = '143'\n",
    "calorie['鸡翅'] = '194'\n",
    "calorie['培根'] = '181'\n",
    "calorie['火腿肠'] = '212'\n",
    "for food,its_calorie in calorie.items():\n",
    "    print(\"我吃了二两\"+food.title()+\",增加了\"+its_calorie+\"千卡路里.\")"
   ]
  },
  {
   "cell_type": "markdown",
   "metadata": {},
   "source": [
    "### 运动和消耗\n",
    "常见三种运动的消耗热量表：  \n",
    "慢走 (一小时4公里) 255 卡  \n",
    "慢跑 (一小时9公里) 655 卡  \n",
    "羽毛球（一小时） 440 卡  \n",
    "\n",
    "模仿课件3-dict_set中的cell[9]做个刷题，直到答对而且答完为止。"
   ]
  },
  {
   "cell_type": "code",
   "execution_count": 4,
   "metadata": {
    "collapsed": false
   },
   "outputs": [
    {
     "name": "stdout",
     "output_type": "stream",
     "text": [
      "\n",
      "255\n",
      "\n",
      "What is the consumption of this sport?\n",
      "慢走(一小时4公里)  慢跑(一小时9公里)  羽毛球(一小时)  \n",
      "- 慢走(一小时4公里)\n",
      "You got it!\n",
      "\n",
      "655\n",
      "\n",
      "What is the consumption of this sport?\n",
      "慢走(一小时4公里)  慢跑(一小时9公里)  羽毛球(一小时)  \n",
      "- 慢跑(一小时9公里)\n",
      "You got it!\n",
      "\n",
      "440\n",
      "\n",
      "What is the consumption of this sport?\n",
      "慢走(一小时4公里)  慢跑(一小时9公里)  羽毛球(一小时)  \n",
      "- 羽毛球(一小时)\n",
      "You got it!\n"
     ]
    }
   ],
   "source": [
    "sport_consumption = {'慢走(一小时4公里)': '255',\n",
    "                '慢跑(一小时9公里)': '655',\n",
    "                '羽毛球(一小时)': '440',\n",
    "                }\n",
    "\n",
    "def show_words(sport_consumption):\n",
    "    display_message = \"\"\n",
    "    for sport in sport_consumption.keys():\n",
    "        display_message += sport + '  '\n",
    "    print(display_message)\n",
    "for consumption in sport_consumption.values():\n",
    "    print(\"\\n%s\" % consumption)\n",
    "\n",
    "    correct = False\n",
    "    while not correct:\n",
    "        \n",
    "        print(\"\\nWhat is the consumption of this sport?\")\n",
    "        show_words(sport_consumption)\n",
    "        guessed_sport = input(\"- \")    \n",
    "        \n",
    "        if sport_consumption[guessed_sport] == consumption:\n",
    "            print(\"You got it!\")\n",
    "            correct = True\n",
    "        else:\n",
    "            print(\"Sorry, that's wrong.\")"
   ]
  },
  {
   "cell_type": "markdown",
   "metadata": {},
   "source": [
    "### 江西最高山\n",
    "\n",
    "[江西最高的十座山]{http://jx.ifeng.com/a/20160628/4693979_0.shtml}\n",
    "\n",
    "请模仿上例，创建包含山名和海拔的dict，并按如下形式循环输出：  \n",
    "“黄岗山海拔2157.8米”"
   ]
  },
  {
   "cell_type": "code",
   "execution_count": 6,
   "metadata": {
    "collapsed": false
   },
   "outputs": [
    {
     "name": "stdout",
     "output_type": "stream",
     "text": [
      "军峰山海拔1760.9M\n",
      "九岭头海拔1794M\n",
      "玉京峰海拔1819.9M\n",
      "过风坳海拔1887M\n",
      "五虎岗海拔1891M\n",
      "武功山金顶(白鹤峰)海拔1918.3M\n",
      "齐云山海拔2061.3M\n",
      "南风面海拔2120.4M\n",
      "独竖尖海拔2128M\n",
      "黄岗山海拔2157.8M\n"
     ]
    }
   ],
   "source": [
    "top10_mountain = {\n",
    "    '军峰山': '1760.9m',\n",
    "    '九岭头': '1794m',\n",
    "    '玉京峰': '1819.9m',\n",
    "    '过风坳': '1887m',\n",
    "    '五虎岗': '1891m',\n",
    "    '武功山金顶(白鹤峰)': '1918.3m',\n",
    "    '齐云山': '2061.3m',\n",
    "    '南风面': '2120.4m',\n",
    "    '独竖尖': '2128m',\n",
    "    '黄岗山': '2157.8m',\n",
    "}\n",
    "for name,altitude in top10_mountain.items():\n",
    "    print(name.title()+\"海拔\"+altitude.title())"
   ]
  },
  {
   "cell_type": "markdown",
   "metadata": {},
   "source": [
    "### 为室友打一波广告\n",
    "请参照课件3-dict_set中的cell[15]“卖室友”吧。  \n",
    "第一层dict的key可自选，如身高、爱好、技能等等。\n",
    "并以以下形式循环输出：  \n",
    "我知道的XXX，TA:  \n",
    "身高：160  \n",
    "爱好：吸猫  \n",
    "技能：python  \n",
    "\n",
    "\n",
    "\n"
   ]
  },
  {
   "cell_type": "code",
   "execution_count": 5,
   "metadata": {
    "collapsed": false
   },
   "outputs": [
    {
     "name": "stdout",
     "output_type": "stream",
     "text": [
      "\n",
      "我知道的Wu Ying:\n",
      "身高: 158cm\n",
      "爱好: 追剧\n",
      "技能: SPSS\n",
      "\n",
      "我知道的Xu Lingxia:\n",
      "身高: 160cm\n",
      "爱好: 看小说\n",
      "技能: SAS\n",
      "\n",
      "我知道的Zhao Ying:\n",
      "身高: 158cm\n",
      "爱好: 逛街\n",
      "技能: Python\n"
     ]
    }
   ],
   "source": [
    "roommate = {'Wu Ying': {'身高': '158cm', '爱好': '追剧', '技能':'SPSS'},\n",
    "        'Xu Lingxia': {'身高': '160cm', '爱好': '看小说', '技能':'SAS'},\n",
    "        'Zhao Ying': {'身高': '158cm', '爱好': '逛街', '技能':'Python'},\n",
    "        }\n",
    "\n",
    "\n",
    "for name, information in roommate.items():\n",
    "    print(\"\\n我知道的%s:\" % name.title())\n",
    "    print(\"身高: \" + information['身高'])\n",
    "    print(\"爱好: \" + information['爱好'])\n",
    "    print(\"技能: \" + information['技能'])"
   ]
  }
 ],
 "metadata": {
  "kernelspec": {
   "display_name": "Python 3",
   "language": "python",
   "name": "python3"
  },
  "language_info": {
   "codemirror_mode": {
    "name": "ipython",
    "version": 3
   },
   "file_extension": ".py",
   "mimetype": "text/x-python",
   "name": "python",
   "nbconvert_exporter": "python",
   "pygments_lexer": "ipython3",
   "version": "3.6.0"
  },
  "toc": {
   "base_numbering": 1,
   "nav_menu": {},
   "number_sections": true,
   "sideBar": true,
   "skip_h1_title": false,
   "title_cell": "Table of Contents",
   "title_sidebar": "Contents",
   "toc_cell": false,
   "toc_position": {},
   "toc_section_display": true,
   "toc_window_display": false
  }
 },
 "nbformat": 4,
 "nbformat_minor": 2
}
