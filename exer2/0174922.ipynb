{
 "cells": [
  {
   "cell_type": "markdown",
   "metadata": {},
   "source": [
    "## 第二次练习\n",
    "\n",
    "+ 请**务必**交到**exer2**文件夹下，谢绝交到master下\n",
    "+ 请**不要改动**任何文件，拜托\n",
    "+ 请在10月16日前提交。"
   ]
  },
  {
   "cell_type": "markdown",
   "metadata": {},
   "source": [
    "### 食物和热量\n",
    "\n",
    "已知，以下食物每100g的千卡路里如下：\n",
    "\n",
    "小米粥 45  \n",
    "粗粮馒头 223  \n",
    "全麦面包 235  \n",
    "瘦猪肉 143  \n",
    "鸡翅 194  \n",
    "培根 181  \n",
    "火腿肠 212 \n",
    "\n",
    "建立一个空的字典，把上述键值对依此添加进去。 \n",
    "通过循环形式，显示，如“我吃了二两”+“小米粥”，“增加了”+“45”千卡路里。"
   ]
  },
  {
   "cell_type": "code",
   "execution_count": 6,
   "metadata": {},
   "outputs": [
    {
     "name": "stdout",
     "output_type": "stream",
     "text": [
      "\n",
      "我吃了二两小米粥,增加了45千卡路里\n",
      "\n",
      "我吃了二两粗粮馒头,增加了223千卡路里\n",
      "\n",
      "我吃了二两全麦面包,增加了235千卡路里\n",
      "\n",
      "我吃了二两瘦猪肉,增加了143千卡路里\n",
      "\n",
      "我吃了二两鸡翅,增加了194千卡路里\n",
      "\n",
      "我吃了二两培根,增加了181千卡路里\n",
      "\n",
      "我吃了二两火腿肠,增加了212千卡路里\n"
     ]
    }
   ],
   "source": [
    "food_calories = {}\n",
    "food_calories['小米粥'] = '45'\n",
    "food_calories['粗粮馒头'] = '223'\n",
    "food_calories['全麦面包'] = '235'\n",
    "food_calories['瘦猪肉'] = '143'\n",
    "food_calories['鸡翅'] = '194'\n",
    "food_calories['培根'] = '181'\n",
    "food_calories['火腿肠'] = '212'\n",
    "\n",
    "\n",
    "for name,calorie in food_calories.items():\n",
    "    print(\"\\n我吃了二两%s\"%name+\",增加了%s\"%calorie+\"千卡路里\")\n"
   ]
  },
  {
   "cell_type": "markdown",
   "metadata": {},
   "source": [
    "### 运动和消耗\n",
    "常见三种运动的消耗热量表：  \n",
    "慢走 (一小时4公里) 255 卡  \n",
    "慢跑 (一小时9公里) 655 卡  \n",
    "羽毛球（一小时） 440 卡  \n",
    "\n",
    "模仿课件3-dict_set中的cell[9]做个刷题，直到答对而且答完为止。"
   ]
  },
  {
   "cell_type": "code",
   "execution_count": null,
   "metadata": {
    "scrolled": true
   },
   "outputs": [
    {
     "name": "stdout",
     "output_type": "stream",
     "text": [
      "255 卡\n",
      "你认为是什么运动消耗?\n",
      "慢走 (一小时4公里) 慢跑 (一小时9公里) 羽毛球（一小时） \n"
     ]
    }
   ],
   "source": [
    "python_words={'慢走 (一小时4公里)': '255 卡','慢跑 (一小时9公里)':'655 卡','羽毛球（一小时）':'440 卡'}\n",
    "def show_words(python_words):\n",
    "    display_message=\"\"\n",
    "    for word in python_words.keys():\n",
    "        display_message += word+' '\n",
    "    print(display_message)\n",
    "for caluli in python_words.values():\n",
    "    print(\"%s\"%caluli)\n",
    "    correct=False\n",
    "    while not correct:\n",
    "        print(\"你认为是什么运动消耗?\")\n",
    "        show_words(python_words)\n",
    "        guess_word = input(\"请输入你的答案\")\n",
    "        if python_words[guess_word] == caluli:\n",
    "            print(\"正确\")\n",
    "            correct=True\n",
    "        else:\n",
    "            print(\"对不起，您输入的有误\")\n",
    "    \n"
   ]
  },
  {
   "cell_type": "code",
   "execution_count": 7,
   "metadata": {},
   "outputs": [
    {
     "name": "stdout",
     "output_type": "stream",
     "text": [
      "Dictionary: A collection of key-value pairs.\n",
      "Function: A named set of instructions that defines a set of actions in Python.\n",
      "List: A collection of values that are not connected, but have an order.\n"
     ]
    }
   ],
   "source": [
    "# 对dict来说，输出时不按任何顺序\n",
    "# 可以通过sorted()函数使结果有序输出\n",
    "python_words = {'list': 'A collection of values that are not connected, but have an order.',\n",
    "                'dictionary': 'A collection of key-value pairs.',\n",
    "                'function': 'A named set of instructions that defines a set of actions in Python.'\n",
    "                }\n",
    "\n",
    "for word in sorted(python_words.keys()):\n",
    "    print(\"%s: %s\" % (word.title(), python_words[word]))"
   ]
  },
  {
   "cell_type": "markdown",
   "metadata": {},
   "source": [
    "### 江西最高山\n",
    "\n",
    "[江西最高的十座山]{http://jx.ifeng.com/a/20160628/4693979_0.shtml}\n",
    "\n",
    "请模仿上例，创建包含山名和海拔的dict，并按如下形式循环输出：  \n",
    "“黄岗山海拔2157.8米”"
   ]
  },
  {
   "cell_type": "code",
   "execution_count": 15,
   "metadata": {},
   "outputs": [
    {
     "name": "stdout",
     "output_type": "stream",
     "text": [
      "\n",
      "九岭头海拔1794m\n",
      "\n",
      "五虎岗海拔1891m\n",
      "\n",
      "华夏一绝海拔1918.3m\n",
      "\n",
      "南风面海拔2120.4m\n",
      "\n",
      "独竖尖海拔2128m\n",
      "\n",
      "玉京峰海拔1819.9m\n",
      "\n",
      "赣东之脊海拔1760.9m\n",
      "\n",
      "过风坳海拔1887m\n",
      "\n",
      "黄岗山海拔2157.8m\n",
      "\n",
      "齐云山海拔2061.3m\n"
     ]
    }
   ],
   "source": [
    "python_words={'黄岗山':'海拔2157.8m','独竖尖':'海拔2128m','南风面':'海拔2120.4m','齐云山':'海拔2061.3m','华夏一绝':'海拔1918.3m',\n",
    "              '五虎岗':'海拔1891m','过风坳':'海拔1887m','玉京峰':'海拔1819.9m','九岭头':'海拔1794m','赣东之脊':'海拔1760.9m'}\n",
    "for word in sorted(python_words.keys()):\n",
    "            print(\"\\n%s%s\" % (word.title(), python_words[word]))\n",
    "                 "
   ]
  },
  {
   "cell_type": "code",
   "execution_count": null,
   "metadata": {},
   "outputs": [],
   "source": []
  },
  {
   "cell_type": "markdown",
   "metadata": {},
   "source": [
    "### 为室友打一波广告\n",
    "请参照课件3-dict_set中的cell[15]“卖室友”吧。  \n",
    "第一层dict的key可自选，如身高、爱好、技能等等。\n",
    "并以以下形式循环输出：  \n",
    "我知道的XXX，TA:  \n",
    "身高：160  \n",
    "爱好：吸猫  \n",
    "技能：python  \n",
    "\n",
    "\n",
    "\n"
   ]
  },
  {
   "cell_type": "code",
   "execution_count": 14,
   "metadata": {},
   "outputs": [
    {
     "name": "stdout",
     "output_type": "stream",
     "text": [
      "\n",
      "\n",
      "我知道的雷鸣,他：\n",
      "\n",
      "身高:175\n",
      "\n",
      "爱好:唱歌\n",
      "\n",
      "技能:office\n",
      "\n",
      "\n",
      "我知道的杨扬,他：\n",
      "\n",
      "身高:174\n",
      "\n",
      "爱好:打球\n",
      "\n",
      "技能:踢球\n",
      "\n",
      "\n",
      "我知道的炜伟,他：\n",
      "\n",
      "身高:173\n",
      "\n",
      "爱好:吃鸡\n",
      "\n",
      "技能:弹琴\n"
     ]
    }
   ],
   "source": [
    "python_words = {'雷鸣': {'身高': '175', '爱好': '唱歌', '技能':'office'},\n",
    "        '杨扬': {'身高': '174', '爱好': '打球', '技能':'踢球'},\n",
    "        '炜伟': {'身高': '173', '爱好': '吃鸡', '技能':'弹琴'},\n",
    "        }\n",
    "for mate_name,mate_information in python_words.items():\n",
    "    print(\"\\n\\n我知道的%s\"%mate_name.title()+\",他：\")\n",
    "    print(\"\\n身高:\"+mate_information['身高'])\n",
    "    print(\"\\n爱好:\"+mate_information['爱好'])\n",
    "    print(\"\\n技能:\"+mate_information['技能'])\n",
    "    "
   ]
  },
  {
   "cell_type": "code",
   "execution_count": null,
   "metadata": {},
   "outputs": [],
   "source": []
  }
 ],
 "metadata": {
  "kernelspec": {
   "display_name": "Python 3",
   "language": "python",
   "name": "python3"
  },
  "language_info": {
   "codemirror_mode": {
    "name": "ipython",
    "version": 3
   },
   "file_extension": ".py",
   "mimetype": "text/x-python",
   "name": "python",
   "nbconvert_exporter": "python",
   "pygments_lexer": "ipython3",
   "version": "3.6.5"
  },
  "toc": {
   "base_numbering": 1,
   "nav_menu": {},
   "number_sections": true,
   "sideBar": true,
   "skip_h1_title": false,
   "title_cell": "Table of Contents",
   "title_sidebar": "Contents",
   "toc_cell": false,
   "toc_position": {},
   "toc_section_display": true,
   "toc_window_display": false
  }
 },
 "nbformat": 4,
 "nbformat_minor": 2
}
