{
 "cells": [
  {
   "cell_type": "markdown",
   "metadata": {},
   "source": [
    "## 第二次练习\n",
    "\n",
    "+ 请**务必**交到**exer2**文件夹下，谢绝交到master下\n",
    "+ 请**不要改动**任何文件，拜托\n",
    "+ 请在10月16日前提交。"
   ]
  },
  {
   "cell_type": "markdown",
   "metadata": {},
   "source": [
    "### 食物和热量\n",
    "\n",
    "已知，以下食物每100g的千卡路里如下：\n",
    "\n",
    "小米粥 45  \n",
    "粗粮馒头 223  \n",
    "全麦面包 235  \n",
    "瘦猪肉 143  \n",
    "鸡翅 194  \n",
    "培根 181  \n",
    "火腿肠 212 \n",
    "\n",
    "建立一个空的字典，把上述键值对依此添加进去。 \n",
    "通过循环形式，显示，如“我吃了二两”+“小米粥”，“增加了”+“45”千卡路里。"
   ]
  },
  {
   "cell_type": "code",
   "execution_count": 2,
   "metadata": {
    "collapsed": false
   },
   "outputs": [
    {
     "name": "stdout",
     "output_type": "stream",
     "text": [
      "我吃了二两小米粥增加了45的热量\n",
      "我吃了二两粗粮馒头增加了223的热量\n",
      "我吃了二两全麦面包增加了235的热量\n",
      "我吃了二两瘦猪肉增加了143的热量\n",
      "我吃了二两鸡翅增加了194的热量\n",
      "我吃了二两培根增加了181的热量\n",
      "我吃了二两火腿肠增加了212的热量\n"
     ]
    }
   ],
   "source": [
    "food={}\n",
    "food['小米粥']='45'\n",
    "food['粗粮馒头']='223'\n",
    "food['全麦面包']='235'\n",
    "food['瘦猪肉']='143'\n",
    "food['鸡翅']='194'\n",
    "food['培根']='181'\n",
    "food['火腿肠']='212'\n",
    "for name,calories in food.items():\n",
    "    print(\"我吃了二两\"+name+\"增加了\"+calories+\"的热量\")"
   ]
  },
  {
   "cell_type": "markdown",
   "metadata": {},
   "source": [
    "### 运动和消耗\n",
    "常见三种运动的消耗热量表：  \n",
    "慢走 (一小时4公里) 255 卡  \n",
    "慢跑 (一小时9公里) 655 卡  \n",
    "羽毛球（一小时） 440 卡  \n",
    "\n",
    "模仿课件3-dict_set中的cell[9]做个刷题，直到答对而且答完为止。"
   ]
  },
  {
   "cell_type": "code",
   "execution_count": 3,
   "metadata": {
    "collapsed": false
   },
   "outputs": [
    {
     "name": "stdout",
     "output_type": "stream",
     "text": [
      "\n",
      "255卡\n",
      "\n",
      "Which is right?\n",
      "慢走 (一小时4公里)  慢跑 (一小时9公里)  羽毛球（一小时）  \n",
      "- 慢走 (一小时4公里)\n",
      "TRUE\n",
      "\n",
      "655卡\n",
      "\n",
      "Which is right?\n",
      "慢走 (一小时4公里)  慢跑 (一小时9公里)  羽毛球（一小时）  \n",
      "- 慢走 (一小时4公里)\n",
      "NOT TRUE\n",
      "\n",
      "Which is right?\n",
      "慢走 (一小时4公里)  慢跑 (一小时9公里)  羽毛球（一小时）  \n",
      "- 慢跑 (一小时9公里)\n",
      "TRUE\n",
      "\n",
      "440卡\n",
      "\n",
      "Which is right?\n",
      "慢走 (一小时4公里)  慢跑 (一小时9公里)  羽毛球（一小时）  \n",
      "- 羽毛球（一小时）\n",
      "TRUE\n"
     ]
    }
   ],
   "source": [
    "python_words = {'慢走 (一小时4公里)': '255卡',\n",
    "                '慢跑 (一小时9公里)': '655卡',\n",
    "                '羽毛球（一小时）': '440卡',\n",
    "                }\n",
    "def show_words(python_words):\n",
    "    display_message = \"\"\n",
    "    for word in python_words.keys():\n",
    "        display_message += word + '  '\n",
    "    print(display_message)\n",
    "for meaning in python_words.values():\n",
    "    print(\"\\n%s\" % meaning)\n",
    "    correct = False\n",
    "    while not correct:\n",
    "        \n",
    "        print(\"\\nWhich is right?\")\n",
    "        show_words(python_words)\n",
    "        guessed_word = input(\"- \")  \n",
    "        \n",
    "        if python_words[guessed_word] == meaning:\n",
    "            print(\"TRUE\")\n",
    "            correct = True\n",
    "        else:\n",
    "            print(\"NOT TRUE\")"
   ]
  },
  {
   "cell_type": "markdown",
   "metadata": {},
   "source": [
    "### 江西最高山\n",
    "\n",
    "[江西最高的十座山]{http://jx.ifeng.com/a/20160628/4693979_0.shtml}\n",
    "\n",
    "请模仿上例，创建包含山名和海拔的dict，并按如下形式循环输出：  \n",
    "“黄岗山海拔2157.8米”"
   ]
  },
  {
   "cell_type": "code",
   "execution_count": 7,
   "metadata": {
    "collapsed": false
   },
   "outputs": [
    {
     "name": "stdout",
     "output_type": "stream",
     "text": [
      "九岭头海拔1794米\n",
      "五虎岗海拔1891米\n",
      "军峰山海拔1761米\n",
      "南风面海拔2120米\n",
      "独竖尖海拔2129米\n",
      "玉京峰海拔1817米\n",
      "过风坳海拔1887米\n",
      "金顶海拔1918.3米\n",
      "黄岗山海拔2158米\n",
      "齐云山海拔2069米\n"
     ]
    }
   ],
   "source": [
    "python_words = {'黄岗山': '2158',\n",
    "                '独竖尖': '2129',\n",
    "                '南风面': '2120',\n",
    "                '齐云山': '2069',\n",
    "                '金顶': '1918.3',\n",
    "                '五虎岗': '1891',\n",
    "                '过风坳': '1887',\n",
    "                '玉京峰': '1817',\n",
    "                '九岭头': '1794',\n",
    "                '军峰山': '1761',\n",
    "                }\n",
    "for word in sorted(python_words.keys()):\n",
    "     print(\"%s海拔%s米\" % (word.title(), python_words[word]))"
   ]
  },
  {
   "cell_type": "markdown",
   "metadata": {},
   "source": [
    "### 为室友打一波广告\n",
    "请参照课件3-dict_set中的cell[15]“卖室友”吧。  \n",
    "第一层dict的key可自选，如身高、爱好、技能等等。\n",
    "并以以下形式循环输出：  \n",
    "我知道的XXX，TA:  \n",
    "身高：160  \n",
    "爱好：吸猫  \n",
    "技能：python  \n",
    "\n",
    "\n",
    "\n"
   ]
  },
  {
   "cell_type": "code",
   "execution_count": 5,
   "metadata": {
    "collapsed": false
   },
   "outputs": [
    {
     "name": "stdout",
     "output_type": "stream",
     "text": [
      "\n",
      "我知道的Xj:\n",
      "身高: 182cm\n",
      "爱好: 三国杀\n",
      "技能: 篮球\n",
      "\n",
      "我知道的Cj:\n",
      "身高: 176cm\n",
      "爱好: 绝地求生\n",
      "技能: 足球\n",
      "\n",
      "我知道的Llj:\n",
      "身高: 172cm\n",
      "爱好: 英雄联盟\n",
      "技能: 羽毛球\n"
     ]
    }
   ],
   "source": [
    "roommate = {'XJ': {'身高': '182cm', '爱好': '三国杀', '技能':'篮球'},\n",
    "        'CJ': {'身高': '176cm', '爱好': '绝地求生', '技能':'足球'},\n",
    "        'LLJ': {'身高': '172cm', '爱好': '英雄联盟', '技能':'羽毛球'},\n",
    "        }\n",
    "\n",
    "\n",
    "for name, information in roommate.items():\n",
    "    print(\"\\n我知道的%s:\" % name.title())\n",
    "    print(\"身高: \" + information['身高'])\n",
    "    print(\"爱好: \" + information['爱好'])\n",
    "    print(\"技能: \" + information['技能'])"
   ]
  }
 ],
 "metadata": {
  "kernelspec": {
   "display_name": "Python 3",
   "language": "python",
   "name": "python3"
  },
  "language_info": {
   "codemirror_mode": {
    "name": "ipython",
    "version": 3
   },
   "file_extension": ".py",
   "mimetype": "text/x-python",
   "name": "python",
   "nbconvert_exporter": "python",
   "pygments_lexer": "ipython3",
   "version": "3.6.0"
  },
  "toc": {
   "base_numbering": 1,
   "nav_menu": {},
   "number_sections": true,
   "sideBar": true,
   "skip_h1_title": false,
   "title_cell": "Table of Contents",
   "title_sidebar": "Contents",
   "toc_cell": false,
   "toc_position": {},
   "toc_section_display": true,
   "toc_window_display": false
  }
 },
 "nbformat": 4,
 "nbformat_minor": 2
}
