{
 "cells": [
  {
   "cell_type": "markdown",
   "metadata": {},
   "source": [
    "## 第二次练习\n",
    "\n",
    "+ 请**务必**交到**exer2**文件夹下，谢绝交到master下\n",
    "+ 请**不要改动**任何文件，拜托\n",
    "+ 请在10月16日前提交。"
   ]
  },
  {
   "cell_type": "markdown",
   "metadata": {},
   "source": [
    "### 食物和热量\n",
    "\n",
    "已知，以下食物每100g的千卡路里如下：\n",
    "\n",
    "小米粥 45  \n",
    "粗粮馒头 223  \n",
    "全麦面包 235  \n",
    "瘦猪肉 143  \n",
    "鸡翅 194  \n",
    "培根 181  \n",
    "火腿肠 212 \n",
    "\n",
    "建立一个空的字典，把上述键值对依此添加进去。 \n",
    "通过循环形式，显示，如“我吃了二两”+“小米粥”，“增加了”+“45”千卡路里。"
   ]
  },
  {
   "cell_type": "code",
   "execution_count": null,
   "metadata": {
    "collapsed": false
   },
   "outputs": [],
   "source": [
    "dic_food={}\n",
    "dic_food['小米粥']=45\n",
    "dic_food['粗粮馒头']=223\n",
    "dic_food['全麦面包']=235\n",
    "dic_food['瘦猪肉 ']=143\n",
    "dic_food['鸡翅']=194\n",
    "dic_food['培根']=181\n",
    "dic_food['火腿肠']=212\n",
    "for food,energy in dic_food.items():\n",
    "    print(\"我吃了二两%s\" % food)\n",
    "    print(\"增加了%d千卡路里\" % energy)"
   ]
  },
  {
   "cell_type": "markdown",
   "metadata": {},
   "source": [
    "### 运动和消耗\n",
    "常见三种运动的消耗热量表：  \n",
    "慢走 (一小时4公里) 255 卡  \n",
    "慢跑 (一小时9公里) 655 卡  \n",
    "羽毛球（一小时） 440 卡  \n",
    "\n",
    "模仿课件3-dict_set中的cell[9]做个刷题，直到答对而且答完为止。"
   ]
  },
  {
   "cell_type": "code",
   "execution_count": 1,
   "metadata": {
    "collapsed": false
   },
   "outputs": [
    {
     "name": "stdout",
     "output_type": "stream",
     "text": [
      "慢走 (一小时4公里)\n",
      "你认为这项运动需要消耗多少卡路里？\n",
      "255 卡 \n",
      "655 卡\n",
      "440 卡\n",
      "255 卡 \n",
      "你对了\n",
      "慢跑 (一小时9公里)\n",
      "你认为这项运动需要消耗多少卡路里？\n",
      "255 卡 \n",
      "655 卡\n",
      "440 卡\n",
      "655 卡 \n",
      "你做错了\n",
      "你认为这项运动需要消耗多少卡路里？\n",
      "255 卡 \n",
      "655 卡\n",
      "440 卡\n",
      "440 卡 \n",
      "你做错了\n",
      "你认为这项运动需要消耗多少卡路里？\n",
      "255 卡 \n",
      "655 卡\n",
      "440 卡\n",
      "655 卡\n",
      "你对了\n",
      "羽毛球（一小时）\n",
      "你认为这项运动需要消耗多少卡路里？\n",
      "255 卡 \n",
      "655 卡\n",
      "440 卡\n",
      "440 卡\n",
      "你对了\n"
     ]
    }
   ],
   "source": [
    "dic_exer={'慢走 (一小时4公里)':'255 卡',\n",
    "         '慢跑 (一小时9公里)':'655 卡',\n",
    "         '羽毛球（一小时）':'440 卡',\n",
    "         }\n",
    "\n",
    "def show_words(dic_exer):\n",
    "    for energy in dic_exer.values():\n",
    "        print(energy)\n",
    "        \n",
    "for sport in dic_exer.keys():\n",
    "    print(\"%s\"%sport)\n",
    "    \n",
    "    correct=False\n",
    "    while not correct:\n",
    "        print(\"你认为这项运动需要消耗多少卡路里？\")\n",
    "        show_words(dic_exer)\n",
    "        guess_words=input(\"\")\n",
    "        \n",
    "        if guess_words==dic_exer[sport]:\n",
    "            print(\"你对了\")\n",
    "            correct=True\n",
    "        else:\n",
    "            print(\"你做错了\")\n",
    "        \n",
    "    \n"
   ]
  },
  {
   "cell_type": "code",
   "execution_count": 1,
   "metadata": {
    "collapsed": false
   },
   "outputs": [
    {
     "name": "stdout",
     "output_type": "stream",
     "text": [
      "Dictionary: A collection of key-value pairs.\n",
      "Function: A named set of instructions that defines a set of actions in Python.\n",
      "List: A collection of values that are not connected, but have an order.\n"
     ]
    }
   ],
   "source": [
    "# 对dict来说，输出时不按任何顺序\n",
    "# 可以通过sorted()函数使结果有序输出\n",
    "python_words = {'list': 'A collection of values that are not connected, but have an order.',\n",
    "                'dictionary': 'A collection of key-value pairs.',\n",
    "                'function': 'A named set of instructions that defines a set of actions in Python.',\n",
    "                }\n",
    "\n",
    "for word in sorted(python_words.keys()):\n",
    "    print(\"%s: %s\" % (word.title(), python_words[word]))"
   ]
  },
  {
   "cell_type": "markdown",
   "metadata": {},
   "source": [
    "### 江西最高山\n",
    "\n",
    "[江西最高的十座山]{http://jx.ifeng.com/a/20160628/4693979_0.shtml}\n",
    "\n",
    "请模仿上例，创建包含山名和海拔的dict，并按如下形式循环输出：  \n",
    "“黄岗山海拔2157.8米”"
   ]
  },
  {
   "cell_type": "code",
   "execution_count": 5,
   "metadata": {
    "collapsed": false
   },
   "outputs": [
    {
     "name": "stdout",
     "output_type": "stream",
     "text": [
      "九岭头海拔1794米\n",
      "五虎岗海拔1891米\n",
      "军峰山海拔1760.9米\n",
      "南风面海拔2120.4米\n",
      "武功山金顶(白鹤峰)海拔1918.3米\n",
      "独竖尖海拔2128米\n",
      "玉京峰海拔1819.9米\n",
      "过风坳海拔1887米\n",
      "黄岗山海拔2157.8米\n",
      "齐云山海拔2061.3米\n"
     ]
    }
   ],
   "source": [
    "python_words = {'军峰山': 1760.9,\n",
    "                '九岭头': 1794,\n",
    "                '玉京峰': 1819.9,\n",
    "                '过风坳':1887,\n",
    "                '五虎岗':1891,\n",
    "                '武功山金顶(白鹤峰)':1918.3,\n",
    "                '齐云山':2061.3,\n",
    "                '南风面':2120.4,\n",
    "                '独竖尖':2128,\n",
    "                '黄岗山':2157.8,\n",
    "                }\n",
    "for word in sorted(python_words.keys()):\n",
    "    print(\"%s海拔%s米\" % (word.title(), python_words[word]))"
   ]
  },
  {
   "cell_type": "markdown",
   "metadata": {},
   "source": [
    "### 为室友打一波广告\n",
    "请参照课件3-dict_set中的cell[15]“卖室友”吧。  \n",
    "第一层dict的key可自选，如身高、爱好、技能等等。\n",
    "并以以下形式循环输出：  \n",
    "我知道的XXX，TA:  \n",
    "身高：160  \n",
    "爱好：吸猫  \n",
    "技能：python  \n",
    "\n",
    "\n",
    "\n"
   ]
  },
  {
   "cell_type": "code",
   "execution_count": 2,
   "metadata": {
    "collapsed": false
   },
   "outputs": [
    {
     "name": "stdout",
     "output_type": "stream",
     "text": [
      "我知道Ly她:\n",
      "身高:1.58m \n",
      "爱好:唱歌 \n",
      "技能:吹笛子\n",
      "我知道Xy她:\n",
      "身高:1.63m \n",
      "爱好:看剧 \n",
      "技能:泡茶\n",
      "我知道Ny她:\n",
      "身高:1.75m \n",
      "爱好:运动 \n",
      "技能:英语\n"
     ]
    }
   ],
   "source": [
    "roommates = {'ly': {'身高': '1.58m', '爱好': '唱歌', '技能':'吹笛子'},\n",
    "        'xy': {'身高': '1.63m', '爱好': '看剧', '技能':'泡茶'},\n",
    "        'ny': {'身高': '1.75m', '爱好': '运动', '技能':'英语'},\n",
    "        }\n",
    "\n",
    "for name, option in roommates.items():\n",
    "    print(\"我知道%s她:\" % name.title())\n",
    "    print(\"身高:%s \" % option['身高'])\n",
    "    print(\"爱好:%s \" % option['爱好'])\n",
    "    print(\"技能:%s\" %option['技能'])"
   ]
  }
 ],
 "metadata": {
  "kernelspec": {
   "display_name": "Python 3",
   "language": "python",
   "name": "python3"
  },
  "language_info": {
   "codemirror_mode": {
    "name": "ipython",
    "version": 3
   },
   "file_extension": ".py",
   "mimetype": "text/x-python",
   "name": "python",
   "nbconvert_exporter": "python",
   "pygments_lexer": "ipython3",
   "version": "3.6.0"
  },
  "toc": {
   "base_numbering": 1,
   "nav_menu": {},
   "number_sections": true,
   "sideBar": true,
   "skip_h1_title": false,
   "title_cell": "Table of Contents",
   "title_sidebar": "Contents",
   "toc_cell": false,
   "toc_position": {},
   "toc_section_display": true,
   "toc_window_display": false
  }
 },
 "nbformat": 4,
 "nbformat_minor": 2
}
