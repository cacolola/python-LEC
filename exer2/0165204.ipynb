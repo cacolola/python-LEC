{
 "cells": [
  {
   "cell_type": "markdown",
   "metadata": {},
   "source": [
    "## 第二次练习\n",
    "\n",
    "+ 请**务必**交到**exer2**文件夹下，谢绝交到master下\n",
    "+ 请**不要改动**任何文件，拜托\n",
    "+ 请在10月16日前提交。"
   ]
  },
  {
   "cell_type": "markdown",
   "metadata": {},
   "source": [
    "### 食物和热量\n",
    "\n",
    "已知，以下食物每100g的千卡路里如下：\n",
    "\n",
    "小米粥 45  \n",
    "粗粮馒头 223  \n",
    "全麦面包 235  \n",
    "瘦猪肉 143  \n",
    "鸡翅 194  \n",
    "培根 181  \n",
    "火腿肠 212 \n",
    "\n",
    "建立一个空的字典，把上述键值对依此添加进去。 \n",
    "通过循环形式，显示，如“我吃了二两”+“小米粥”，“增加了”+“45”千卡路里。"
   ]
  },
  {
   "cell_type": "code",
   "execution_count": 12,
   "metadata": {
    "collapsed": false
   },
   "outputs": [
    {
     "name": "stdout",
     "output_type": "stream",
     "text": [
      "\n",
      "我吃了二两小米粥,增加了45千卡路里\n",
      "\n",
      "我吃了二两粗粮馒头,增加了223千卡路里\n",
      "\n",
      "我吃了二两全麦面包,增加了235千卡路里\n",
      "\n",
      "我吃了二两瘦猪肉,增加了143千卡路里\n",
      "\n",
      "我吃了二两鸡翅,增加了194千卡路里\n",
      "\n",
      "我吃了二两培根,增加了181千卡路里\n",
      "\n",
      "我吃了二两火腿,增加了212千卡路里\n"
     ]
    }
   ],
   "source": [
    "food_calorie = {}\n",
    "\n",
    "food_calorie ['小米粥'] ='45'\n",
    "food_calorie ['粗粮馒头'] = '223'\n",
    "food_calorie ['全麦面包'] = '235'\n",
    "food_calorie ['瘦猪肉'] = '143'\n",
    "food_calorie ['鸡翅'] = '194'\n",
    "food_calorie ['培根'] = '181'\n",
    "food_calorie ['火腿'] = '212'\n",
    "\n",
    "for food, calorie in food_calorie.items():\n",
    "    print('\\n我吃了二两%s,增加了%s千卡路里' % (food, calorie))"
   ]
  },
  {
   "cell_type": "markdown",
   "metadata": {},
   "source": [
    "### 运动和消耗\n",
    "常见三种运动的消耗热量表：  \n",
    "慢走 (一小时4公里) 255 卡  \n",
    "慢跑 (一小时9公里) 655 卡  \n",
    "羽毛球（一小时） 440 卡  \n",
    "\n",
    "模仿课件3-dict_set中的cell[9]做个刷题，直到答对而且答完为止。"
   ]
  },
  {
   "cell_type": "code",
   "execution_count": 1,
   "metadata": {
    "collapsed": false
   },
   "outputs": [
    {
     "name": "stdout",
     "output_type": "stream",
     "text": [
      "\n",
      "（一小时4公里）255卡\n",
      "\n",
      "What sport do you think this is?\n",
      "慢走  慢跑  羽毛球  \n",
      "- 慢跑\n",
      "Sorry, that's just not the right sport.\n",
      "\n",
      "What sport do you think this is?\n",
      "慢走  慢跑  羽毛球  \n",
      "- 慢走\n",
      "You got it!\n",
      "\n",
      "（一小时9公里）655卡\n",
      "\n",
      "What sport do you think this is?\n",
      "慢走  慢跑  羽毛球  \n",
      "- 慢跑\n",
      "You got it!\n",
      "\n",
      "（一小时）440卡\n",
      "\n",
      "What sport do you think this is?\n",
      "慢走  慢跑  羽毛球  \n",
      "- 羽毛球\n",
      "You got it!\n"
     ]
    }
   ],
   "source": [
    "sport_calorie = {'慢走': '（一小时4公里）255卡',\n",
    "                 '慢跑': '（一小时9公里）655卡',\n",
    "                 '羽毛球': '（一小时）440卡',\n",
    "                  }\n",
    "def show_sport(sport_calorie):\n",
    "    display_message = \"\"\n",
    "    for sport in sport_calorie.keys():\n",
    "        display_message += sport + '  '\n",
    "    print(display_message)\n",
    "\n",
    "for calorie in sport_calorie.values():\n",
    "    print(\"\\n%s\" % calorie)\n",
    "\n",
    "    correct = False\n",
    "    while not correct:\n",
    "        \n",
    "        print(\"\\nWhat sport do you think this is?\")\n",
    "        show_sport(sport_calorie)\n",
    "        guessed_sport = input(\"- \")    \n",
    "        \n",
    "        if sport_calorie[guessed_sport] == calorie:\n",
    "            print(\"You got it!\")\n",
    "            correct = True\n",
    "        else:\n",
    "            print(\"Sorry, that's just not the right sport.\")"
   ]
  },
  {
   "cell_type": "markdown",
   "metadata": {},
   "source": [
    "### 江西最高山\n",
    "\n",
    "[江西最高的十座山]{http://jx.ifeng.com/a/20160628/4693979_0.shtml}\n",
    "\n",
    "请模仿上例，创建包含山名和海拔的dict，并按如下形式循环输出：  \n",
    "“黄岗山海拔2157.8米”"
   ]
  },
  {
   "cell_type": "code",
   "execution_count": 2,
   "metadata": {
    "collapsed": false
   },
   "outputs": [
    {
     "name": "stdout",
     "output_type": "stream",
     "text": [
      "九岭头海拔1794米\n",
      "五虎岗海拔1891米\n",
      "军峰山海拔1760.9米\n",
      "南风面海拔2120.4米\n",
      "武功山金顶(白鹤峰)海拔1918.3米\n",
      "独竖尖海拔2128米\n",
      "玉京峰海拔1819.9米\n",
      "过风坳海拔1887米\n",
      "黄岗山海拔2157.8米\n",
      "齐云山海拔2061.3米\n"
     ]
    }
   ],
   "source": [
    "jx_top10mountains = {'军峰山': '海拔1760.9米',\n",
    "                '九岭头': '海拔1794米',\n",
    "                '玉京峰': '海拔1819.9米',\n",
    "                '过风坳': '海拔1887米',\n",
    "                '五虎岗': '海拔1891米',\n",
    "                '武功山金顶(白鹤峰)': '海拔1918.3米',\n",
    "                '齐云山': '海拔2061.3米',\n",
    "                '南风面': '海拔2120.4米',\n",
    "                '独竖尖': '海拔2128米',\n",
    "                '黄岗山': '海拔2157.8米',\n",
    "                }\n",
    "\n",
    "for mountain in sorted(jx_top10mountains.keys()):\n",
    "    print(\"%s%s\" % (mountain.title(), jx_top10mountains[mountain]))"
   ]
  },
  {
   "cell_type": "markdown",
   "metadata": {},
   "source": [
    "### 为室友打一波广告\n",
    "请参照课件3-dict_set中的cell[15]“卖室友”吧。  \n",
    "第一层dict的key可自选，如身高、爱好、技能等等。\n",
    "并以以下形式循环输出：  \n",
    "我知道的XXX，TA:  \n",
    "身高：160  \n",
    "爱好：吸猫  \n",
    "技能：python  \n",
    "\n",
    "\n",
    "\n"
   ]
  },
  {
   "cell_type": "code",
   "execution_count": 4,
   "metadata": {
    "collapsed": false
   },
   "outputs": [
    {
     "name": "stdout",
     "output_type": "stream",
     "text": [
      "\n",
      "我知道的岑雪莹:\n",
      "身高: 168cm\n",
      "出生年月: 1999年1月\n",
      "是否单身: 是\n",
      "\n",
      "我知道的颜丙琦:\n",
      "身高: 165cm\n",
      "出生年月: 1998年5月\n",
      "是否单身: 否\n",
      "\n",
      "我知道的邓明慧:\n",
      "身高: 153cm\n",
      "出生年月: 1998年3月\n",
      "是否单身: 是\n"
     ]
    }
   ],
   "source": [
    "roomates = {'岑雪莹': {'身高': '168cm', '出生年月': '1999年1月', '是否单身':'是'},\n",
    "            '颜丙琦': {'身高': '165cm', '出生年月': '1998年5月', '是否单身':'否'},\n",
    "            '邓明慧': {'身高': '153cm', '出生年月': '1998年3月', '是否单身':'是'},\n",
    "            }\n",
    "\n",
    "\n",
    "for roomates_name, roomates_information in roomates.items():\n",
    "    print(\"\\n我知道的%s:\" % roomates_name.title())\n",
    "    print(\"身高: \" + roomates_information['身高'])\n",
    "    print(\"出生年月: \" + roomates_information['出生年月'])\n",
    "    print(\"是否单身: \" + roomates_information['是否单身'])"
   ]
  }
 ],
 "metadata": {
  "kernelspec": {
   "display_name": "Python 3",
   "language": "python",
   "name": "python3"
  },
  "language_info": {
   "codemirror_mode": {
    "name": "ipython",
    "version": 3
   },
   "file_extension": ".py",
   "mimetype": "text/x-python",
   "name": "python",
   "nbconvert_exporter": "python",
   "pygments_lexer": "ipython3",
   "version": "3.6.0"
  },
  "toc": {
   "base_numbering": 1,
   "nav_menu": {},
   "number_sections": true,
   "sideBar": true,
   "skip_h1_title": false,
   "title_cell": "Table of Contents",
   "title_sidebar": "Contents",
   "toc_cell": false,
   "toc_position": {},
   "toc_section_display": true,
   "toc_window_display": false
  }
 },
 "nbformat": 4,
 "nbformat_minor": 2
}
