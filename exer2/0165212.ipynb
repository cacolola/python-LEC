{
 "cells": [
  {
   "cell_type": "markdown",
   "metadata": {},
   "source": [
    "## 第二次练习\n",
    "\n",
    "+ 请**务必**交到**exer2**文件夹下，谢绝交到master下\n",
    "+ 请**不要改动**任何文件，拜托\n",
    "+ 请在10月16日前提交。"
   ]
  },
  {
   "cell_type": "markdown",
   "metadata": {},
   "source": [
    "### 食物和热量\n",
    "\n",
    "已知，以下食物每100g的千卡路里如下：\n",
    "\n",
    "小米粥 45  \n",
    "粗粮馒头 223  \n",
    "全麦面包 235  \n",
    "瘦猪肉 143  \n",
    "鸡翅 194  \n",
    "培根 181  \n",
    "火腿肠 212 \n",
    "\n",
    "建立一个空的字典，把上述键值对依此添加进去。 \n",
    "通过循环形式，显示，如“我吃了二两”+“小米粥”，“增加了”+“45”千卡路里。"
   ]
  },
  {
   "cell_type": "code",
   "execution_count": null,
   "metadata": {
    "collapsed": false
   },
   "outputs": [],
   "source": [
    "energy_food = {}\n",
    "energy_food['小米粥'] = '45'\n",
    "energy_food['粗粮馒头'] = '223'\n",
    "energy_food['全麦面包'] = '235'\n",
    "energy_food['瘦猪肉'] = '143'\n",
    "energy_food['鸡翅'] = '194'\n",
    "energy_food['培根'] = '181'\n",
    "energy_food['火腿肠'] = '212'\n",
    "\n",
    "for word,heat in energy_food.items():\n",
    "    print(\"\\n我吃了二两%s，\"%word+\"增加了%s\"%heat+\"千卡路里。\")"
   ]
  },
  {
   "cell_type": "markdown",
   "metadata": {},
   "source": [
    "### 运动和消耗\n",
    "常见三种运动的消耗热量表：  \n",
    "慢走 (一小时4公里) 255 卡  \n",
    "慢跑 (一小时9公里) 655 卡  \n",
    "羽毛球（一小时） 440 卡  \n",
    "\n",
    "模仿课件3-dict_set中的cell[9]做个刷题，直到答对而且答完为止。"
   ]
  },
  {
   "cell_type": "code",
   "execution_count": 1,
   "metadata": {
    "collapsed": false
   },
   "outputs": [
    {
     "name": "stdout",
     "output_type": "stream",
     "text": [
      "\n",
      "255卡\n",
      "\n",
      "What word do you think this is?\n",
      "慢走 (一小时4公里)  慢跑 (一小时9公里)  羽毛球(一小时)  \n",
      "- 慢走 (一小时4公里)\n",
      "You got it!\n",
      "\n",
      "655卡\n",
      "\n",
      "What word do you think this is?\n",
      "慢走 (一小时4公里)  慢跑 (一小时9公里)  羽毛球(一小时)  \n",
      "- 慢跑 (一小时9公里)\n",
      "You got it!\n",
      "\n",
      "440卡\n",
      "\n",
      "What word do you think this is?\n",
      "慢走 (一小时4公里)  慢跑 (一小时9公里)  羽毛球(一小时)  \n",
      "- 羽毛球(一小时)\n",
      "You got it!\n"
     ]
    }
   ],
   "source": [
    "sport_words = {'慢走 (一小时4公里)':'255卡','慢跑 (一小时9公里)':'655卡','羽毛球(一小时)':'440卡'}\n",
    "def show_words(sport_words):\n",
    "    display_message = \"\"\n",
    "    for word in sport_words.keys():\n",
    "        display_message += word + '  '\n",
    "    print(display_message)\n",
    "for meaning in sport_words.values():\n",
    "    print(\"\\n%s\" % meaning)\n",
    "    correct = False\n",
    "    while not correct:\n",
    "        print(\"\\nWhat word do you think this is?\")\n",
    "        show_words(sport_words)\n",
    "        guessed_word = input(\"- \")    \n",
    "        if sport_words[guessed_word] == meaning:\n",
    "            print(\"You got it!\")\n",
    "            correct = True\n",
    "        else:\n",
    "            print(\"Sorry, that's just not the right word.\")"
   ]
  },
  {
   "cell_type": "code",
   "execution_count": 2,
   "metadata": {
    "collapsed": false
   },
   "outputs": [
    {
     "name": "stdout",
     "output_type": "stream",
     "text": [
      "Dictionary: A collection of key-value pairs.\n",
      "Function: A named set of instructions that defines a set of actions in Python.\n",
      "List: A collection of values that are not connected, but have an order.\n"
     ]
    }
   ],
   "source": [
    "# 对dict来说，输出时不按任何顺序\n",
    "# 可以通过sorted()函数使结果有序输出\n",
    "python_words = {'list': 'A collection of values that are not connected, but have an order.',\n",
    "                'dictionary': 'A collection of key-value pairs.',\n",
    "                'function': 'A named set of instructions that defines a set of actions in Python.',\n",
    "                }\n",
    "\n",
    "for word in sorted(python_words.keys()):\n",
    "    print(\"%s: %s\" % (word.title(), python_words[word]))"
   ]
  },
  {
   "cell_type": "markdown",
   "metadata": {},
   "source": [
    "### 江西最高山\n",
    "\n",
    "[江西最高的十座山]{http://jx.ifeng.com/a/20160628/4693979_0.shtml}\n",
    "\n",
    "请模仿上例，创建包含山名和海拔的dict，并按如下形式循环输出：  \n",
    "“黄岗山海拔2157.8米”"
   ]
  },
  {
   "cell_type": "code",
   "execution_count": 5,
   "metadata": {
    "collapsed": false
   },
   "outputs": [
    {
     "name": "stdout",
     "output_type": "stream",
     "text": [
      "九岭头海拔1794m\n",
      "五虎岗海拔1891m\n",
      "华夏一绝海拔1918.3m\n",
      "南风面海拔2120.4m\n",
      "独竖尖海拔2128m\n",
      "玉京峰海拔1819.9m\n",
      "赣东之脊海拔1760.9m\n",
      "过风坳海拔1887m\n",
      "黄岗山海拔2157.8m\n",
      "齐云山海拔2061.3m\n"
     ]
    }
   ],
   "source": [
    "mountain_altitudes = {'黄岗山':'海拔2157.8m','独竖尖':'海拔2128m','南风面':'海拔2120.4m','齐云山':'海拔2061.3m','华夏一绝':'海拔1918.3m',\n",
    "              '五虎岗':'海拔1891m','过风坳':'海拔1887m','玉京峰':'海拔1819.9m','九岭头':'海拔1794m','赣东之脊':'海拔1760.9m'}\n",
    "for mountain in sorted(mountain_altitudes.keys()):\n",
    "    print(\"%s%s\" % (mountain.title(), mountain_altitudes[mountain]))"
   ]
  },
  {
   "cell_type": "markdown",
   "metadata": {},
   "source": [
    "### 为室友打一波广告\n",
    "请参照课件3-dict_set中的cell[15]“卖室友”吧。  \n",
    "第一层dict的key可自选，如身高、爱好、技能等等。\n",
    "并以以下形式循环输出：  \n",
    "我知道的XXX，TA:  \n",
    "身高：160  \n",
    "爱好：吸猫  \n",
    "技能：python  \n",
    "\n",
    "\n",
    "\n"
   ]
  },
  {
   "cell_type": "code",
   "execution_count": 19,
   "metadata": {
    "collapsed": false
   },
   "outputs": [
    {
     "name": "stdout",
     "output_type": "stream",
     "text": [
      "\n",
      "我知道的小温，他:\n",
      "身高: 168\n",
      "爱好: 唱歌\n",
      "特长: 鬼嚎\n",
      "\n",
      "我知道的小罗，他:\n",
      "身高: 172\n",
      "爱好: 守望先锋\n",
      "特长: 源氏\n",
      "\n",
      "我知道的小黄，他:\n",
      "身高: 165\n",
      "爱好: CSGO\n",
      "特长: P90\n"
     ]
    }
   ],
   "source": [
    "roommates = {'小温': {'身高': '168', '爱好': '唱歌', '特长':'鬼嚎'},\n",
    "        '小罗': {'身高': '172', '爱好': '守望先锋', '特长':'源氏'},\n",
    "        '小黄': {'身高': '165', '爱好': 'CSGO', '特长':'P90'},\n",
    "        }\n",
    "\n",
    "\n",
    "for roommates_name, roommates_information in roommates.items():\n",
    "    print(\"\\n我知道的%s，他:\" % roommates_name.title())\n",
    "    print(\"身高: \" + roommates_information['身高'])\n",
    "    print(\"爱好: \" + roommates_information['爱好'])\n",
    "    print(\"特长: \" + roommates_information['特长'])"
   ]
  },
  {
   "cell_type": "code",
   "execution_count": null,
   "metadata": {
    "collapsed": true
   },
   "outputs": [],
   "source": []
  }
 ],
 "metadata": {
  "kernelspec": {
   "display_name": "Python 3",
   "language": "python",
   "name": "python3"
  },
  "language_info": {
   "codemirror_mode": {
    "name": "ipython",
    "version": 3
   },
   "file_extension": ".py",
   "mimetype": "text/x-python",
   "name": "python",
   "nbconvert_exporter": "python",
   "pygments_lexer": "ipython3",
   "version": "3.6.0"
  },
  "toc": {
   "base_numbering": 1,
   "nav_menu": {},
   "number_sections": true,
   "sideBar": true,
   "skip_h1_title": false,
   "title_cell": "Table of Contents",
   "title_sidebar": "Contents",
   "toc_cell": false,
   "toc_position": {},
   "toc_section_display": true,
   "toc_window_display": false
  }
 },
 "nbformat": 4,
 "nbformat_minor": 2
}
