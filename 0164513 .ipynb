{
 "cells": [
  {
   "cell_type": "markdown",
   "metadata": {},
   "source": [
    "## 第二次练习\n",
    "\n",
    "+ 请**务必**交到**exer2**文件夹下，谢绝交到master下\n",
    "+ 请**不要改动**任何文件，拜托\n",
    "+ 请在10月16日前提交。"
   ]
  },
  {
   "cell_type": "markdown",
   "metadata": {},
   "source": [
    "### 食物和热量\n",
    "\n",
    "已知，以下食物每100g的千卡路里如下：\n",
    "\n",
    "小米粥 45  \n",
    "粗粮馒头 223  \n",
    "全麦面包 235  \n",
    "瘦猪肉 143  \n",
    "鸡翅 194  \n",
    "培根 181  \n",
    "火腿肠 212 \n",
    "\n",
    "建立一个空的字典，把上述键值对依此添加进去。 \n",
    "通过循环形式，显示，如“我吃了二两”+“小米粥”，“增加了”+“45”千卡路里。"
   ]
  },
  {
   "cell_type": "code",
   "execution_count": 4,
   "metadata": {
    "collapsed": false
   },
   "outputs": [
    {
     "name": "stdout",
     "output_type": "stream",
     "text": [
      "我吃了二两小米粥,增加了45千卡路里\n",
      "我吃了二两粗粮馒头,增加了223千卡路里\n",
      "我吃了二两全麦面包,增加了235千卡路里\n",
      "我吃了二两瘦猪肉,增加了143千卡路里\n",
      "我吃了二两鸡翅,增加了194千卡路里\n",
      "我吃了二两培根,增加了181千卡路里\n",
      "我吃了二两火腿肠,增加了212千卡路里\n"
     ]
    }
   ],
   "source": [
    "dic_food={}\n",
    "dic_food[\"小米粥\"]=45\n",
    "dic_food[\"粗粮馒头\"]=223\n",
    "dic_food[\"全麦面包\"]=235\n",
    "dic_food[\"瘦猪肉\"]=143\n",
    "dic_food[\"鸡翅\"]=194\n",
    "dic_food[\"培根\"]=181\n",
    "dic_food[\"火腿肠\"]=212\n",
    "for food, energy in dic_food.items():\n",
    "    print(\"我吃了二两%s\"% food+\",\"+\"增加了%d千卡路里\"%energy)\n",
    "   "
   ]
  },
  {
   "cell_type": "markdown",
   "metadata": {},
   "source": [
    "### 运动和消耗\n",
    "常见三种运动的消耗热量表：  \n",
    "慢走 (一小时4公里) 255 卡  \n",
    "慢跑 (一小时9公里) 655 卡  \n",
    "羽毛球（一小时） 440 卡  \n",
    "\n",
    "模仿课件3-dict_set中的cell[9]做个刷题，直到答对而且答完为止。"
   ]
  },
  {
   "cell_type": "code",
   "execution_count": 1,
   "metadata": {
    "collapsed": false
   },
   "outputs": [
    {
     "name": "stdout",
     "output_type": "stream",
     "text": [
      "慢走 (一小时4公里)\n",
      "你认为这项运动需要消耗多少卡路里？\n",
      "255卡\n",
      "655卡\n",
      "440卡\n",
      "255卡\n",
      "你对了\n",
      "慢跑 (一小时9公里)\n",
      "你认为这项运动需要消耗多少卡路里？\n",
      "255卡\n",
      "655卡\n",
      "440卡\n",
      "655卡\n",
      "你对了\n",
      "羽毛球（一小时）\n",
      "你认为这项运动需要消耗多少卡路里？\n",
      "255卡\n",
      "655卡\n",
      "440卡\n",
      "440卡\n",
      "你对了\n"
     ]
    }
   ],
   "source": [
    "dic_exer={'慢走 (一小时4公里)':'255卡',\n",
    "         '慢跑 (一小时9公里)':'655卡',\n",
    "         '羽毛球（一小时）':'440卡',\n",
    "         }\n",
    "\n",
    "def show_words(dic_exer):\n",
    "    for energy in dic_exer.values():\n",
    "        print(energy)\n",
    "        \n",
    "for sport in dic_exer.keys():\n",
    "    print(\"%s\"%sport)\n",
    "    \n",
    "    correct=False\n",
    "    while not correct:\n",
    "        print(\"你认为这项运动需要消耗多少卡路里？\")\n",
    "        show_words(dic_exer)\n",
    "        guess_words=input(\"\")\n",
    "        \n",
    "        if guess_words==dic_exer[sport]:\n",
    "            print(\"你对了\")\n",
    "            correct=True\n",
    "        else:\n",
    "            print(\"你做错了\")"
   ]
  },
  {
   "cell_type": "code",
   "execution_count": 1,
   "metadata": {
    "collapsed": false
   },
   "outputs": [
    {
     "name": "stdout",
     "output_type": "stream",
     "text": [
      "Dictionary: A collection of key-value pairs.\n",
      "Function: A named set of instructions that defines a set of actions in Python.\n",
      "List: A collection of values that are not connected, but have an order.\n"
     ]
    }
   ],
   "source": [
    "# 对dict来说，输出时不按任何顺序\n",
    "# 可以通过sorted()函数使结果有序输出\n",
    "python_words = {'list': 'A collection of values that are not connected, but have an order.',\n",
    "                'dictionary': 'A collection of key-value pairs.',\n",
    "                'function': 'A named set of instructions that defines a set of actions in Python.',\n",
    "                }\n",
    "\n",
    "for word in sorted(python_words.keys()):\n",
    "    print(\"%s: %s\" % (word.title(), python_words[word]))"
   ]
  },
  {
   "cell_type": "markdown",
   "metadata": {},
   "source": [
    "### 江西最高山\n",
    "\n",
    "[江西最高的十座山]{http://jx.ifeng.com/a/20160628/4693979_0.shtml}\n",
    "\n",
    "请模仿上例，创建包含山名和海拔的dict，并按如下形式循环输出：  \n",
    "“黄岗山海拔2157.8米”"
   ]
  },
  {
   "cell_type": "code",
   "execution_count": 2,
   "metadata": {
    "collapsed": false
   },
   "outputs": [
    {
     "name": "stdout",
     "output_type": "stream",
     "text": [
      "九岭头海拔1794m米\n",
      "五虎岗海拔1891m米\n",
      "军峰山海拔1760.9m米\n",
      "南风面海拔2120.4m米\n",
      "武功山金顶海拔1918.3m米\n",
      "独竖尖海拔2128m米\n",
      "玉京峰海拔1819.9m米\n",
      "过风坳海拔1887m米\n",
      "黄岗山海拔2157.8m米\n",
      "齐云山海拔2061.3m米\n"
     ]
    }
   ],
   "source": [
    "dic_mountains={'军峰山':'1760.9m',\n",
    "               '九岭头':'1794m',\n",
    "               '玉京峰':'1819.9m',\n",
    "               '过风坳':'1887m',\n",
    "               '五虎岗':'1891m',\n",
    "               '武功山金顶':'1918.3m',\n",
    "               '齐云山':'2061.3m',\n",
    "               '南风面':'2120.4m',\n",
    "               '独竖尖':'2128m',\n",
    "               '黄岗山':'2157.8m'}\n",
    "for mountain in sorted(dic_mountains.keys()):\n",
    "    print(\"%s海拔%s米\"%(mountain.title(),dic_mountains[mountain]))\n",
    "    "
   ]
  },
  {
   "cell_type": "markdown",
   "metadata": {},
   "source": [
    "### 为室友打一波广告\n",
    "请参照课件3-dict_set中的cell[15]“卖室友”吧。  \n",
    "第一层dict的key可自选，如身高、爱好、技能等等。\n",
    "并以以下形式循环输出：  \n",
    "我知道的XXX，TA:  \n",
    "身高：160  \n",
    "爱好：吸猫  \n",
    "技能：python  \n",
    "\n",
    "\n",
    "\n"
   ]
  },
  {
   "cell_type": "code",
   "execution_count": 3,
   "metadata": {
    "collapsed": false
   },
   "outputs": [
    {
     "name": "stdout",
     "output_type": "stream",
     "text": [
      "\n",
      "我知道Ly:\n",
      "身高: 158cm\n",
      "爱好: 唱歌\n",
      "技能: 吹笛子\n",
      "\n",
      "我知道Xy:\n",
      "身高: 160cm\n",
      "爱好: 看剧\n",
      "技能: 古筝\n",
      "\n",
      "我知道Ny:\n",
      "身高: 170cm\n",
      "爱好: 运动\n",
      "技能: 英语\n"
     ]
    }
   ],
   "source": [
    "dic_roommates = {'ly': {'身高': '158cm', '爱好': '唱歌', '技能':'吹笛子'},\n",
    "                 'xy': {'身高': '160cm', '爱好': '看剧', '技能':'古筝'},\n",
    "                 'ny': {'身高': '170cm', '爱好': '运动', '技能':'英语'},\n",
    "                 }\n",
    "for name, infor in dic_roommates.items():\n",
    "    print(\"\\n我知道%s:\" % name.title())\n",
    "    print(\"身高: \" + infor['身高'])\n",
    "    print(\"爱好: \" + infor['爱好'])\n",
    "    print(\"技能: \" + infor['技能'])"
   ]
  }
 ],
 "metadata": {
  "kernelspec": {
   "display_name": "Python 3",
   "language": "python",
   "name": "python3"
  },
  "language_info": {
   "codemirror_mode": {
    "name": "ipython",
    "version": 3
   },
   "file_extension": ".py",
   "mimetype": "text/x-python",
   "name": "python",
   "nbconvert_exporter": "python",
   "pygments_lexer": "ipython3",
   "version": "3.6.0"
  },
  "toc": {
   "base_numbering": 1,
   "nav_menu": {},
   "number_sections": true,
   "sideBar": true,
   "skip_h1_title": false,
   "title_cell": "Table of Contents",
   "title_sidebar": "Contents",
   "toc_cell": false,
   "toc_position": {},
   "toc_section_display": true,
   "toc_window_display": false
  }
 },
 "nbformat": 4,
 "nbformat_minor": 2
}
